{
 "cells": [
  {
   "cell_type": "markdown",
   "metadata": {},
   "source": [
    "<h2><font color=\"#004D7F\" size=5>Módulo 1: Modelos múltiples</font></h2>\n",
    "\n",
    "\n",
    "\n",
    "<h1><font color=\"#004D7F\" size=6> 1. Modelos One-vs-Rest y One-vs-One </font></h1>\n",
    "\n",
    "<br><br>\n",
    "<div style=\"text-align: right\">\n",
    "<font color=\"#004D7F\" size=3>Manuel Castillo-Cara</font><br>\n",
    "<font color=\"#004D7F\" size=3>Aprendizaje Automático II</font><br>\n",
    "<font color=\"#004D7F\" size=3>Universidad Nacional de Educación a Distancia</font>\n",
    "\n",
    "</div>"
   ]
  },
  {
   "cell_type": "markdown",
   "metadata": {},
   "source": [
    "---\n",
    "\n",
    "<a id=\"indice\"></a>\n",
    "<h2><font color=\"#004D7F\" size=5>Índice</font></h2>\n",
    "\n",
    "\n",
    "* [1. Clasificadores binarios para clasificación multiclase](#section1)\n",
    "* [2. Uno contra resto para clasificación multiclase](#section2)\n",
    "    * [2.1. Dataset](#section21)\n",
    "    * [2.2. OvR con LoR](#section22)\n",
    "    * [2.3. OvR con Scikit-learn](#section23)\n",
    "    * [2.4. OvR Predicciones](#section24)\n",
    "* [3. Uno contra uno para clasificación multiclase](#section3)\n",
    "    * [3.1. OvO en SVM](#section31)\n",
    "    * [3.2. OvO con Scikit-learn](#section32)\n",
    "    * [3.3. OvO Predicciones](#section33)\n",
    "* [Ejercicios](#sectionEj)"
   ]
  },
  {
   "cell_type": "markdown",
   "metadata": {},
   "source": [
    "---\n",
    "\n",
    "<a id=\"section0\"></a>\n",
    "# <font color=\"#004D7F\">0. Contexto</font>"
   ]
  },
  {
   "cell_type": "markdown",
   "metadata": {},
   "source": [
    "No todos los modelos predictivos de clasificación admiten la clasificación multiclase. Un enfoque para utilizar algoritmos de clasificación binaria para problemas de clasificación de clases múltiples es usar las estrategias One-vs-Rest y One-vs-One. Después de completar este tutorial, sabrá: \n",
    "\n",
    "- Los modelos de clasificación binaria como la LoR y la SVM no admiten la clasificación multiclase de forma nativa y requieren metaestrategias.\n",
    "- La estrategia Uno-vs-Rest divide una clasificación multiclase en un problema de clasificación binaria por clase.\n",
    "- La estrategia One-vs-One divide una clasificación multiclase en un problema de clasificación binaria por cada par de clases."
   ]
  },
  {
   "cell_type": "markdown",
   "metadata": {},
   "source": [
    "---\n",
    "<div style=\"text-align: right\">\n",
    "<a href=\"#indice\"><font size=5><i class=\"fa fa-arrow-circle-up\" aria-hidden=\"true\" style=\"color:#004D7F\"></i></font></a>\n",
    "</div>\n",
    "\n",
    "---"
   ]
  },
  {
   "cell_type": "markdown",
   "metadata": {},
   "source": [
    "<a id=\"section1\"></a>\n",
    "# <font color=\"#004D7F\"> 1. Clasificadores binarios para clasificación multiclase</font>"
   ]
  },
  {
   "cell_type": "markdown",
   "metadata": {},
   "source": [
    "Recordemos los dos tipos de un problema clasificación que se tiene:\n",
    "- Clasificación Binaria: Tareas de clasificación con dos clases.\n",
    "- Clasificación Multiclase: Tareas de clasificación con más de dos clases.\n",
    "\n",
    "Algunos algoritmos están diseñados para problemas de clasificación binaria:\n",
    "- Regresión logística\n",
    "- Perceptrón\n",
    "- Máquinas de vectores de soporte\n",
    "\n",
    "Como tales, no se pueden utilizar para tareas de clasificación multiclase, al menos no directamente. En cambio,\n",
    "se pueden utilizar métodos heurísticos para dividir un problema de clasificación multiclase en múltiples conjuntos de datos de clasificación binaria y entrenar un modelo de clasificación binaria para cada uno. Dos ejemplos de estos métodos heurísticos incluyen:\n",
    "- Uno contra el resto (OvR)\n",
    "- Uno contra uno (OvO)\n",
    "\n",
    "<figure>\n",
    "  <img src=\"datos/multiclass.png\" width=\"350\" height=\"350\" alt=\"Gráfica\">\n",
    "  <figcaption><blockquote>Gráfico con los diferentes algoritmos multiclase y multioutput en Sklearn. Extraída de la documentación de Scikit-learn</blockquote></figcaption>\n",
    "</figure>\n"
   ]
  },
  {
   "cell_type": "markdown",
   "metadata": {},
   "source": [
    "<div class=\"alert alert-block alert-info\">\n",
    "    \n",
    "<i class=\"fa fa-info-circle\" aria-hidden=\"true\"></i> __Más información__: Las diferentes clases para poder utilizar multiclase en scikit-learn se encuentran detalladas en la misma página de información de la librería. [Pulse aquí](https://qu4nt.github.io/sklearn-doc-es/modules/multiclass.html)\n",
    "</div>"
   ]
  },
  {
   "cell_type": "markdown",
   "metadata": {},
   "source": [
    "---\n",
    "<div style=\"text-align: right\">\n",
    "<a href=\"#indice\"><font size=5><i class=\"fa fa-arrow-circle-up\" aria-hidden=\"true\" style=\"color:#004D7F\"></i></font></a>\n",
    "</div>\n",
    "\n",
    "---"
   ]
  },
  {
   "cell_type": "markdown",
   "metadata": {},
   "source": [
    "<a id=\"section2\"></a> \n",
    "# <font color=\"#004D7F\"> 2. Uno contra resto para clasificación multiclase </font>"
   ]
  },
  {
   "cell_type": "markdown",
   "metadata": {},
   "source": [
    "One-vs-Rest (OvR)es un método heurístico que\n",
    "- Implica dividir el conjunto de datos multiclase en múltiples problemas de clasificación binaria.\n",
    "- Luego se entrena un clasificador binario en cada problema de clasificación binaria y\n",
    "- Se realizan predicciones utilizando el modelo que tenga más confianza. \n",
    "\n",
    "Por ejemplo, dado un problema de clasificación multiclase con ejemplos para cada clase rojo, azul y verde:\n",
    "- Problema de clasificación binaria 1: rojo versus [azul, verde]\n",
    "- Problema de clasificación binaria 2: azul versus [rojo, verde]\n",
    "- Problema de clasificación binaria 3: verde versus [rojo, azul]"
   ]
  },
  {
   "cell_type": "markdown",
   "metadata": {},
   "source": [
    "<div class=\"alert alert-block alert-info\">\n",
    "    \n",
    "<i class=\"fa fa-info-circle\" aria-hidden=\"true\"></i> __Desventaja__: requiere la creación de un modelo para cada clase (tres clases requieren tres modelos). Esto podría ser un problema para conjuntos de datos grandes (por ejemplo, millones de filas), modelos lentos (por ejemplo, SVM) o números muy grandes de clases (por ejemplo, cientos de clases). \n",
    "</div>"
   ]
  },
  {
   "cell_type": "markdown",
   "metadata": {},
   "source": [
    "<a id=\"section21\"></a> \n",
    "## <font color=\"#004D7F\"> 2.1. Dataset </font>"
   ]
  },
  {
   "cell_type": "markdown",
   "metadata": {},
   "source": [
    "Como tal, la implementación de estos algoritmos en la biblioteca scikit-learn implementa la estrategia OvR de forma predeterminada cuando se utilizan estos algoritmos para la clasificación multiclase. \n",
    "1. Primero, definamos un conjunto de datos de clasificación multiclase sintético que podamos usar como base de la exploración.\n",
    "2. Podemos usar la función `make_classification()` para definir un problema de clasificación multiclase con 1000 ejemplos, 10 características de entrada y 3 clases. "
   ]
  },
  {
   "cell_type": "code",
   "execution_count": 1,
   "metadata": {},
   "outputs": [
    {
     "name": "stdout",
     "output_type": "stream",
     "text": [
      "(1000, 10) (1000,)\n",
      "Counter({1: 334, 2: 334, 0: 332})\n"
     ]
    }
   ],
   "source": [
    "# multi-class classification dataset\n",
    "from sklearn.datasets import make_classification\n",
    "from collections import Counter\n",
    "# define dataset\n",
    "X, y = make_classification(n_samples=1000, n_features=10, n_informative=5, n_redundant=5, n_classes=3, random_state=1)\n",
    "# summarize the dataset\n",
    "print(X.shape, y.shape)\n",
    "# summarize the number of examples in each class\n",
    "print(Counter(y))"
   ]
  },
  {
   "cell_type": "markdown",
   "metadata": {},
   "source": [
    "<a id=\"section22\"></a> \n",
    "## <font color=\"#004D7F\"> 2.2. OvR con LoR </font>"
   ]
  },
  {
   "cell_type": "markdown",
   "metadata": {},
   "source": [
    "A continuación, podemos demostrar la estrategia incorporada del algoritmo de clasificación binaria `LogisticRegression` para manejar más de dos clases. \n",
    "1. La estrategia para manejar la clasificación multiclase se puede establecer mediante el argumento `multi_class = \"ovr\"` para la estrategia OvR. \n",
    "2. El modelo se evaluará mediante una validación cruzada estratificada repetida de _k_ veces con 3 repeticiones y 10 veces."
   ]
  },
  {
   "cell_type": "markdown",
   "metadata": {},
   "source": [
    "<div class=\"alert alert-block alert-info\">\n",
    "    \n",
    "<i class=\"fa fa-info-circle\" aria-hidden=\"true\"></i> Más información sobre la clase [`LogisticRegression`](https://scikit-learn.org/stable/modules/generated/sklearn.linear_model.LogisticRegression.html) \n",
    "</div>"
   ]
  },
  {
   "cell_type": "code",
   "execution_count": 2,
   "metadata": {},
   "outputs": [
    {
     "name": "stdout",
     "output_type": "stream",
     "text": [
      "Avg accuracy: 0.686 (0.036)\n"
     ]
    }
   ],
   "source": [
    "from numpy import mean\n",
    "from numpy import std\n",
    "from sklearn.model_selection import cross_val_score\n",
    "from sklearn.model_selection import RepeatedStratifiedKFold\n",
    "from sklearn.linear_model import LogisticRegression\n",
    "\n",
    "model = LogisticRegression(multi_class='ovr')\n",
    "cv = RepeatedStratifiedKFold(n_splits=10, n_repeats=3, random_state=1)\n",
    "n_scores = cross_val_score(model, X, y, scoring='accuracy', cv=cv, n_jobs=-1)\n",
    "print('Avg accuracy: %.3f (%.3f)' % (mean(n_scores), std(n_scores)))"
   ]
  },
  {
   "cell_type": "markdown",
   "metadata": {},
   "source": [
    "<div class=\"alert alert-block alert-info\">\n",
    "    \n",
    "<i class=\"fa fa-info-circle\" aria-hidden=\"true\"></i> __Nota__: Sus resultados pueden variar dada la naturaleza estocástica del algoritmo o procedimiento de evaluación, o diferencias en la precisión numérica. Considere ejecutar el ejemplo varias veces y comparar el resultado promedio.\n",
    "</div>"
   ]
  },
  {
   "cell_type": "markdown",
   "metadata": {},
   "source": [
    "<a id=\"section23\"></a> \n",
    "## <font color=\"#004D7F\"> 2.3. OvR con Scikit-learn </font>"
   ]
  },
  {
   "cell_type": "markdown",
   "metadata": {},
   "source": [
    "La biblioteca scikit-learn también proporciona una clase `OneVsRestClassifier`. \n",
    "- Se puede utilizar para aprovechar un clasificador binario (e.g., LoR o MLP) para la clasificación multiclase\n",
    "- O incluso otros clasificadores que admitan de forma nativa la clasificación multiclase.\n",
    "- Se tiene que proporcionar a `OneVsRestClassifier` un clasificadorcomo argumento. "
   ]
  },
  {
   "cell_type": "markdown",
   "metadata": {},
   "source": [
    "<div class=\"alert alert-block alert-info\">\n",
    "    \n",
    "<i class=\"fa fa-info-circle\" aria-hidden=\"true\"></i> Más información sobre la clase [`OneVsRestClassifier`](https://scikit-learn.org/stable/modules/generated/sklearn.multiclass.OneVsRestClassifier.html) \n",
    "</div>"
   ]
  },
  {
   "cell_type": "code",
   "execution_count": 3,
   "metadata": {},
   "outputs": [
    {
     "name": "stdout",
     "output_type": "stream",
     "text": [
      "Avg accuracy: 0.686 (0.036)\n"
     ]
    }
   ],
   "source": [
    "from sklearn.multiclass import OneVsRestClassifier\n",
    "\n",
    "model = LogisticRegression()\n",
    "ovr = OneVsRestClassifier(model)\n",
    "cv = RepeatedStratifiedKFold(n_splits=10, n_repeats=3, random_state=1)\n",
    "n_scores = cross_val_score(ovr, X, y, scoring='accuracy', cv=cv, n_jobs=-1)\n",
    "print('Avg accuracy: %.3f (%.3f)' % (mean(n_scores), std(n_scores)))"
   ]
  },
  {
   "cell_type": "markdown",
   "metadata": {},
   "source": [
    "<div class=\"alert alert-block alert-info\">\n",
    "    \n",
    "<i class=\"fa fa-info-circle\" aria-hidden=\"true\"></i> __Nota__: Sus resultados pueden variar dada la naturaleza estocástica del algoritmo o procedimiento de evaluación, o diferencias en la precisión numérica. Considere ejecutar el ejemplo varias veces y comparar el resultado promedio.\n",
    "</div>"
   ]
  },
  {
   "cell_type": "markdown",
   "metadata": {},
   "source": [
    "<a id=\"section24\"></a> \n",
    "## <font color=\"#004D7F\"> 2.4. OvR Predicciones </font>"
   ]
  },
  {
   "cell_type": "markdown",
   "metadata": {},
   "source": [
    "También podemos utilizar la clase contenedora `OneVsRestClassifier` como modelo final y hacer predicciones. Para ello hay que llamar a la función `predict()` en nuevos datos. "
   ]
  },
  {
   "cell_type": "code",
   "execution_count": 4,
   "metadata": {},
   "outputs": [
    {
     "data": {
      "text/plain": [
       "array([ 1.62938294, -2.06916481,  0.81821172, -0.14754164,  0.09710822,\n",
       "       -1.90502517, -0.10581739, -0.74460443, -1.4203441 , -0.86360262])"
      ]
     },
     "execution_count": 4,
     "metadata": {},
     "output_type": "execute_result"
    }
   ],
   "source": [
    "X[100]"
   ]
  },
  {
   "cell_type": "code",
   "execution_count": 5,
   "metadata": {},
   "outputs": [
    {
     "name": "stdout",
     "output_type": "stream",
     "text": [
      "Predicted Class: 0\n"
     ]
    }
   ],
   "source": [
    "model = LogisticRegression()\n",
    "ovr = OneVsRestClassifier(model)\n",
    "ovr.fit(X, y)\n",
    "row = [ 1.62938294, -2.06916481,  0.81821172, -0.14754164,  0.09710822,\n",
    "       -1.90502517, -0.10581739, -0.74460443, -1.4203441 , -0.86360262]\n",
    "predicted = ovr.predict([row])\n",
    "print('Predicted Class: %d' % predicted)"
   ]
  },
  {
   "cell_type": "markdown",
   "metadata": {},
   "source": [
    "---\n",
    "<div style=\"text-align: right\">\n",
    "<a href=\"#indice\"><font size=5><i class=\"fa fa-arrow-circle-up\" aria-hidden=\"true\" style=\"color:#004D7F\"></i></font></a>\n",
    "</div>\n",
    "\n",
    "---"
   ]
  },
  {
   "cell_type": "markdown",
   "metadata": {},
   "source": [
    "<a id=\"section3\"></a> \n",
    "# <font color=\"#004D7F\"> 3. Uno contra uno para clasificación multiclase</font>"
   ]
  },
  {
   "cell_type": "markdown",
   "metadata": {},
   "source": [
    "Al igual que One-vs-Rest, One-vs-One (OvO) divide un conjunto de datos de clasificación multiclase en problemas de clasificación binaria. \n",
    "- One-vs-Rest lo divide en un conjunto de datos binarios para cada clase\n",
    "- One-vs-One divide el conjunto de datos para cada clase frente a todas las demás clases. \n",
    "\n",
    "Por ejemplo, considere un problema de clasificación multiclase con cuatro clases: roja, azul y verde, amarilla, sería:\n",
    "- Problema de clasificación binaria 1: rojo versus azul\n",
    "- Problema de clasificación binaria 2: rojo versus verde\n",
    "- Problema de clasificación binaria 3: rojo versus amarillo\n",
    "- Problema de clasificación binaria 4: azul versus verde\n",
    "- Problema de clasificación binaria 5: azul versus amarillo\n",
    "- Problema de clasificación binaria 6: verde versus amarillo"
   ]
  },
  {
   "cell_type": "markdown",
   "metadata": {},
   "source": [
    "<a id=\"section31\"></a> \n",
    "## <font color=\"#004D7F\"> 3.1. OvO en SVM</font>"
   ]
  },
  {
   "cell_type": "markdown",
   "metadata": {},
   "source": [
    "- De manera similar, la clase con la puntuación total más grande se predice como la etiqueta de clase. \n",
    "- `SVC` admite el método OvO para problemas de clasificación multiclase.\n",
    "- Esto se puede lograr estableciendo el argumento `decision_function_shape='ovo'`. "
   ]
  },
  {
   "cell_type": "markdown",
   "metadata": {},
   "source": [
    "<div class=\"alert alert-block alert-info\">\n",
    "    \n",
    "<i class=\"fa fa-info-circle\" aria-hidden=\"true\"></i> Más información sobre la clase [`SVC`](https://scikit-learn.org/stable/modules/generated/sklearn.svm.SVC.html) \n",
    "</div>"
   ]
  },
  {
   "cell_type": "code",
   "execution_count": 6,
   "metadata": {},
   "outputs": [
    {
     "name": "stdout",
     "output_type": "stream",
     "text": [
      "Avg accuracy: 0.871 (0.028)\n"
     ]
    }
   ],
   "source": [
    "from sklearn.svm import SVC\n",
    "\n",
    "model = SVC(decision_function_shape = 'ovo')\n",
    "cv = RepeatedStratifiedKFold(n_splits=10, n_repeats=3, random_state=1)\n",
    "n_scores = cross_val_score(model, X, y, scoring='accuracy', cv=cv, n_jobs=-1)\n",
    "print('Avg accuracy: %.3f (%.3f)' % (mean(n_scores), std(n_scores)))"
   ]
  },
  {
   "cell_type": "markdown",
   "metadata": {},
   "source": [
    "<div class=\"alert alert-block alert-info\">\n",
    "    \n",
    "<i class=\"fa fa-info-circle\" aria-hidden=\"true\"></i> __Nota__: Sus resultados pueden variar dada la naturaleza estocástica del algoritmo o procedimiento de evaluación, o diferencias en la precisión numérica. Considere ejecutar el ejemplo varias veces y comparar el resultado promedio.\n",
    "</div>"
   ]
  },
  {
   "cell_type": "markdown",
   "metadata": {},
   "source": [
    "<a id=\"section32\"></a> \n",
    "## <font color=\"#004D7F\"> 3.2. OvO con Scikit-learn </font>"
   ]
  },
  {
   "cell_type": "markdown",
   "metadata": {},
   "source": [
    "- La clase `OneVsOneClassifier` se puede utilizar con un clasificador binario como SVM, Regresión logística o Perceptron para clasificación multiclase.\n",
    "- O incluso con otros clasificadores que admitan de forma nativa la clasificación multiclase. \n",
    "- `OneVsOneClassifier` requiere un clasificador como argumento. "
   ]
  },
  {
   "cell_type": "markdown",
   "metadata": {},
   "source": [
    "<div class=\"alert alert-block alert-info\">\n",
    "    \n",
    "<i class=\"fa fa-info-circle\" aria-hidden=\"true\"></i> Más información sobre la clase [`OneVsOneClassifier`](https://scikit-learn.org/stable/modules/generated/sklearn.multiclass.OneVsOneClassifier.html) \n",
    "</div>"
   ]
  },
  {
   "cell_type": "code",
   "execution_count": 7,
   "metadata": {},
   "outputs": [
    {
     "name": "stdout",
     "output_type": "stream",
     "text": [
      "Avg accuracy: 0.872 (0.030)\n"
     ]
    }
   ],
   "source": [
    "from sklearn.multiclass import OneVsOneClassifier\n",
    "\n",
    "model = SVC()\n",
    "ovo = OneVsOneClassifier(model)\n",
    "cv = RepeatedStratifiedKFold(n_splits=10, n_repeats=3, random_state=1)\n",
    "n_scores = cross_val_score(ovo, X, y, scoring='accuracy', cv=cv, n_jobs=-1)\n",
    "print('Avg accuracy: %.3f (%.3f)' % (mean(n_scores), std(n_scores)))"
   ]
  },
  {
   "cell_type": "markdown",
   "metadata": {},
   "source": [
    "<div class=\"alert alert-block alert-info\">\n",
    "    \n",
    "<i class=\"fa fa-info-circle\" aria-hidden=\"true\"></i> __Nota__: Sus resultados pueden variar dada la naturaleza estocástica del algoritmo o procedimiento de evaluación, o diferencias en la precisión numérica. Considere ejecutar el ejemplo varias veces y comparar el resultado promedio.\n",
    "</div>"
   ]
  },
  {
   "cell_type": "markdown",
   "metadata": {},
   "source": [
    "<a id=\"section33\"></a> \n",
    "## <font color=\"#004D7F\"> 3.3. OvO Predicciones </font>"
   ]
  },
  {
   "cell_type": "markdown",
   "metadata": {},
   "source": [
    "`OneVsOneClassifier` se puede usar como modelo final y hacer predicciones para la clasificación mediante la función `predict()`. "
   ]
  },
  {
   "cell_type": "code",
   "execution_count": 8,
   "metadata": {},
   "outputs": [
    {
     "name": "stdout",
     "output_type": "stream",
     "text": [
      "Predicted Class: 0\n"
     ]
    }
   ],
   "source": [
    "from sklearn.multiclass import OneVsOneClassifier\n",
    "\n",
    "model = SVC()\n",
    "ovo = OneVsOneClassifier(model)\n",
    "ovo.fit(X, y)\n",
    "row = [ 1.62938294, -2.06916481,  0.81821172, -0.14754164,  0.09710822,\n",
    "       -1.90502517, -0.10581739, -0.74460443, -1.4203441 , -0.86360262]\n",
    "predicted = ovo.predict([row])\n",
    "print('Predicted Class: %d' % predicted)"
   ]
  },
  {
   "cell_type": "markdown",
   "metadata": {},
   "source": [
    "---\n",
    "<div style=\"text-align: right\">\n",
    "<a href=\"#indice\"><font size=5><i class=\"fa fa-arrow-circle-up\" aria-hidden=\"true\" style=\"color:#004D7F\"></i></font></a>\n",
    "</div>\n",
    "\n",
    "---"
   ]
  },
  {
   "cell_type": "markdown",
   "metadata": {},
   "source": [
    "<a id=\"sectionEj\"></a>\n",
    "<h3><font color=\"#004D7F\" size=6> <i class=\"fa fa-pencil-square-o\" aria-hidden=\"true\" style=\"color:#113D68\"></i> Ejercicios</font></h3>"
   ]
  },
  {
   "cell_type": "markdown",
   "metadata": {},
   "source": [
    "Se proponen las siguientes actividades para consolidar el aprendizaje."
   ]
  },
  {
   "cell_type": "markdown",
   "metadata": {},
   "source": [
    "# <font color=\"#004D7F\" size=5>Ejercicio 1</font>\n",
    "__Hiperparámetros__. ¿Qué otros hiperparámetros se pueden utilizar? Indaga y descubra más hiperparámetros y evalúe su uso."
   ]
  },
  {
   "cell_type": "markdown",
   "metadata": {},
   "source": [
    "### OneVsOneClassifier y OneVsRestClassifier\n",
    "\n",
    "En el caso de `OneVsOneClassifier` y `OneVsRestClassifier` se podría añadir el siguiente hiperparámetro:\n",
    "- `n_jobs` : El número de trabajos a usar para la computación en paralelo. None significa 1, y -1 significa usar todos los procesadores disponibles.\n",
    "\n",
    "Además, en `OneVsRestClassifier` se puede usa también el hiperparámetro `verbose`.\n",
    "\n",
    "Ninguno de ellos debería afectar el rendimiento del modelo.\n",
    "\n",
    "### SVC\n",
    "\n",
    "En `SVC` estos son los hiperparámetros principales. En negrita los más relevantes para el estudio:\n",
    "- **`C`**: Parámetro de regularización. La fuerza de la regularización es inversamente proporcional a C. Un valor más pequeño especifica una regularización más fuerte.\n",
    "- `kerne`l: Especifica el tipo de kernel a usar en el algoritmo. Los valores posibles son `'linear'`, `'poly'`, `'rbf'`, `'sigmoid'`, y `'precomputed'`.\n",
    "- **`degree`**: Grado del kernel polinómico (solo se usa si `kernel='poly'`).\n",
    "- **`gamma`**: Coeficiente del kernel para los kernels `'rbf'`, `'poly'` y `'sigmoid'`. Puede ser `'scale'`, `'auto'` o un valor flotante.\n",
    "- `coef0`: Término independiente en el kernel. Solo es significativo en los kernels `'poly'` y `'sigmoid'`.\n",
    "- `shrinking`: Si se debe usar la heurística de reducción. Es un valor booleano.\n",
    "- **`probability`**: Si se deben habilitar las estimaciones de probabilidad. Esto debe habilitarse antes de llamar a fit.\n",
    "- `tol`: Tolerancia para el criterio de parada.\n",
    "- `cache_size`: Especifica el tamaño de la caché del kernel (en MB).\n",
    "- **`class_weight`**: Peso asociado a cada clase. Puede ser un diccionario o `'balanced'`.\n",
    "- `verbose`: Nivel de verbosidad. Si es mayor que 0, se imprimen mensajes de progreso.\n",
    "- `max_iter`: Número máximo de iteraciones. Si es -1, no hay límite.\n",
    "- **`decision_function_shape`**: Forma de la función de decisión. Puede ser `'ovr'` (uno contra el resto) o `'ovo'` (uno contra uno).\n",
    "- **`break_ties`**: Si se deben romper los empates en la predicción. Solo es relevante si `decision_function_shape='ovr'`.\n",
    "- `random_state`: Controla la aleatoriedad del clasificador\n",
    "\n",
    "### Hiperparámetros de Logistic Regression (LoR)\n",
    "\n",
    "En `LoR` estos son los hiperparámetros principales. En negrita los más relevantes para el estudio:\n",
    "\n",
    "1. **penalty**: Especifica la norma de la penalización. Puede ser `'l1'`, `'l2'`, `'elasticnet'` o `None`. La penalización `'l2'` es la opción predeterminada.\n",
    "2. **dual**: Booleano que indica si se debe usar la formulación dual. Solo se implementa para la penalización `'l2'` con el solver `liblinear`.\n",
    "3. **tol**: Tolerancia para el criterio de parada.\n",
    "4. **C**: Inverso de la fuerza de regularización; debe ser un flotante positivo. Valores más pequeños especifican una regularización más fuerte.\n",
    "5. **fit_intercept**: Booleano que indica si se debe agregar una constante (intercepto) a la función de decisión.\n",
    "6. **intercept_scaling**: Solo útil cuando se usa el solver `liblinear` y `fit_intercept` es `True`. Escala el intercepto.\n",
    "7. **`class_weight`**: Peso asociado a cada clase. Puede ser un diccionario o `'balanced'`.\n",
    "8. **random_state**: Controla la aleatoriedad del clasificador.\n",
    "9. **solver**: Algoritmo a usar en el problema de optimización. Puede ser `'newton-cg'`, `'lbfgs'`, `'liblinear'`, `'sag'` o `'saga'`.\n",
    "10. **max_iter**: Número máximo de iteraciones para los solvers de convergencia.\n",
    "11. **`multi_class`**: Especifica si se debe usar `'ovr'` (uno contra el resto) o `'multinomial'` para problemas multiclase.\n",
    "12. **verbose**: Nivel de verbosidad. Si es mayor que 0, se imprimen mensajes de progreso.\n",
    "13. **warm_start**: Si se debe reutilizar la solución de la llamada anterior para ajustar el modelo.\n",
    "14. **n_jobs**: Número de trabajos a usar para la computación en paralelo. `None` significa 1, y `-1` significa usar todos los procesadores disponibles.\n",
    "15. **l1_ratio**: La mezcla de penalización L1 y L2. Solo se usa si `penalty='elasticnet'`."
   ]
  },
  {
   "cell_type": "markdown",
   "metadata": {},
   "source": [
    "# <font color=\"#004D7F\" size=5>Ejercicio 2</font>\n",
    "__Más conjuntos de datos__. Busque un dataset original y verdadero (que no sea sintético) y evalúe el uso de los conceptos vistos en esta unidad. Los conjuntos de datos en pueden ser obtenidos del [repositorio de aprendizaje automático de UCI](https://archive.ics.uci.edu/)."
   ]
  },
  {
   "cell_type": "code",
   "execution_count": 9,
   "metadata": {},
   "outputs": [
    {
     "name": "stdout",
     "output_type": "stream",
     "text": [
      "['alcohol', 'malic_acid', 'ash', 'alcalinity_of_ash', 'magnesium', 'total_phenols', 'flavanoids', 'nonflavanoid_phenols', 'proanthocyanins', 'color_intensity', 'hue', 'od280/od315_of_diluted_wines', 'proline']\n",
      "['class_0' 'class_1' 'class_2']\n",
      "(178, 13)\n",
      "(178,)\n"
     ]
    }
   ],
   "source": [
    "from sklearn.datasets import load_wine\n",
    "\n",
    "# Cargar el dataset\n",
    "data = load_wine()\n",
    "\n",
    "# Ver las características del dataset\n",
    "print(data.feature_names)\n",
    "\n",
    "# Ver las etiquetas del dataset\n",
    "print(data.target_names)\n",
    "\n",
    "# Acceder a los datos y las etiquetas\n",
    "X = data.data\n",
    "y = data.target\n",
    "\n",
    "# Imprimir la forma de los datos y las etiquetas\n",
    "print(X.shape)\n",
    "print(y.shape)"
   ]
  },
  {
   "cell_type": "markdown",
   "metadata": {},
   "source": [
    "### OvR con LoR"
   ]
  },
  {
   "cell_type": "code",
   "execution_count": 10,
   "metadata": {},
   "outputs": [
    {
     "name": "stdout",
     "output_type": "stream",
     "text": [
      "Avg accuracy: 0.953 (0.053)\n"
     ]
    }
   ],
   "source": [
    "model = LogisticRegression(multi_class='ovr')\n",
    "cv = RepeatedStratifiedKFold(n_splits=10, n_repeats=3, random_state=1)\n",
    "n_scores = cross_val_score(model, X, y, scoring='accuracy', cv=cv, n_jobs=-1)\n",
    "print('Avg accuracy: %.3f (%.3f)' % (mean(n_scores), std(n_scores)))"
   ]
  },
  {
   "cell_type": "markdown",
   "metadata": {},
   "source": [
    "### OvR con OneVsRestClassifier"
   ]
  },
  {
   "cell_type": "code",
   "execution_count": 11,
   "metadata": {},
   "outputs": [
    {
     "name": "stdout",
     "output_type": "stream",
     "text": [
      "Avg accuracy: 0.953 (0.053)\n"
     ]
    }
   ],
   "source": [
    "model = LogisticRegression()\n",
    "ovr = OneVsRestClassifier(model)\n",
    "cv = RepeatedStratifiedKFold(n_splits=10, n_repeats=3, random_state=1)\n",
    "n_scores = cross_val_score(ovr, X, y, scoring='accuracy', cv=cv, n_jobs=-1)\n",
    "print('Avg accuracy: %.3f (%.3f)' % (mean(n_scores), std(n_scores)))"
   ]
  },
  {
   "cell_type": "markdown",
   "metadata": {},
   "source": [
    "Para hacer predicciones:"
   ]
  },
  {
   "cell_type": "code",
   "execution_count": 12,
   "metadata": {},
   "outputs": [
    {
     "data": {
      "text/plain": [
       "0"
      ]
     },
     "execution_count": 12,
     "metadata": {},
     "output_type": "execute_result"
    }
   ],
   "source": [
    "y[3]"
   ]
  },
  {
   "cell_type": "code",
   "execution_count": 13,
   "metadata": {},
   "outputs": [
    {
     "name": "stdout",
     "output_type": "stream",
     "text": [
      "Predicted Class: 0\n"
     ]
    }
   ],
   "source": [
    "model = LogisticRegression(max_iter=1000)\n",
    "ovr = OneVsRestClassifier(model)\n",
    "ovr.fit(X, y)\n",
    "row = X[5]\n",
    "predicted = ovr.predict([row])\n",
    "print('Predicted Class: %d' % predicted)"
   ]
  },
  {
   "cell_type": "markdown",
   "metadata": {},
   "source": [
    "### OvO con SVC"
   ]
  },
  {
   "cell_type": "code",
   "execution_count": 14,
   "metadata": {},
   "outputs": [
    {
     "name": "stdout",
     "output_type": "stream",
     "text": [
      "Avg accuracy: 0.687 (0.096)\n"
     ]
    }
   ],
   "source": [
    "model = SVC(decision_function_shape = 'ovo')\n",
    "cv = RepeatedStratifiedKFold(n_splits=10, n_repeats=3, random_state=1)\n",
    "n_scores = cross_val_score(model, X, y, scoring='accuracy', cv=cv, n_jobs=-1)\n",
    "print('Avg accuracy: %.3f (%.3f)' % (mean(n_scores), std(n_scores)))"
   ]
  },
  {
   "cell_type": "markdown",
   "metadata": {},
   "source": [
    "### OvO con OneVsOneClassifier"
   ]
  },
  {
   "cell_type": "code",
   "execution_count": 15,
   "metadata": {
    "scrolled": true
   },
   "outputs": [
    {
     "name": "stdout",
     "output_type": "stream",
     "text": [
      "Avg accuracy: 0.710 (0.097)\n"
     ]
    }
   ],
   "source": [
    "model = SVC()\n",
    "ovo = OneVsOneClassifier(model)\n",
    "cv = RepeatedStratifiedKFold(n_splits=10, n_repeats=3, random_state=1)\n",
    "n_scores = cross_val_score(ovo, X, y, scoring='accuracy', cv=cv, n_jobs=-1)\n",
    "print('Avg accuracy: %.3f (%.3f)' % (mean(n_scores), std(n_scores)))"
   ]
  },
  {
   "cell_type": "markdown",
   "metadata": {},
   "source": [
    "Para hacer predicciones:"
   ]
  },
  {
   "cell_type": "code",
   "execution_count": 16,
   "metadata": {},
   "outputs": [
    {
     "data": {
      "text/plain": [
       "1"
      ]
     },
     "execution_count": 16,
     "metadata": {},
     "output_type": "execute_result"
    }
   ],
   "source": [
    "y[100]"
   ]
  },
  {
   "cell_type": "code",
   "execution_count": 17,
   "metadata": {},
   "outputs": [
    {
     "name": "stdout",
     "output_type": "stream",
     "text": [
      "Predicted Class: 1\n"
     ]
    }
   ],
   "source": [
    "model = SVC()\n",
    "ovo = OneVsRestClassifier(model)\n",
    "ovo.fit(X, y)\n",
    "row = X[100]\n",
    "predicted = ovo.predict([row])\n",
    "print('Predicted Class: %d' % predicted)"
   ]
  },
  {
   "cell_type": "markdown",
   "metadata": {},
   "source": [
    "# <font color=\"#004D7F\" size=5>Ejercicio 3</font>\n",
    "__Clasificadores__. Evalué todo los ejercicios anteriores con el uso de clasificadores distintos a los vistos en la unidad, i.e., diferentes a LoR, CART y NB."
   ]
  },
  {
   "cell_type": "markdown",
   "metadata": {},
   "source": [
    "### GaussianProcessClassifier\n",
    "Vamos a probar los ejercicios haciendo uso de `GaussianProcessClassifier` y el dataset del Vino"
   ]
  },
  {
   "cell_type": "code",
   "execution_count": 18,
   "metadata": {},
   "outputs": [],
   "source": [
    "from sklearn.gaussian_process import GaussianProcessClassifier"
   ]
  },
  {
   "cell_type": "markdown",
   "metadata": {},
   "source": [
    "### OvR built-in"
   ]
  },
  {
   "cell_type": "code",
   "execution_count": 20,
   "metadata": {},
   "outputs": [
    {
     "name": "stdout",
     "output_type": "stream",
     "text": [
      "Avg accuracy: 0.510 (0.100)\n"
     ]
    }
   ],
   "source": [
    "model = GaussianProcessClassifier(multi_class='one_vs_rest', n_jobs=-1)\n",
    "cv = RepeatedStratifiedKFold(n_splits=10, n_repeats=3, random_state=1)\n",
    "n_scores = cross_val_score(model, X, y, scoring='accuracy', cv=cv, n_jobs=-1)\n",
    "print('Avg accuracy: %.3f (%.3f)' % (mean(n_scores), std(n_scores)))"
   ]
  },
  {
   "cell_type": "markdown",
   "metadata": {},
   "source": [
    "### OvR OneVersusRestClassifier"
   ]
  },
  {
   "cell_type": "code",
   "execution_count": 22,
   "metadata": {},
   "outputs": [
    {
     "name": "stdout",
     "output_type": "stream",
     "text": [
      "Avg accuracy: 0.510 (0.100)\n"
     ]
    }
   ],
   "source": [
    "model = GaussianProcessClassifier()\n",
    "ovr = OneVsRestClassifier(model)\n",
    "cv = RepeatedStratifiedKFold(n_splits=10, n_repeats=3, random_state=1)\n",
    "n_scores = cross_val_score(ovr, X, y, scoring='accuracy', cv=cv, n_jobs=-1)\n",
    "print('Avg accuracy: %.3f (%.3f)' % (mean(n_scores), std(n_scores)))"
   ]
  },
  {
   "cell_type": "markdown",
   "metadata": {},
   "source": [
    "Precidiendo:"
   ]
  },
  {
   "cell_type": "code",
   "execution_count": 27,
   "metadata": {},
   "outputs": [
    {
     "data": {
      "text/plain": [
       "1"
      ]
     },
     "execution_count": 27,
     "metadata": {},
     "output_type": "execute_result"
    }
   ],
   "source": [
    "y[100]"
   ]
  },
  {
   "cell_type": "code",
   "execution_count": 28,
   "metadata": {},
   "outputs": [
    {
     "name": "stdout",
     "output_type": "stream",
     "text": [
      "Predicted Class: 1\n"
     ]
    }
   ],
   "source": [
    "model = GaussianProcessClassifier()\n",
    "ovr = OneVsRestClassifier(model)\n",
    "ovr.fit(X, y)\n",
    "predicted = ovr.predict([X[100]])\n",
    "print('Predicted Class: %d' % predicted)"
   ]
  },
  {
   "cell_type": "markdown",
   "metadata": {},
   "source": [
    "### OvO built-in"
   ]
  },
  {
   "cell_type": "code",
   "execution_count": 29,
   "metadata": {},
   "outputs": [
    {
     "name": "stdout",
     "output_type": "stream",
     "text": [
      "Avg accuracy: 0.748 (0.106)\n"
     ]
    }
   ],
   "source": [
    "model = GaussianProcessClassifier(multi_class='one_vs_one', n_jobs=-1)\n",
    "cv = RepeatedStratifiedKFold(n_splits=10, n_repeats=3, random_state=1)\n",
    "n_scores = cross_val_score(model, X, y, scoring='accuracy', cv=cv, n_jobs=-1)\n",
    "print('Avg accuracy: %.3f (%.3f)' % (mean(n_scores), std(n_scores)))"
   ]
  },
  {
   "cell_type": "markdown",
   "metadata": {},
   "source": [
    "### OvO OneVersusOneClassifier"
   ]
  },
  {
   "cell_type": "code",
   "execution_count": 31,
   "metadata": {},
   "outputs": [
    {
     "name": "stdout",
     "output_type": "stream",
     "text": [
      "Avg accuracy: 0.748 (0.106)\n"
     ]
    }
   ],
   "source": [
    "model = GaussianProcessClassifier()\n",
    "ovo = OneVsOneClassifier(model)\n",
    "cv = RepeatedStratifiedKFold(n_splits=10, n_repeats=3, random_state=1)\n",
    "n_scores = cross_val_score(ovo, X, y, scoring='accuracy', cv=cv, n_jobs=-1)\n",
    "print('Avg accuracy: %.3f (%.3f)' % (mean(n_scores), std(n_scores)))"
   ]
  },
  {
   "cell_type": "markdown",
   "metadata": {},
   "source": [
    "Precidiendo:"
   ]
  },
  {
   "cell_type": "code",
   "execution_count": 35,
   "metadata": {},
   "outputs": [
    {
     "data": {
      "text/plain": [
       "2"
      ]
     },
     "execution_count": 35,
     "metadata": {},
     "output_type": "execute_result"
    }
   ],
   "source": [
    "y[177]"
   ]
  },
  {
   "cell_type": "code",
   "execution_count": 37,
   "metadata": {},
   "outputs": [
    {
     "name": "stdout",
     "output_type": "stream",
     "text": [
      "Predicted Class: 2\n"
     ]
    }
   ],
   "source": [
    "model = GaussianProcessClassifier()\n",
    "ovo = OneVsOneClassifier(model)\n",
    "ovo.fit(X, y)\n",
    "predicted = ovo.predict([X[177]])\n",
    "print('Predicted Class: %d' % predicted)"
   ]
  },
  {
   "cell_type": "markdown",
   "metadata": {},
   "source": [
    "---\n",
    "\n",
    "<div style=\"text-align: right\">\n",
    "<a href=\"#indice\"><font size=5><i class=\"fa fa-arrow-circle-up\" aria-hidden=\"true\" style=\"color:#004D7F\"></i></font></a>\n",
    "</div>\n",
    "\n",
    "---\n",
    "\n",
    "<div style=\"text-align: right\"> <font size=6><i class=\"fa fa-coffee\" aria-hidden=\"true\" style=\"color:#004D7F\"></i> </font></div>"
   ]
  }
 ],
 "metadata": {
  "kernelspec": {
   "display_name": "Python 3",
   "language": "python",
   "name": "python3"
  },
  "language_info": {
   "codemirror_mode": {
    "name": "ipython",
    "version": 3
   },
   "file_extension": ".py",
   "mimetype": "text/x-python",
   "name": "python",
   "nbconvert_exporter": "python",
   "pygments_lexer": "ipython3",
   "version": "3.7.4"
  }
 },
 "nbformat": 4,
 "nbformat_minor": 4
}
