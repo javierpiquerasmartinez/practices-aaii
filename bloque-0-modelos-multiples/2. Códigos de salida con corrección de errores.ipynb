{
 "cells": [
  {
   "cell_type": "markdown",
   "metadata": {},
   "source": [
    "<h2><font color=\"#004D7F\" size=5>Módulo 1: Modelos múltiples</font></h2>\n",
    "\n",
    "\n",
    "\n",
    "<h1><font color=\"#004D7F\" size=6> 2. Códigos de salida con corrección de errores </font></h1>\n",
    "\n",
    "<br><br>\n",
    "<div style=\"text-align: right\">\n",
    "<font color=\"#004D7F\" size=3>Manuel Castillo-Cara</font><br>\n",
    "<font color=\"#004D7F\" size=3>Aprendizaje Automático II</font><br>\n",
    "<font color=\"#004D7F\" size=3>Universidad Nacional de Educación a Distancia</font>\n",
    "\n",
    "</div>"
   ]
  },
  {
   "cell_type": "markdown",
   "metadata": {},
   "source": [
    "---\n",
    "\n",
    "<a id=\"indice\"></a>\n",
    "<h2><font color=\"#004D7F\" size=5>Índice</font></h2>\n",
    "\n",
    "\n",
    "* [1. Códigos de salida con corrección de errores](#section1)\n",
    "* [2. Evaluar clasificadores ECOC](#section3)\n",
    "    * [2.1. Dataset](#section21)\n",
    "    * [2.2. Evaluación ECOC](#section22)\n",
    "    * [2.3. ECOC Predicciones](#section23)\n",
    "* [3. Ajustar el número de bits por clase](#section3)\n",
    "* [Ejercicios](#sectionEj)"
   ]
  },
  {
   "cell_type": "markdown",
   "metadata": {},
   "source": [
    "---\n",
    "\n",
    "<a id=\"section0\"></a>\n",
    "# <font color=\"#004D7F\">0. Contexto</font>"
   ]
  },
  {
   "cell_type": "markdown",
   "metadata": {},
   "source": [
    "El método de códigos de salida de corrección de errores es una técnica que permite replantear un problema de clasificación multiclase como problemas de clasificación binaria múltiple. A diferencia de los métodos OvR y OvO, la técnica de códigos de salida de corrección de errores permite codificar cada clase como un número arbitrario de problemas de clasificación binaria. Después de completar este tutorial, sabrá:\n",
    "- Los códigos de salida con corrección de errores es una técnica para utilizar modelos de clasificación binaria en clasificación multiclase.\n",
    "- Cómo ajustar, evaluar y utilizar modelos de clasificación con códigos de salida con corrección de errores.\n",
    "- Cómo ajustar y evaluar diferentes valores para el número de bits por hiperparámetro de clase utilizado por códigos de salida con corrección de errores."
   ]
  },
  {
   "cell_type": "markdown",
   "metadata": {},
   "source": [
    "---\n",
    "<div style=\"text-align: right\">\n",
    "<a href=\"#indice\"><font size=5><i class=\"fa fa-arrow-circle-up\" aria-hidden=\"true\" style=\"color:#004D7F\"></i></font></a>\n",
    "</div>\n",
    "\n",
    "---"
   ]
  },
  {
   "cell_type": "markdown",
   "metadata": {},
   "source": [
    "<a id=\"section1\"></a>\n",
    "# <font color=\"#004D7F\"> 1. Códigos de salida con corrección de errores</font>"
   ]
  },
  {
   "cell_type": "markdown",
   "metadata": {},
   "source": [
    "Un enfoque relacionado a OvR y OvO consiste en preparar una codificación binaria (por ejemplo, una cadena de bits) para representar cada clase del problema:\n",
    "- Cada bit de la cadena se puede predecir mediante un problema de clasificación binaria independiente. \n",
    "- Arbitrariamente, se pueden elegir codificaciones de longitud para un problema de clasificación multiclase determinado. \n",
    "- Cada modelo recibe el patrón de entrada completo y solo predice una posición en la cadena de salida. \n",
    "- Durante el entrenamiento, cada modelo se puede entrenar para producir la salida 0 o 1 correcta para la tarea de clasificación binaria. \n",
    "- Luego se puede hacer una predicción para nuevos ejemplos utilizando cada modelo para hacer una predicción de la entrada para crear la cadena binaria y luego comparar la cadena binaria con la codificación conocida de cada clase. \n",
    "- Luego se elige como salida la codificación de clase que tiene la menor distancia a la predicción.\n",
    "\n",
    "<figure><center>\n",
    "  <img src=\"datos/multiclass.png\" width=\"650\" height=\"650\" alt=\"Gráfica\">\n",
    "  <figcaption><blockquote>Gráfico con los diferentes algoritmos multiclase y multioutput en Sklearn. Extraída de la documentación de Scikit-learn</blockquote></figcaption>\n",
    "</center></figure>\n",
    "\n",
    "Es un enfoque interesante que permite que la representación de clases sea más elaborada de lo necesario (quizás sobredeterminada) en comparación con One-hot enconding quee introduce redundancia en la representación y el modelado del problema. Esto es intencional ya que los bits adicionales en la representación actúan como códigos de corrección de errores para arreglar, corregir o mejorar la predicción.\n",
    "\n",
    "```text\n",
    "... la idea es que los bits redundantes de \"corrección de errores\" permitan algunas imprecisiones y puedan mejorar el rendimiento.\n",
    "        -- Página 606, The Elements of Statistical Learning, 2016.\n",
    "```\n",
    "\n",
    "```text\n",
    "Los códigos de salida con corrección de errores (ECOC) son un enfoque simple pero poderoso para abordar un problema de múltiples clases basado en la combinación de clasificadores binarios.\n",
    "        -- Página 90, Ensemble Methods, 2012.\n",
    "```\n",
    "\n",
    "<figure><center>\n",
    "  <img src=\"datos/ECOC.png\" width=\"450\" height=\"450\" alt=\"Gráfica\">\n",
    "  <figcaption><blockquote>Gráfico de cómo sería un modelo ECOC. Extraída del artículo \"Anatomical Pattern Analysis for Decoding Visual Stimuli in Human Brains\"</blockquote></figcaption>\n",
    "</center></figure>"
   ]
  },
  {
   "cell_type": "markdown",
   "metadata": {},
   "source": [
    "<div class=\"alert alert-block alert-info\">\n",
    "    \n",
    "<i class=\"fa fa-info-circle\" aria-hidden=\"true\"></i> __Más información__: Las diferentes clases para poder utilizar multiclase en scikit-learn se encuentran detalladas en la misma página de información de la librería. [Pulse aquí](https://qu4nt.github.io/sklearn-doc-es/modules/multiclass.html)\n",
    "</div>"
   ]
  },
  {
   "cell_type": "markdown",
   "metadata": {},
   "source": [
    "---\n",
    "<div style=\"text-align: right\">\n",
    "<a href=\"#indice\"><font size=5><i class=\"fa fa-arrow-circle-up\" aria-hidden=\"true\" style=\"color:#004D7F\"></i></font></a>\n",
    "</div>\n",
    "\n",
    "---"
   ]
  },
  {
   "cell_type": "markdown",
   "metadata": {},
   "source": [
    "<a id=\"section2\"></a> \n",
    "# <font color=\"#004D7F\"> 2. Evaluar clasificadores ECOC</font>"
   ]
  },
  {
   "cell_type": "markdown",
   "metadata": {},
   "source": [
    "La biblioteca scikit-learn proporciona una implementación de ECOC a través de la clase `OutputCodeClassifier`. \n",
    "- Toma como argumento el modelo a utilizar para ajustar cada clasificador binario, y se puede utilizar cualquier modelo de aprendizaje automático. \n",
    "- También proporciona el argumento `code_size` que especifica el tamaño de la codificación para las clases como un múltiplo del número de clases, i.e., el número de bits a codificar para cada etiqueta de clase.\n",
    "\n",
    "Si queremos una codificación con cadenas de bits con una longitud de 6 bits y tenemos 3 clases, entonces podemos especificar el tamaño de codificación como 2:\n",
    "\n",
    "$$\n",
    "Encoding\\ Lenght = Code\\ Size \\times Total\\ Classes = 2 \\times 3 = 6\n",
    "$$\n",
    "\n",
    "El siguiente ejemplo demuestra cómo definir un ejemplo de `OutputCodeClassifier` con 2 bits por clase y usando un modelo `LogisticRegression` para cada bit en la codificación.\n",
    "\n",
    "```python\n",
    "    ...\n",
    "    # Definir el algoritmo\n",
    "    model = LogisticRegression()\n",
    "    # Definir el modelo ECOC\n",
    "    ecoc = OutputCodeClassifier(model, code_size=2, random_state=1)\n",
    "```"
   ]
  },
  {
   "cell_type": "markdown",
   "metadata": {},
   "source": [
    "<div class=\"alert alert-block alert-info\">\n",
    "    \n",
    "<i class=\"fa fa-info-circle\" aria-hidden=\"true\"></i> __Nota__: Más información sobre la clase [OutputCodeClassifier](https://scikit-learn.org/stable/modules/generated/sklearn.multiclass.OutputCodeClassifier.html).\n",
    "</div>"
   ]
  },
  {
   "cell_type": "markdown",
   "metadata": {},
   "source": [
    "<a id=\"section21\"></a> \n",
    "## <font color=\"#004D7F\"> 2.1. Dataset</font>"
   ]
  },
  {
   "cell_type": "markdown",
   "metadata": {},
   "source": [
    "- La clase `OutputCodeClassifier` selecciona una codificación de cadena de bits aleatoria para cada clase.\n",
    "- Podemos explorar el uso de `OutputCodeClassifier` en un problema de clasificación sintética multiclase.\n",
    "- Usar la función `make_classification()` para definir un problema de clasificación multiclase con 1000 ejemplos, 20 características de entrada y 3 clases. "
   ]
  },
  {
   "cell_type": "code",
   "execution_count": 1,
   "metadata": {},
   "outputs": [
    {
     "name": "stdout",
     "output_type": "stream",
     "text": [
      "(1000, 20) (1000,)\n",
      "Counter({2: 335, 1: 333, 0: 332})\n"
     ]
    }
   ],
   "source": [
    "from collections import Counter\n",
    "from sklearn.datasets import make_classification\n",
    "\n",
    "X, y = make_classification(n_samples=1000, n_features=20, n_informative=15, n_redundant=5, random_state=1, n_classes=3)\n",
    "print(X.shape, y.shape)\n",
    "print(Counter(y))"
   ]
  },
  {
   "cell_type": "markdown",
   "metadata": {},
   "source": [
    "<a id=\"section22\"></a> \n",
    "## <font color=\"#004D7F\"> 2.2. Evaluación ECOC </font>"
   ]
  },
  {
   "cell_type": "markdown",
   "metadata": {},
   "source": [
    "- Usamos una regresión logística con 2 bits por clase como definimos anteriormente. \n",
    "- Evaluamos mediante una validación cruzada estratificada repetida de _k_ veces con 3 repeticiones y 10 pliegues.\n",
    "- Resumiremos el rendimiento del modelo utilizando la media y la desviación estándar del accuracy de la clasificación en todas las repeticiones y pliegues."
   ]
  },
  {
   "cell_type": "code",
   "execution_count": 2,
   "metadata": {},
   "outputs": [
    {
     "data": {
      "text/plain": [
       "array([-1.8681541 , -3.93439979,  4.04775024, -0.91086157, -2.17419471,\n",
       "       -4.17570004,  7.25105149,  2.81917585,  1.24464982, -5.36495357,\n",
       "        1.67203461, -4.30233061, -4.37465073,  1.91899055, -0.15868534,\n",
       "        2.11114792, -8.77453615, -3.69045932,  0.75409695, -2.55639459])"
      ]
     },
     "execution_count": 2,
     "metadata": {},
     "output_type": "execute_result"
    }
   ],
   "source": [
    "X[400]"
   ]
  },
  {
   "cell_type": "code",
   "execution_count": 3,
   "metadata": {},
   "outputs": [
    {
     "name": "stdout",
     "output_type": "stream",
     "text": [
      "Mean Accuracy: 0.766 (0.037)\n"
     ]
    }
   ],
   "source": [
    "from numpy import mean\n",
    "from numpy import std\n",
    "from sklearn.model_selection import cross_val_score\n",
    "from sklearn.model_selection import RepeatedStratifiedKFold\n",
    "from sklearn.linear_model import LogisticRegression\n",
    "from sklearn.multiclass import OutputCodeClassifier\n",
    "\n",
    "# definir el modelo base\n",
    "model = LogisticRegression()\n",
    "# definir el modelo ecoc\n",
    "ecoc = OutputCodeClassifier(model, code_size=2, random_state=1)\n",
    "# definir el procedimiento de evaluación\n",
    "cv = RepeatedStratifiedKFold(n_splits=10, n_repeats=3, random_state=1)\n",
    "# evaluar el modelo y recoger las puntuaciones\n",
    "n_scores = cross_val_score(ecoc, X, y, scoring='accuracy', cv=cv, n_jobs=-1)\n",
    "# resumir el rendimiento\n",
    "print('Mean Accuracy: %.3f (%.3f)' % (mean(n_scores), std(n_scores)))"
   ]
  },
  {
   "cell_type": "markdown",
   "metadata": {},
   "source": [
    "<div class=\"alert alert-block alert-info\">\n",
    "    \n",
    "<i class=\"fa fa-info-circle\" aria-hidden=\"true\"></i> __Nota__: Sus resultados pueden variar dada la naturaleza estocástica del algoritmo o procedimiento de evaluación, o diferencias en la precisión numérica. Considere ejecutar el ejemplo varias veces y comparar el resultado promedio.\n",
    "</div>"
   ]
  },
  {
   "cell_type": "markdown",
   "metadata": {},
   "source": [
    "<a id=\"section23\"></a> \n",
    "## <font color=\"#004D7F\"> 2.3. ECOC Predicciones </font>"
   ]
  },
  {
   "cell_type": "markdown",
   "metadata": {},
   "source": [
    "Ajustemos el modelo a todos los datos disponibles y lo utilicemos para hacer predicciones sobre datos nuevos. "
   ]
  },
  {
   "cell_type": "code",
   "execution_count": 4,
   "metadata": {},
   "outputs": [
    {
     "name": "stdout",
     "output_type": "stream",
     "text": [
      "Clase predicha: 1\n"
     ]
    }
   ],
   "source": [
    "from sklearn.datasets import make_classification\n",
    "from sklearn.linear_model import LogisticRegression\n",
    "from sklearn.multiclass import OutputCodeClassifier\n",
    "\n",
    "# definir el modelo de clasificación binaria\n",
    "model = LogisticRegression()\n",
    "# definir el modelo ecoc\n",
    "ecoc = OutputCodeClassifier(model, code_size=2, random_state=1)\n",
    "# ajustar el modelo a todo el conjunto de datos\n",
    "ecoc.fit(X, y)\n",
    "# hacer una única predicción\n",
    "row = [-1.8681541 , -3.93439979,  4.04775024, -0.91086157, -2.17419471,\n",
    "       -4.17570004,  7.25105149,  2.81917585,  1.24464982, -5.36495357,\n",
    "        1.67203461, -4.30233061, -4.37465073,  1.91899055, -0.15868534,\n",
    "        2.11114792, -8.77453615, -3.69045932,  0.75409695, -2.55639459]\n",
    "yhat = ecoc.predict([row])\n",
    "# imprimir la predicción\n",
    "print('Clase predicha: %d' % yhat[0])"
   ]
  },
  {
   "cell_type": "markdown",
   "metadata": {},
   "source": [
    "---\n",
    "<div style=\"text-align: right\">\n",
    "<a href=\"#indice\"><font size=5><i class=\"fa fa-arrow-circle-up\" aria-hidden=\"true\" style=\"color:#004D7F\"></i></font></a>\n",
    "</div>\n",
    "\n",
    "---"
   ]
  },
  {
   "cell_type": "markdown",
   "metadata": {},
   "source": [
    "<a id=\"section3\"></a> \n",
    "# <font color=\"#004D7F\"> 3. Ajustar el número de bits por clase </font>"
   ]
  },
  {
   "cell_type": "markdown",
   "metadata": {},
   "source": [
    "El hiperparámetro clave para el modelo ECOC es la codificación de etiquetas de clase. Esto incluye propiedades como:\n",
    "- La elección de la representación (bits, números reales, etc.)\n",
    "- La codificación de cada etiqueta de clase (aleatoria, etc.)\n",
    "- La longitud de la representación (número de bits, etc.)\n",
    "- Cómo se asignan las predicciones a las clases (distancia, etc.)\n",
    "\n",
    "La implementación de scikit-learn de `OutputCodeClassifier` actualmente no proporciona mucho control sobre estos elementos. El elemento sobre el que sí da control es el número de bits (`code_size`) utilizados para codificar cada etiqueta de clase.\n",
    "\n",
    "Veamos un ejemplo, podemos realizar un GridSearchCV en diferentes números de bits por etiqueta de clase y comparar los resultados. \n",
    "\n",
    "Primero, podemos definir una función para crear y devolver el conjunto de datos."
   ]
  },
  {
   "cell_type": "markdown",
   "metadata": {},
   "source": [
    "<div class=\"alert alert-block alert-info\">\n",
    "    \n",
    "<i class=\"fa fa-info-circle\" aria-hidden=\"true\"></i> __Nota__: Más información sobre la clase [OutputCodeClassifier](https://scikit-learn.org/stable/modules/generated/sklearn.multiclass.OutputCodeClassifier.html).\n",
    "</div>"
   ]
  },
  {
   "cell_type": "code",
   "execution_count": null,
   "metadata": {},
   "outputs": [],
   "source": [
    "def get_dataset():\n",
    "\tX, y = make_classification(n_samples=1000, n_features=20, n_informative=15, n_redundant=5, random_state=1, n_classes=3)\n",
    "\treturn X, y"
   ]
  },
  {
   "cell_type": "markdown",
   "metadata": {},
   "source": [
    "- Luego podemos definir una función que creará un diccionario de modelos para evaluar.\n",
    "- Cada modelo será un ejemplo de `OutputCodeClassifier` utilizando un `LogisticRegression` para cada problema de clasificación binaria. \n",
    "- Configuraremos `code_size` de cada modelo para que sea diferente, con valores que van del 1 al 20."
   ]
  },
  {
   "cell_type": "code",
   "execution_count": 6,
   "metadata": {},
   "outputs": [],
   "source": [
    "# obtener una lista de modelos para evaluar\n",
    "def get_models():\n",
    "\tmodels = dict()\n",
    "\t# enumerar el número de bits de 1 a 20\n",
    "\tfor i in range(1,21):\n",
    "\t\t# crear modelo\n",
    "\t\tmodel = LogisticRegression(n_jobs=-1)\n",
    "\t\t# crear un clasificador de códigos de salida con corrección de errores\n",
    "\t\tmodels[str(i)] = OutputCodeClassifier(model, code_size=i, random_state=1)\n",
    "\treturn models"
   ]
  },
  {
   "cell_type": "markdown",
   "metadata": {},
   "source": [
    "Podemos evaluar cada modelo utilizando `RepeatedStratifiedKFold` para dar una muestra de puntuaciones de accuracy de clasificación."
   ]
  },
  {
   "cell_type": "code",
   "execution_count": 7,
   "metadata": {},
   "outputs": [],
   "source": [
    "# evaluar un modelo determinado mediante validación cruzada\n",
    "def evaluate_model(model, X, y):\n",
    "\t# definir el procedimiento de evaluación\n",
    "\tcv = RepeatedStratifiedKFold(n_splits=10, n_repeats=3, random_state=1)\n",
    "\t# evaluar el modelo y recoger las puntuaciones\n",
    "\tscores = cross_val_score(model, X, y, scoring='accuracy', cv=cv, n_jobs=-1)\n",
    "\treturn scores"
   ]
  },
  {
   "cell_type": "markdown",
   "metadata": {},
   "source": [
    "Informamos la media y la desviación estándar de las puntuaciones para cada configuración y representamos las distribuciones como Boxplots."
   ]
  },
  {
   "cell_type": "code",
   "execution_count": 8,
   "metadata": {},
   "outputs": [
    {
     "name": "stdout",
     "output_type": "stream",
     "text": [
      ">1 0.545 (0.032)\n",
      ">2 0.766 (0.037)\n",
      ">3 0.776 (0.036)\n",
      ">4 0.769 (0.035)\n",
      ">5 0.782 (0.037)\n",
      ">6 0.780 (0.037)\n",
      ">7 0.776 (0.039)\n",
      ">8 0.775 (0.036)\n",
      ">9 0.782 (0.038)\n",
      ">10 0.779 (0.036)\n",
      ">11 0.770 (0.033)\n",
      ">12 0.777 (0.037)\n",
      ">13 0.781 (0.037)\n",
      ">14 0.779 (0.039)\n",
      ">15 0.771 (0.033)\n",
      ">16 0.769 (0.035)\n",
      ">17 0.785 (0.034)\n",
      ">18 0.776 (0.038)\n",
      ">19 0.776 (0.034)\n",
      ">20 0.780 (0.038)\n"
     ]
    },
    {
     "data": {
      "image/png": "[encoded data removed]",
      "text/plain": [
       "<Figure size 432x288 with 1 Axes>"
      ]
     },
     "metadata": {
      "needs_background": "light"
     },
     "output_type": "display_data"
    }
   ],
   "source": [
    "from numpy import mean\n",
    "from numpy import std\n",
    "from sklearn.datasets import make_classification\n",
    "from sklearn.model_selection import cross_val_score\n",
    "from sklearn.model_selection import RepeatedStratifiedKFold\n",
    "from sklearn.linear_model import LogisticRegression\n",
    "from sklearn.multiclass import OutputCodeClassifier\n",
    "from matplotlib import pyplot\n",
    "\n",
    "# definir conjunto de datos\n",
    "X, y = get_dataset()\n",
    "# obtener los modelos para evaluar\n",
    "models = get_models()\n",
    "# evaluar los modelos y almacenar los resultados\n",
    "results, names = list(), list()\n",
    "for name, model in models.items():\n",
    "\t# evaluar el modelo\n",
    "\tscores = evaluate_model(model, X, y)\n",
    "\t# almacenar las puntuaciones\n",
    "\tresults.append(scores)\n",
    "\tnames.append(name)\n",
    "\t# resumir los resultados a lo largo del camino\n",
    "\tprint('>%s %.3f (%.3f)' % (name, mean(scores), std(scores)))\n",
    "# rendimiento del modelo de trazado para comparación\n",
    "pyplot.boxplot(results, labels=names, showmeans=True)\n",
    "pyplot.show()"
   ]
  },
  {
   "cell_type": "markdown",
   "metadata": {},
   "source": [
    "En este caso, podemos ver que quizás 5 o 6 bits por clase dan como resultado el mejor rendimiento con puntuaciones medias de accuracy informadas de aproximadamente 78,2% y 78,0%, respectivamente. También vemos buenos resultados para 9, 13, 17 y 20 bits por clase, donde quizás 17 bits por clase dan el mejor resultado de alrededor del 78,5 por ciento.\n",
    "\n",
    "Finalmente, se crea una figura Boxplot para las puntuaciones de accuracy para cada configuración del modelo. Podemos ver que, además de un valor de 1, el número de bits por clase ofrece resultados similares en términos de dispersión y puntuaciones accuracy medio que se agrupan alrededor del 77%. Esto sugiere que el enfoque es razonablemente estable en todas las configuraciones."
   ]
  },
  {
   "cell_type": "markdown",
   "metadata": {},
   "source": [
    "<div class=\"alert alert-block alert-info\">\n",
    "    \n",
    "<i class=\"fa fa-info-circle\" aria-hidden=\"true\"></i> __Nota__: Sus resultados pueden variar dada la naturaleza estocástica del algoritmo o procedimiento de evaluación, o diferencias en la precisión numérica. Considere ejecutar el ejemplo varias veces y comparar el resultado promedio.\n",
    "</div>"
   ]
  },
  {
   "cell_type": "markdown",
   "metadata": {},
   "source": [
    "---\n",
    "<div style=\"text-align: right\">\n",
    "<a href=\"#indice\"><font size=5><i class=\"fa fa-arrow-circle-up\" aria-hidden=\"true\" style=\"color:#004D7F\"></i></font></a>\n",
    "</div>\n",
    "\n",
    "---"
   ]
  },
  {
   "cell_type": "markdown",
   "metadata": {},
   "source": [
    "<a id=\"sectionEj\"></a>\n",
    "<h3><font color=\"#004D7F\" size=6> <i class=\"fa fa-pencil-square-o\" aria-hidden=\"true\" style=\"color:#113D68\"></i> Ejercicios</font></h3>"
   ]
  },
  {
   "cell_type": "markdown",
   "metadata": {},
   "source": [
    "Se proponen las siguientes actividades para consolidar el aprendizaje."
   ]
  },
  {
   "cell_type": "markdown",
   "metadata": {},
   "source": [
    "# <font color=\"#004D7F\" size=5>Ejercicio 1</font>\n",
    "__Hiperparámetros__. ¿Qué otros hiperparámetros se pueden utilizar? Indaga y descubra más hiperparámetros y evalúe su uso."
   ]
  },
  {
   "cell_type": "code",
   "execution_count": 9,
   "metadata": {},
   "outputs": [
    {
     "name": "stdout",
     "output_type": "stream",
     "text": [
      ">1 0.550 (0.034)\n",
      ">2 0.772 (0.041)\n",
      ">3 0.775 (0.039)\n",
      ">4 0.774 (0.033)\n",
      ">5 0.783 (0.037)\n",
      ">6 0.776 (0.038)\n",
      ">7 0.767 (0.041)\n",
      ">8 0.776 (0.037)\n",
      ">9 0.778 (0.039)\n",
      ">10 0.774 (0.035)\n",
      ">11 0.771 (0.034)\n",
      ">12 0.777 (0.041)\n",
      ">13 0.775 (0.037)\n",
      ">14 0.775 (0.041)\n",
      ">15 0.775 (0.032)\n",
      ">16 0.767 (0.034)\n",
      ">17 0.779 (0.040)\n",
      ">18 0.776 (0.037)\n",
      ">19 0.774 (0.037)\n",
      ">20 0.775 (0.034)\n"
     ]
    },
    {
     "data": {
      "image/png": "[encoded data removed]",
      "text/plain": [
       "<Figure size 432x288 with 1 Axes>"
      ]
     },
     "metadata": {
      "needs_background": "light"
     },
     "output_type": "display_data"
    }
   ],
   "source": [
    "# Función para obtener el dataset\n",
    "def get_dataset():\n",
    "  X, y = make_classification(n_samples=1000, n_features=20, n_informative=15, n_redundant=5, random_state=1, n_classes=3)\n",
    "  return X, y\n",
    "\n",
    "# Función para obtener una lista de modelos para evaluar\n",
    "def get_models():\n",
    "  models = dict()\n",
    "  # Enumerar el número de bits de 1 a 20\n",
    "  for i in range(1, 21):\n",
    "    # Crear modelo con class_weight='balanced'\n",
    "    model = LogisticRegression(class_weight='balanced', n_jobs=-1)\n",
    "    # Crear un clasificador de códigos de salida con corrección de errores\n",
    "    models[str(i)] = OutputCodeClassifier(model, code_size=i, random_state=1)\n",
    "  return models\n",
    "\n",
    "# Función para evaluar un modelo determinado mediante validación cruzada\n",
    "def evaluate_model(model, X, y):\n",
    "  # Definir el procedimiento de evaluación\n",
    "  cv = RepeatedStratifiedKFold(n_splits=10, n_repeats=3, random_state=1)\n",
    "  # Evaluar el modelo y recoger las puntuaciones\n",
    "  scores = cross_val_score(model, X, y, scoring='accuracy', cv=cv, n_jobs=-1)\n",
    "  return scores\n",
    "\n",
    "# Definir conjunto de datos\n",
    "X, y = get_dataset()\n",
    "# Obtener los modelos para evaluar\n",
    "models = get_models()\n",
    "# Evaluar los modelos y almacenar los resultados\n",
    "results, names = list(), list()\n",
    "for name, model in models.items():\n",
    "  # Evaluar el modelo\n",
    "  scores = evaluate_model(model, X, y)\n",
    "  # Almacenar las puntuaciones\n",
    "  results.append(scores)\n",
    "  names.append(name)\n",
    "  # Resumir los resultados a lo largo del camino\n",
    "  print('>%s %.3f (%.3f)' % (name, mean(scores), std(scores)))\n",
    "\n",
    "# Rendimiento del modelo de trazado para comparación\n",
    "pyplot.boxplot(results, labels=names, showmeans=True)\n",
    "pyplot.show()"
   ]
  },
  {
   "cell_type": "markdown",
   "metadata": {},
   "source": [
    "# <font color=\"#004D7F\" size=5>Ejercicio 2</font>\n",
    "__Más conjuntos de datos__. Busque un dataset original y verdadero (que no sea sintético) y evalúe el uso de los conceptos vistos en esta unidad. Los conjuntos de datos en pueden ser obtenidos del [repositorio de aprendizaje automático de UCI](https://archive.ics.uci.edu/)."
   ]
  },
  {
   "cell_type": "code",
   "execution_count": 10,
   "metadata": {},
   "outputs": [
    {
     "name": "stdout",
     "output_type": "stream",
     "text": [
      "['alcohol', 'malic_acid', 'ash', 'alcalinity_of_ash', 'magnesium', 'total_phenols', 'flavanoids', 'nonflavanoid_phenols', 'proanthocyanins', 'color_intensity', 'hue', 'od280/od315_of_diluted_wines', 'proline']\n",
      "['class_0' 'class_1' 'class_2']\n",
      "(178, 13) (178,)\n",
      ">1 0.695 (0.049)\n",
      ">2 0.933 (0.061)\n",
      ">3 0.953 (0.048)\n",
      ">4 0.955 (0.051)\n",
      ">5 0.946 (0.059)\n",
      ">6 0.953 (0.048)\n",
      ">7 0.951 (0.049)\n",
      ">8 0.951 (0.052)\n",
      ">9 0.957 (0.047)\n",
      ">10 0.955 (0.051)\n",
      ">11 0.957 (0.047)\n",
      ">12 0.953 (0.053)\n",
      ">13 0.957 (0.047)\n",
      ">14 0.951 (0.052)\n",
      ">15 0.955 (0.051)\n",
      ">16 0.953 (0.048)\n",
      ">17 0.953 (0.050)\n",
      ">18 0.953 (0.048)\n",
      ">19 0.951 (0.052)\n",
      ">20 0.955 (0.051)\n"
     ]
    },
    {
     "data": {
      "image/png": "[encoded data removed]",
      "text/plain": [
       "<Figure size 432x288 with 1 Axes>"
      ]
     },
     "metadata": {
      "needs_background": "light"
     },
     "output_type": "display_data"
    }
   ],
   "source": [
    "from sklearn.datasets import load_wine\n",
    "\n",
    "# Cargar el dataset\n",
    "data = load_wine()\n",
    "\n",
    "# Ver las características del dataset\n",
    "print(data.feature_names)\n",
    "\n",
    "# Ver las etiquetas del dataset\n",
    "print(data.target_names)\n",
    "\n",
    "# Acceder a los datos y las etiquetas\n",
    "X = data.data\n",
    "y = data.target\n",
    "\n",
    "# Ver las dimensiones de los datos\n",
    "print(X.shape, y.shape)\n",
    "\n",
    "# Obtener los modelos para evaluar\n",
    "models = get_models()\n",
    "# Evaluar los modelos y almacenar los resultados\n",
    "results, names = list(), list()\n",
    "for name, model in models.items():\n",
    "  # Evaluar el modelo\n",
    "  scores = evaluate_model(model, X, y)\n",
    "  # Almacenar las puntuaciones\n",
    "  results.append(scores)\n",
    "  names.append(name)\n",
    "  # Resumir los resultados a lo largo del camino\n",
    "  print('>%s %.3f (%.3f)' % (name, mean(scores), std(scores)))\n",
    "\n",
    "# Rendimiento del modelo de trazado para comparación\n",
    "pyplot.boxplot(results, labels=names, showmeans=True)\n",
    "pyplot.show()"
   ]
  },
  {
   "cell_type": "markdown",
   "metadata": {},
   "source": [
    "# <font color=\"#004D7F\" size=5>Ejercicio 3</font>\n",
    "__Clasificadores__. Evalué todo los ejercicios anteriores con el uso de clasificadores distintos a los vistos en la unidad, i.e., diferentes a LoR, CART y NB."
   ]
  },
  {
   "cell_type": "code",
   "execution_count": 11,
   "metadata": {},
   "outputs": [
    {
     "name": "stdout",
     "output_type": "stream",
     "text": [
      ">1 0.450 (0.053)\n",
      ">2 0.465 (0.090)\n",
      ">3 0.465 (0.090)\n",
      ">4 0.459 (0.091)\n",
      ">5 0.465 (0.090)\n",
      ">6 0.487 (0.094)\n",
      ">7 0.508 (0.086)\n",
      ">8 0.487 (0.094)\n",
      ">9 0.498 (0.089)\n",
      ">10 0.476 (0.084)\n",
      ">11 0.476 (0.084)\n",
      ">12 0.476 (0.084)\n",
      ">13 0.476 (0.084)\n",
      ">14 0.514 (0.104)\n",
      ">15 0.498 (0.089)\n",
      ">16 0.498 (0.089)\n",
      ">17 0.498 (0.089)\n",
      ">18 0.487 (0.094)\n",
      ">19 0.487 (0.094)\n",
      ">20 0.487 (0.094)\n"
     ]
    },
    {
     "data": {
      "image/png": "[encoded data removed]",
      "text/plain": [
       "<Figure size 432x288 with 1 Axes>"
      ]
     },
     "metadata": {
      "needs_background": "light"
     },
     "output_type": "display_data"
    }
   ],
   "source": [
    "from sklearn.gaussian_process import GaussianProcessClassifier\n",
    "\n",
    "# Función para obtener una lista de modelos para evaluar\n",
    "def get_models():\n",
    "  models = dict()\n",
    "  # Enumerar el número de bits de 1 a 20\n",
    "  for i in range(1, 21):\n",
    "    # Crear modelo\n",
    "    model = GaussianProcessClassifier()\n",
    "    # Crear un clasificador de códigos de salida con corrección de errores\n",
    "    models[str(i)] = OutputCodeClassifier(model, code_size=i, random_state=1)\n",
    "  return models\n",
    "\n",
    "# Obtener los modelos para evaluar\n",
    "models = get_models()\n",
    "# Evaluar los modelos y almacenar los resultados\n",
    "results, names = list(), list()\n",
    "for name, model in models.items():\n",
    "  # Evaluar el modelo\n",
    "  scores = evaluate_model(model, X, y)\n",
    "  # Almacenar las puntuaciones\n",
    "  results.append(scores)\n",
    "  names.append(name)\n",
    "  # Resumir los resultados a lo largo del camino\n",
    "  print('>%s %.3f (%.3f)' % (name, mean(scores), std(scores)))\n",
    "\n",
    "# Rendimiento del modelo de trazado para comparación\n",
    "pyplot.boxplot(results, labels=names, showmeans=True)\n",
    "pyplot.show()"
   ]
  },
  {
   "cell_type": "markdown",
   "metadata": {},
   "source": [
    "---\n",
    "\n",
    "<div style=\"text-align: right\">\n",
    "<a href=\"#indice\"><font size=5><i class=\"fa fa-arrow-circle-up\" aria-hidden=\"true\" style=\"color:#004D7F\"></i></font></a>\n",
    "</div>\n",
    "\n",
    "---\n",
    "\n",
    "<div style=\"text-align: right\"> <font size=6><i class=\"fa fa-coffee\" aria-hidden=\"true\" style=\"color:#004D7F\"></i> </font></div>"
   ]
  }
 ],
 "metadata": {
  "kernelspec": {
   "display_name": "Python 3",
   "language": "python",
   "name": "python3"
  },
  "language_info": {
   "codemirror_mode": {
    "name": "ipython",
    "version": 3
   },
   "file_extension": ".py",
   "mimetype": "text/x-python",
   "name": "python",
   "nbconvert_exporter": "python",
   "pygments_lexer": "ipython3",
   "version": "3.7.4"
  }
 },
 "nbformat": 4,
 "nbformat_minor": 4
}
