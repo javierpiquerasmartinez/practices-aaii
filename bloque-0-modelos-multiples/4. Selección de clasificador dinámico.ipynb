{
 "cells": [
  {
   "cell_type": "markdown",
   "metadata": {},
   "source": [
    "<h2><font color=\"#004D7F\" size=5>Módulo 1: Modelos múltiples</font></h2>\n",
    "\n",
    "\n",
    "\n",
    "<h1><font color=\"#004D7F\" size=6> 4. Selección de clasificador dinámico </font></h1>\n",
    "\n",
    "<br><br>\n",
    "<div style=\"text-align: right\">\n",
    "<font color=\"#004D7F\" size=3>Manuel Castillo-Cara</font><br>\n",
    "<font color=\"#004D7F\" size=3>Aprendizaje Automático II</font><br>\n",
    "<font color=\"#004D7F\" size=3>Universidad Nacional de Educación a Distancia</font>\n",
    "\n",
    "</div>"
   ]
  },
  {
   "cell_type": "markdown",
   "metadata": {},
   "source": [
    "---\n",
    "\n",
    "<a id=\"indice\"></a>\n",
    "<h2><font color=\"#004D7F\" size=5>Índice</font></h2>\n",
    "\n",
    "\n",
    "* [1. Selección del clasificador dinámico](#section1)\n",
    "   * [1.1. Librería DESlib](#section11)\n",
    "   * [1.2. Dataset](#section12)\n",
    "* [2. Selección de Clasificadores dinámicos (DCS)](#section2)\n",
    "    * [2.1. DCS-LA con accuracy local general (OLA)](#section21)\n",
    "    * [2.2. DCS-LA con accuracy de clase local (LCA)](#section22)\n",
    "* [3. Ajuste de hiperparámetros para DCS](#section3)\n",
    "    * [3.1. Parámetro `k` en KNN](#section31)\n",
    "    * [3.2. Explorar algoritmos para el grupo de clasificadores](#section32)\n",
    "* [Ejercicios](#sectionEj)"
   ]
  },
  {
   "cell_type": "markdown",
   "metadata": {},
   "source": [
    "---\n",
    "\n",
    "<a id=\"section0\"></a>\n",
    "# <font color=\"#004D7F\">0. Contexto</font>"
   ]
  },
  {
   "cell_type": "markdown",
   "metadata": {},
   "source": [
    "La técnica implica ajustar múltiples modelos de aprendizaje automático en el conjunto de datos de entrenamiento y luego seleccionar el modelo que se espera que funcione mejor al hacer una predicción, en función de los detalles específicos del ejemplo que se va a predecir. Por tanto, en este tutorial trabajaremos:\n",
    "- Los algoritmos de selección de clasificador dinámico eligen uno entre muchos modelos para hacer una predicción para cada nuevo ejemplo.\n",
    "- Cómo desarrollar y evaluar modelos de selección de clasificadores dinámicos para tareas de clasificación utilizando Scikit-learn.\n",
    "- Cómo explorar el efecto de los hiperparámetros del modelo de selección de clasificador dinámico clasificación."
   ]
  },
  {
   "cell_type": "markdown",
   "metadata": {},
   "source": [
    "---\n",
    "<div style=\"text-align: right\">\n",
    "<a href=\"#indice\"><font size=5><i class=\"fa fa-arrow-circle-up\" aria-hidden=\"true\" style=\"color:#004D7F\"></i></font></a>\n",
    "</div>\n",
    "\n",
    "---"
   ]
  },
  {
   "cell_type": "markdown",
   "metadata": {},
   "source": [
    "<a id=\"section1\"></a>\n",
    "# <font color=\"#004D7F\"> 1. Selección del clasificador dinámico</font>"
   ]
  },
  {
   "cell_type": "markdown",
   "metadata": {},
   "source": [
    "__Selección de clasificador dinámico (DCS)__: \n",
    "- Son algoritmos que eligen uno de entre muchos modelos entrenados para hacer una predicción basada en los detalles específicos de la entrada.\n",
    "- Los algoritmos DCS generalmente implican dividir el espacio de características de entrada de alguna manera y asignar modelos específicos que sean responsables de hacer predicciones para cada partición.\n",
    "- Los esfuerzos de investigación se centran principalmente en cómo evaluar y asignar clasificadores a regiones específicas del espacio de entrada.\n",
    "\n",
    "```text\n",
    "Después de capacitar a varios clasificadores individuales, DCS selecciona dinámicamente un clasificador para cada instancia de prueba. [...] DCS hace predicciones utilizando un clasificador individual.\n",
    "        -- Página 93, Ensemble Methods: Foundations and Algorithms, 2012.\n",
    "```\n",
    "Enfoque __Dynamic Classifier Selection Local Accuracy (DCS-LA)__ (del artículo _Combination Of Multiple Classifiers Using Local Accuracy Estimates_, 1997):\n",
    "- Primero adapta un conjunto pequeño y diverso de modelos de clasificación al conjunto de datos de entrenamiento.\n",
    "- Cuando se requiere una predicción, primero se utiliza un algoritmo KNN para encontrar los _k_ ejemplos más similares del conjunto de datos de entrenamiento que coincidan con el ejemplo.\n",
    "- Luego, cada clasificador previamente ajustado en el modelo se evalúa en el vecino de _k_ ejemplos de entrenamiento y se selecciona el clasificador que funciona mejor para hacer una predicción para el nuevo ejemplo.\n",
    "- \"La idea básica es estimar el accuracy de cada clasificador en la región local del espacio de características que rodea una muestra de test desconocida y luego utilizar la decisión del clasificador más preciso localmente.\" \n",
    "\n",
    "Dos enfoques para seleccionar un modelo:\n",
    "- __Accuracy local (LA u OLA)__,:\n",
    "    1. Evalua el accuracy de la clasificación de cada modelo en la vecindad de _k_ ejemplos de entrenamiento.\n",
    "    2. Luego se selecciona el modelo que funciona mejor en este vecindario para hacer una predicción para el nuevo ejemplo.\n",
    "- __Accuracy de clase (CA o LCA)__:\n",
    "    1. Utiliza cada modelo para hacer una predicción para el nuevo ejemplo y anotar la clase que se predijo.\n",
    "    2. Luego, se evalúa el accuracy de cada modelo en el vecino de _k_ ejemplos de entrenamiento y\n",
    "    3. Se selecciona el modelo que tiene la mejor habilidad para la clase que predijo en el nuevo ejemplo y se devuelve su predicción."
   ]
  },
  {
   "cell_type": "markdown",
   "metadata": {},
   "source": [
    "<a id=\"section11\"></a>\n",
    "## <font color=\"#004D7F\"> 1.1. Librería DESlib</font>"
   ]
  },
  {
   "cell_type": "markdown",
   "metadata": {},
   "source": [
    "_Dynamic ensemble selection library in Python_ (DESlib) es una biblioteca de código abierto que proporciona una implementación de muchos algoritmos diferentes de selección de clasificadores dinámicos. \n",
    "\n",
    "Instalamos `deslib`."
   ]
  },
  {
   "cell_type": "code",
   "execution_count": 3,
   "metadata": {},
   "outputs": [],
   "source": [
    "#!pip install deslib"
   ]
  },
  {
   "cell_type": "markdown",
   "metadata": {},
   "source": [
    "<div class=\"alert alert-block alert-info\">\n",
    "    \n",
    "<i class=\"fa fa-info-circle\" aria-hidden=\"true\"></i> __Nota__: Más información sobre la librería [DESlib](https://deslib.readthedocs.io/en/latest/).\n",
    "</div>"
   ]
  },
  {
   "cell_type": "markdown",
   "metadata": {},
   "source": [
    "<div class=\"alert alert-block alert-info\">\n",
    "    \n",
    "<i class=\"fa fa-info-circle\" aria-hidden=\"true\"></i> __Nota__: Más información sobre la librería [DESlib](https://deslib.readthedocs.io/en/latest/).\n",
    "</div>"
   ]
  },
  {
   "cell_type": "markdown",
   "metadata": {},
   "source": [
    "<div class=\"alert alert-block alert-info\">\n",
    "    \n",
    "<i class=\"fa fa-info-circle\" aria-hidden=\"true\"></i> __Nota__: Más información sobre el Github [DESlib](https://github.com/scikit-learn-contrib/DESlib).\n",
    "</div>"
   ]
  },
  {
   "cell_type": "markdown",
   "metadata": {},
   "source": [
    "<div class=\"alert alert-block alert-info\">\n",
    "    \n",
    "<i class=\"fa fa-info-circle\" aria-hidden=\"true\"></i> __Nota__: Más información en PyPI sobre [DESlib](https://pypi.org/project/DESlib/0.1/).\n",
    "</div>"
   ]
  },
  {
   "cell_type": "code",
   "execution_count": 4,
   "metadata": {},
   "outputs": [
    {
     "name": "stdout",
     "output_type": "stream",
     "text": [
      "0.3.7\n"
     ]
    }
   ],
   "source": [
    "# check deslib version\n",
    "import deslib\n",
    "print(deslib.__version__)"
   ]
  },
  {
   "cell_type": "markdown",
   "metadata": {},
   "source": [
    "<div class=\"alert alert-block alert-info\">\n",
    "    \n",
    "<i class=\"fa fa-info-circle\" aria-hidden=\"true\"></i> __Nota__: Puede que tenga que reiniciar el kernel para que pueda ejecutarse correctamente la librería.\n",
    "</div>"
   ]
  },
  {
   "cell_type": "markdown",
   "metadata": {},
   "source": [
    "DESlib proporciona una implementación del algoritmo DCS-LA con cada técnica de selección de clasificador a través de las clases OLA y LCA. \n",
    "- Cada clase se puede utilizar directamente como modelo de Scikit-learn.\n",
    "- Ambas clases utilizan un algoritmo KNN para seleccionar el vecino con un valor predeterminado de `k = 7`. \n",
    "- Se utiliza Bagging como conjunto de modelos considerados para cada clasificación que se realiza."
   ]
  },
  {
   "cell_type": "markdown",
   "metadata": {},
   "source": [
    "<a id=\"section12\"></a>\n",
    "## <font color=\"#004D7F\"> 1.2. Dataset</font>"
   ]
  },
  {
   "cell_type": "markdown",
   "metadata": {},
   "source": [
    "Usamos `make_classification()` para crear un problema de clasificación binaria sintética con 10,000 ejemplos y 20 características de entrada."
   ]
  },
  {
   "cell_type": "code",
   "execution_count": 5,
   "metadata": {},
   "outputs": [
    {
     "name": "stdout",
     "output_type": "stream",
     "text": [
      "(10000, 20) (10000,)\n"
     ]
    }
   ],
   "source": [
    "from sklearn.datasets import make_classification\n",
    "\n",
    "X, y = make_classification(n_samples=10000, n_features=20, n_informative=15, n_redundant=5, random_state=7)\n",
    "print(X.shape, y.shape)"
   ]
  },
  {
   "cell_type": "markdown",
   "metadata": {},
   "source": [
    "---\n",
    "<div style=\"text-align: right\">\n",
    "<a href=\"#indice\"><font size=5><i class=\"fa fa-arrow-circle-up\" aria-hidden=\"true\" style=\"color:#004D7F\"></i></font></a>\n",
    "</div>\n",
    "\n",
    "---"
   ]
  },
  {
   "cell_type": "markdown",
   "metadata": {},
   "source": [
    "<a id=\"section2\"></a> \n",
    "# <font color=\"#004D7F\"> 2. Selección de Clasificadores dinámicos (DCS) </font>"
   ]
  },
  {
   "cell_type": "markdown",
   "metadata": {},
   "source": [
    "Veamos cómo utilizar cada algoritmo DCS-LA y DCS-LCA."
   ]
  },
  {
   "cell_type": "markdown",
   "metadata": {},
   "source": [
    "<a id=\"section21\"></a> \n",
    "## <font color=\"#004D7F\"> 2.1. DCS-LA con accuracy local general (OLA)</font>"
   ]
  },
  {
   "cell_type": "markdown",
   "metadata": {},
   "source": [
    "Podemos evaluar un modelo DCS-LA utilizando el accuracy local en el conjunto de datos sintéticos. "
   ]
  },
  {
   "cell_type": "markdown",
   "metadata": {},
   "source": [
    "<a id=\"section211\"></a> \n",
    "### <font color=\"#004D7F\"> 2.1.1. Evaluación</font>"
   ]
  },
  {
   "cell_type": "markdown",
   "metadata": {},
   "source": [
    "Veamos la evaluación:\n",
    "- Usaremos hiperparámetros por defecto: Bagging como conjunto de modelos clasificadores y `k = 7` para la vecindad local al hacer una predicción. \n",
    "- Utilizamos una validación cruzada estratificada repetida de _k_ veces con tres repeticiones y 10 pliegues. "
   ]
  },
  {
   "cell_type": "code",
   "execution_count": 6,
   "metadata": {},
   "outputs": [
    {
     "name": "stdout",
     "output_type": "stream",
     "text": [
      "Accuracy: 0.881 (0.012)\n"
     ]
    }
   ],
   "source": [
    "from numpy import mean\n",
    "from numpy import std\n",
    "from sklearn.model_selection import cross_val_score\n",
    "from sklearn.model_selection import RepeatedStratifiedKFold\n",
    "from deslib.dcs.ola import OLA\n",
    "\n",
    "# definir el modelo\n",
    "model = OLA()\n",
    "# Validación cruzada\n",
    "cv = RepeatedStratifiedKFold(n_splits=10, n_repeats=3, random_state=1)\n",
    "# evaluación\n",
    "n_scores = cross_val_score(model, X, y, scoring='accuracy', cv=cv, n_jobs=-1)\n",
    "# reportar el rendimiento\n",
    "print('Accuracy: %.3f (%.3f)' % (mean(n_scores), std(n_scores)))"
   ]
  },
  {
   "cell_type": "markdown",
   "metadata": {},
   "source": [
    "<div class=\"alert alert-block alert-info\">\n",
    "    \n",
    "<i class=\"fa fa-info-circle\" aria-hidden=\"true\"></i> __Nota__: Sus resultados pueden variar dada la naturaleza estocástica del algoritmo o procedimiento de evaluación, o diferencias en la precisión numérica. Considere ejecutar el ejemplo varias veces y comparar el resultado promedio.\n",
    "</div>"
   ]
  },
  {
   "cell_type": "markdown",
   "metadata": {},
   "source": [
    "<a id=\"section212\"></a> \n",
    "### <font color=\"#004D7F\"> 2.1.2. Predicción</font>"
   ]
  },
  {
   "cell_type": "markdown",
   "metadata": {},
   "source": [
    "También podemos utilizar el modelo DCS-LA con OLA como modelo final y hacer predicciones para la clasificación. Primero, el modelo se ajusta a todos los datos disponibles, luego se puede llamar a la función `predict()` para hacer predicciones sobre nuevos datos. "
   ]
  },
  {
   "cell_type": "code",
   "execution_count": 7,
   "metadata": {
    "scrolled": true
   },
   "outputs": [
    {
     "name": "stdout",
     "output_type": "stream",
     "text": [
      "Predicción: 1\n"
     ]
    }
   ],
   "source": [
    "from deslib.dcs.ola import OLA\n",
    "\n",
    "# denifinir el modelo\n",
    "model = OLA()\n",
    "# entrenamiento\n",
    "model.fit(X, y)\n",
    "# Hacer una predicción\n",
    "row = [-1.90710794,  1.52433471,  1.84973007,  2.35366976,  0.25355192,\n",
    "        0.00748397, -0.89773414,  0.23576555, -2.67630958,  0.48313739,\n",
    "       -0.01546079,  2.32326935,  1.94527582,  2.96824161, -2.23528952,\n",
    "        0.66418332, -2.76591587,  1.48221875, -1.17071345,  6.41199015]\n",
    "pred = model.predict([row])\n",
    "# summarize the prediction\n",
    "print('Predicción: %d' % pred[0])"
   ]
  },
  {
   "cell_type": "markdown",
   "metadata": {},
   "source": [
    "<a id=\"section22\"></a> \n",
    "## <font color=\"#004D7F\"> 2.2. DCS-LA con accuracy de clase local (LCA)</font>"
   ]
  },
  {
   "cell_type": "markdown",
   "metadata": {},
   "source": [
    "Podemos evaluar un modelo DCS-LA con LCA utilizando la precisión de clase local en el conjunto de datos sintéticos."
   ]
  },
  {
   "cell_type": "markdown",
   "metadata": {},
   "source": [
    "<a id=\"section221\"></a> \n",
    "### <font color=\"#004D7F\"> 2.2.1. Evaluación</font>"
   ]
  },
  {
   "cell_type": "markdown",
   "metadata": {},
   "source": [
    "Veamos la evaluación:\n",
    "- Usaremos hiperparámetros por defecto: Bagging como conjunto de modelos clasificadores y `k = 7` para la vecindad local al hacer una predicción. \n",
    "- Utilizamos una validación cruzada estratificada repetida de _k_ veces con tres repeticiones y 10 pliegues. "
   ]
  },
  {
   "cell_type": "code",
   "execution_count": 8,
   "metadata": {},
   "outputs": [
    {
     "name": "stdout",
     "output_type": "stream",
     "text": [
      "Mean Accuracy: 0.918 (0.008)\n"
     ]
    }
   ],
   "source": [
    "from numpy import mean\n",
    "from numpy import std\n",
    "from sklearn.model_selection import cross_val_score\n",
    "from sklearn.model_selection import RepeatedStratifiedKFold\n",
    "from deslib.dcs.lca import LCA\n",
    "\n",
    "# definir el modelo\n",
    "model = LCA()\n",
    "cv = RepeatedStratifiedKFold(n_splits=10, n_repeats=3, random_state=1)\n",
    "n_scores = cross_val_score(model, X, y, scoring='accuracy', cv=cv, n_jobs=-1)\n",
    "print('Mean Accuracy: %.3f (%.3f)' % (mean(n_scores), std(n_scores)))"
   ]
  },
  {
   "cell_type": "markdown",
   "metadata": {},
   "source": [
    "<div class=\"alert alert-block alert-info\">\n",
    "    \n",
    "<i class=\"fa fa-info-circle\" aria-hidden=\"true\"></i> __Nota__: Sus resultados pueden variar dada la naturaleza estocástica del algoritmo o procedimiento de evaluación, o diferencias en la precisión numérica. Considere ejecutar el ejemplo varias veces y comparar el resultado promedio.\n",
    "</div>"
   ]
  },
  {
   "cell_type": "markdown",
   "metadata": {},
   "source": [
    "<a id=\"section212\"></a> \n",
    "### <font color=\"#004D7F\"> 2.1.2. Predicción</font>"
   ]
  },
  {
   "cell_type": "markdown",
   "metadata": {},
   "source": [
    "También podemos utilizar el modelo DCS-LA con LCA como modelo final y hacer predicciones para la clasificación. Primero, el modelo se ajusta a todos los datos disponibles, luego se puede llamar a la función `predict()` para hacer predicciones sobre nuevos datos. \n",
    "\n",
    "El siguiente ejemplo demuestra esto en nuestro conjunto de datos de clasificación binaria."
   ]
  },
  {
   "cell_type": "code",
   "execution_count": 9,
   "metadata": {
    "scrolled": true
   },
   "outputs": [
    {
     "name": "stdout",
     "output_type": "stream",
     "text": [
      "Predicción: 1\n"
     ]
    }
   ],
   "source": [
    "# make a prediction with DCS-LA using local class accuracy\n",
    "from sklearn.datasets import make_classification\n",
    "from deslib.dcs.lca import LCA\n",
    "\n",
    "# ddefinir el modelo\n",
    "model = LCA()\n",
    "model.fit(X, y)\n",
    "row = [-1.90710794,  1.52433471,  1.84973007,  2.35366976,  0.25355192,\n",
    "        0.00748397, -0.89773414,  0.23576555, -2.67630958,  0.48313739,\n",
    "       -0.01546079,  2.32326935,  1.94527582,  2.96824161, -2.23528952,\n",
    "        0.66418332, -2.76591587,  1.48221875, -1.17071345,  6.41199015]\n",
    "pred = model.predict([row])\n",
    "print('Predicción: %d' % pred[0])"
   ]
  },
  {
   "cell_type": "markdown",
   "metadata": {},
   "source": [
    "---\n",
    "<div style=\"text-align: right\">\n",
    "<a href=\"#indice\"><font size=5><i class=\"fa fa-arrow-circle-up\" aria-hidden=\"true\" style=\"color:#004D7F\"></i></font></a>\n",
    "</div>\n",
    "\n",
    "---"
   ]
  },
  {
   "cell_type": "markdown",
   "metadata": {},
   "source": [
    "<a id=\"section3\"></a> \n",
    "# <font color=\"#004D7F\"> 3. Ajuste de hiperparámetros para DCS</font>"
   ]
  },
  {
   "cell_type": "markdown",
   "metadata": {},
   "source": [
    "En esta sección, analizaremos dos de los principales hiperparámetros:\n",
    "- El valor de `k` en el modelo KNN utilizado en la evaluación local de los modelos, y\n",
    "- Cómo usar un hiperparámetro personalizado para el conjunto de clasificadores.\n",
    "\n",
    "Usaremos DCS-LA con OLA como base para estos experimentos."
   ]
  },
  {
   "cell_type": "markdown",
   "metadata": {},
   "source": [
    "<a id=\"section31\"></a> \n",
    "## <font color=\"#004D7F\"> 3.1. Parámetro `k` en KNN</font>"
   ]
  },
  {
   "cell_type": "markdown",
   "metadata": {},
   "source": [
    "La configuración del algoritmo de KNN es fundamental para el modelo DCS-LA ya que define el alcance de la vecindad en la que se considera cada clasificador para la selección. El valor `k` controla el tamaño de la vecindad:\n",
    "- Valores demasiado pequeños significará que los ejemplos relevantes en el conjunto de entrenamiento podrían excluirse de la vecindad.\n",
    "- Valores demasiado grandes pueden significar que la señal está siendo eliminada por demasiados ejemplos. \n",
    "\n",
    "Veamos un ejemplo de DCS-LA con OLA para valores `k` de 2 a 21."
   ]
  },
  {
   "cell_type": "code",
   "execution_count": 10,
   "metadata": {
    "scrolled": true
   },
   "outputs": [
    {
     "name": "stdout",
     "output_type": "stream",
     "text": [
      ">2 0.870 (0.012)\n",
      ">3 0.873 (0.009)\n",
      ">4 0.875 (0.009)\n",
      ">5 0.880 (0.009)\n",
      ">6 0.880 (0.011)\n",
      ">7 0.882 (0.010)\n",
      ">8 0.883 (0.010)\n",
      ">9 0.885 (0.012)\n",
      ">10 0.885 (0.011)\n",
      ">11 0.885 (0.010)\n",
      ">12 0.885 (0.011)\n",
      ">13 0.886 (0.009)\n",
      ">14 0.888 (0.010)\n",
      ">15 0.889 (0.009)\n",
      ">16 0.888 (0.011)\n",
      ">17 0.887 (0.012)\n",
      ">18 0.888 (0.010)\n",
      ">19 0.886 (0.010)\n",
      ">20 0.890 (0.009)\n",
      ">21 0.891 (0.010)\n"
     ]
    },
    {
     "data": {
      "image/png": "[encoded data removed]",
      "text/plain": [
       "<Figure size 432x288 with 1 Axes>"
      ]
     },
     "metadata": {
      "needs_background": "light"
     },
     "output_type": "display_data"
    }
   ],
   "source": [
    "from numpy import mean\n",
    "from numpy import std\n",
    "from sklearn.datasets import make_classification\n",
    "from sklearn.model_selection import cross_val_score\n",
    "from sklearn.model_selection import RepeatedStratifiedKFold\n",
    "from deslib.dcs.ola import OLA\n",
    "from matplotlib import pyplot\n",
    "\n",
    "def get_dataset():\n",
    "    X, y = make_classification(n_samples=10000, n_features=20, n_informative=15, n_redundant=5, random_state=7)\n",
    "    return X, y\n",
    "\n",
    "# lista de modelos a evaluar (valor e k de 2 a 21)\n",
    "def get_models():\n",
    "    models = dict()\n",
    "    for i in range(2, 22):\n",
    "        models[str(i)] = OLA(k=i)\n",
    "    return models\n",
    "\n",
    "# evaluar el modelo\n",
    "def evaluate_model(model, X, y):\n",
    "    cv = RepeatedStratifiedKFold(n_splits=10, n_repeats=3, random_state=1)\n",
    "    scores = cross_val_score(model, X, y, scoring='accuracy', cv=cv, n_jobs=-1)\n",
    "    return scores\n",
    "\n",
    "# dataset\n",
    "X, y = get_dataset()\n",
    "# obtener modelos a evaluar\n",
    "models = get_models()\n",
    "# evaluar y almacenar resultados\n",
    "results, names = list(), list()\n",
    "for name, model in models.items():\n",
    "    scores = evaluate_model(model, X, y)\n",
    "    results.append(scores)\n",
    "    names.append(name)\n",
    "    print('>%s %.3f (%.3f)' % (name, mean(scores), std(scores)))\n",
    "\n",
    "pyplot.boxplot(results, labels=names, showmeans=True)\n",
    "pyplot.show()"
   ]
  },
  {
   "cell_type": "markdown",
   "metadata": {},
   "source": [
    "<div class=\"alert alert-block alert-info\">\n",
    "    \n",
    "<i class=\"fa fa-info-circle\" aria-hidden=\"true\"></i> __Nota__: Sus resultados pueden variar dada la naturaleza estocástica del algoritmo o procedimiento de evaluación, o diferencias en la precisión numérica. Considere ejecutar el ejemplo varias veces y comparar el resultado promedio.\n",
    "</div>"
   ]
  },
  {
   "cell_type": "markdown",
   "metadata": {},
   "source": [
    "<a id=\"section32\"></a> \n",
    "## <font color=\"#004D7F\"> 3.2. Explorar algoritmos para el grupo de clasificadores</font>"
   ]
  },
  {
   "cell_type": "markdown",
   "metadata": {},
   "source": [
    "De forma predeterminada se utilizan árboles de decisión Bagging."
   ]
  },
  {
   "cell_type": "markdown",
   "metadata": {},
   "source": [
    "<a id=\"section321\"></a> \n",
    "### <font color=\"#004D7F\"> 3.2.1. Grupo de clasificadores</font>"
   ]
  },
  {
   "cell_type": "markdown",
   "metadata": {},
   "source": [
    "Se puede considerar un grupo personalizado de clasificadores. \n",
    "- Como no podemos utilizar una validación cruzada vamos a utilizar un partición por porcentaje.\n",
    "- La lista de clasificadores aptos se puede especificar para la clase OLA (o LCA) a través del argumento `pool_classifiers`.\n",
    "- En este caso, utilizaremos un grupo que incluye regresión logística, un árbol de decisión y Naive Bayes. "
   ]
  },
  {
   "cell_type": "code",
   "execution_count": 11,
   "metadata": {},
   "outputs": [
    {
     "name": "stdout",
     "output_type": "stream",
     "text": [
      "Accuracy: 0.912\n"
     ]
    }
   ],
   "source": [
    "from sklearn.datasets import make_classification\n",
    "from sklearn.model_selection import train_test_split\n",
    "from sklearn.metrics import accuracy_score\n",
    "from deslib.dcs.ola import OLA\n",
    "from sklearn.linear_model import LogisticRegression\n",
    "from sklearn.tree import DecisionTreeClassifier\n",
    "from sklearn.naive_bayes import GaussianNB\n",
    "\n",
    "X, y = get_dataset()\n",
    "# Particiòn en un 50%\n",
    "X_train, X_test, y_train, y_test = train_test_split(X, y, test_size=0.5, random_state=1)\n",
    "# definimos los clasificadores\n",
    "classifiers = [LogisticRegression(), DecisionTreeClassifier(), GaussianNB()]\n",
    "# Entrenamos cada clasificador en train\n",
    "for c in classifiers:\n",
    "    c.fit(X_train, y_train)\n",
    "# definimos el modelo DCS-LA\n",
    "model = OLA(pool_classifiers=classifiers)\n",
    "# entrenamos el metamodelo\n",
    "model.fit(X_train, y_train)\n",
    "# hacer las predicciónes en test y sacar el accuracy\n",
    "pred = model.predict(X_test)\n",
    "# evaluate predictions\n",
    "score = accuracy_score(y_test, pred)\n",
    "print('Accuracy: %.3f' % (score))"
   ]
  },
  {
   "cell_type": "markdown",
   "metadata": {},
   "source": [
    "<div class=\"alert alert-block alert-info\">\n",
    "    \n",
    "<i class=\"fa fa-info-circle\" aria-hidden=\"true\"></i> __Nota__: Sus resultados pueden variar dada la naturaleza estocástica del algoritmo o procedimiento de evaluación, o diferencias en la precisión numérica. Considere ejecutar el ejemplo varias veces y comparar el resultado promedio.\n",
    "</div>"
   ]
  },
  {
   "cell_type": "markdown",
   "metadata": {},
   "source": [
    "<a id=\"section322\"></a> \n",
    "### <font color=\"#004D7F\"> 3.2.2. Modelo contribuyente</font>"
   ]
  },
  {
   "cell_type": "markdown",
   "metadata": {},
   "source": [
    "- Para adoptar el modelo DCS, debe funcionar mejor que cualquier modelo contribuyente.\n",
    "- De lo contrario, simplemente utilizaríamos el modelo contribuyente que funcione mejor.\n",
    "- Podemos verificar esto evaluando el desempeño de cada clasificador contribuyente en test."
   ]
  },
  {
   "cell_type": "code",
   "execution_count": 12,
   "metadata": {
    "scrolled": true
   },
   "outputs": [
    {
     "name": "stdout",
     "output_type": "stream",
     "text": [
      "Accuracy total: 0.912\n",
      ">LogisticRegression: 0.878\n",
      ">DecisionTreeClassifier: 0.884\n",
      ">GaussianNB: 0.873\n"
     ]
    }
   ],
   "source": [
    "# evaluate contributing models\n",
    "print('Accuracy total: %.3f' % (score))\n",
    "for c in classifiers:\n",
    "    pred = c.predict(X_test)\n",
    "    score = accuracy_score(y_test, pred)\n",
    "    print('>%s: %.3f' % (c.__class__.__name__, score))"
   ]
  },
  {
   "cell_type": "markdown",
   "metadata": {},
   "source": [
    "<div class=\"alert alert-block alert-info\">\n",
    "    \n",
    "<i class=\"fa fa-info-circle\" aria-hidden=\"true\"></i> __Nota__: Sus resultados pueden variar dada la naturaleza estocástica del algoritmo o procedimiento de evaluación, o diferencias en la precisión numérica. Considere ejecutar el ejemplo varias veces y comparar el resultado promedio.\n",
    "</div>"
   ]
  },
  {
   "cell_type": "markdown",
   "metadata": {},
   "source": [
    "---\n",
    "<div style=\"text-align: right\">\n",
    "<a href=\"#indice\"><font size=5><i class=\"fa fa-arrow-circle-up\" aria-hidden=\"true\" style=\"color:#004D7F\"></i></font></a>\n",
    "</div>\n",
    "\n",
    "---"
   ]
  },
  {
   "cell_type": "markdown",
   "metadata": {},
   "source": [
    "<a id=\"sectionEj\"></a>\n",
    "<h3><font color=\"#004D7F\" size=6> <i class=\"fa fa-pencil-square-o\" aria-hidden=\"true\" style=\"color:#113D68\"></i> Ejercicios</font></h3>"
   ]
  },
  {
   "cell_type": "markdown",
   "metadata": {},
   "source": [
    "Se proponen las siguientes actividades para consolidar el aprendizaje."
   ]
  },
  {
   "cell_type": "markdown",
   "metadata": {},
   "source": [
    "# <font color=\"#004D7F\" size=5>Ejercicio 1</font>\n",
    "__DCS-LA con LCA__. En los ejemplos finales hemos visto para OLA, utilice el ejemplo con LCA."
   ]
  },
  {
   "cell_type": "code",
   "execution_count": 13,
   "metadata": {},
   "outputs": [
    {
     "name": "stdout",
     "output_type": "stream",
     "text": [
      ">2 0.969 (0.006)\n",
      ">3 0.962 (0.007)\n",
      ">4 0.954 (0.006)\n",
      ">5 0.942 (0.007)\n",
      ">6 0.931 (0.009)\n",
      ">7 0.918 (0.010)\n",
      ">8 0.909 (0.009)\n",
      ">9 0.897 (0.010)\n",
      ">10 0.886 (0.010)\n",
      ">11 0.875 (0.012)\n",
      ">12 0.869 (0.010)\n",
      ">13 0.860 (0.010)\n",
      ">14 0.854 (0.010)\n",
      ">15 0.844 (0.017)\n",
      ">16 0.835 (0.012)\n",
      ">17 0.832 (0.013)\n",
      ">18 0.824 (0.013)\n",
      ">19 0.820 (0.016)\n",
      ">20 0.817 (0.014)\n",
      ">21 0.812 (0.013)\n"
     ]
    },
    {
     "data": {
      "image/png": "[encoded data removed]",
      "text/plain": [
       "<Figure size 432x288 with 1 Axes>"
      ]
     },
     "metadata": {
      "needs_background": "light"
     },
     "output_type": "display_data"
    }
   ],
   "source": [
    "from numpy import mean\n",
    "from numpy import std\n",
    "from sklearn.datasets import make_classification\n",
    "from sklearn.model_selection import cross_val_score\n",
    "from sklearn.model_selection import RepeatedStratifiedKFold\n",
    "from deslib.dcs.ola import OLA\n",
    "from matplotlib import pyplot\n",
    "\n",
    "def get_dataset():\n",
    "    X, y = make_classification(n_samples=10000, n_features=20, n_informative=15, n_redundant=5, random_state=7)\n",
    "    return X, y\n",
    "\n",
    "# lista de modelos a evaluar (valor e k de 2 a 21)\n",
    "def get_models():\n",
    "    models = dict()\n",
    "    for i in range(2, 22):\n",
    "        models[str(i)] = LCA(k=i)\n",
    "    return models\n",
    "\n",
    "# evaluar el modelo\n",
    "def evaluate_model(model, X, y):\n",
    "    cv = RepeatedStratifiedKFold(n_splits=10, n_repeats=3, random_state=1)\n",
    "    scores = cross_val_score(model, X, y, scoring='accuracy', cv=cv, n_jobs=-1)\n",
    "    return scores\n",
    "\n",
    "# dataset\n",
    "X, y = get_dataset()\n",
    "# obtener modelos a evaluar\n",
    "models = get_models()\n",
    "# evaluar y almacenar resultados\n",
    "results, names = list(), list()\n",
    "for name, model in models.items():\n",
    "    scores = evaluate_model(model, X, y)\n",
    "    results.append(scores)\n",
    "    names.append(name)\n",
    "    print('>%s %.3f (%.3f)' % (name, mean(scores), std(scores)))\n",
    "\n",
    "pyplot.boxplot(results, labels=names, showmeans=True)\n",
    "pyplot.show()"
   ]
  },
  {
   "cell_type": "markdown",
   "metadata": {},
   "source": [
    "# <font color=\"#004D7F\" size=5>Ejercicio 2</font>\n",
    "__Hiperparámetros__. ¿Qué otros hiperparámetros se pueden utilizar? Indaga y descubra más hiperparámetros y evalúe su uso."
   ]
  },
  {
   "cell_type": "markdown",
   "metadata": {},
   "source": [
    "# Hiperparámetros de OLA y LCA\n",
    "\n",
    "## OLA (Omni-Modal Language Model)\n",
    "\n",
    "El modelo OLA es un modelo de lenguaje omni-modal que soporta entradas de texto, imagen, video y audio. Aquí tienes algunos de los hiperparámetros clave que puedes ajustar:\n",
    "\n",
    "1. **Número de capas (`num_layers`)**: Determina la profundidad del modelo.\n",
    "2. **Tamaño del hidden layer (`hidden_size`)**: Controla el tamaño de las capas ocultas.\n",
    "3. **Número de cabezas de atención (`num_attention_heads`)**: Afecta la capacidad del modelo para enfocarse en diferentes partes de la entrada.\n",
    "4. **Tamaño del vocabulario (`vocab_size`)**: Define el número de tokens que el modelo puede manejar.\n",
    "5. **Ventana de contexto (`context_window`)**: Controla la cantidad de contexto que el modelo puede considerar al hacer predicciones.\n",
    "\n",
    "## LCA (Life Cycle Assessment)\n",
    "\n",
    "El Análisis de Ciclo de Vida (LCA) no es un modelo de aprendizaje automático, sino una metodología para evaluar los impactos ambientales de un producto o servicio a lo largo de su ciclo de vida. Sin embargo, en el contexto de modelos de aprendizaje automático que pueden utilizarse para LCA, aquí tienes algunos hiperparámetros comunes:\n",
    "\n",
    "1. **Definición del objetivo y alcance (`goal_scope_definition`)**: Especifica el propósito del estudio y los límites del sistema.\n",
    "2. **Inventario del ciclo de vida (`life_cycle_inventory`)**: Recopila datos sobre las entradas y salidas del sistema.\n",
    "3. **Evaluación del impacto del ciclo de vida (`impact_assessment`)**: Analiza los impactos ambientales asociados con las entradas y salidas.\n",
    "4. **Interpretación de resultados (`results_interpretation`)**: Proporciona conclusiones y recomendaciones basadas en los resultados del análisis.\n",
    "\n",
    "Estos hiperparámetros te permiten ajustar y optimizar tanto los modelos de lenguaje como las evaluaciones de ciclo de vida para obtener los mejores resultados posibles."
   ]
  },
  {
   "cell_type": "markdown",
   "metadata": {},
   "source": [
    "# <font color=\"#004D7F\" size=5>Ejercicio 3</font>\n",
    "__Más conjuntos de datos__. Busque un dataset original y verdadero (que no sea sintético) y evalúe el uso de los conceptos vistos en esta unidad. Los conjuntos de datos en pueden ser obtenidos del [repositorio de aprendizaje automático de UCI](https://archive.ics.uci.edu/)."
   ]
  },
  {
   "cell_type": "code",
   "execution_count": 16,
   "metadata": {},
   "outputs": [
    {
     "name": "stdout",
     "output_type": "stream",
     "text": [
      "Accuracy: 0.983\n",
      "Accuracy total: 0.983\n",
      ">LogisticRegression: 0.983\n",
      ">DecisionTreeClassifier: 0.949\n",
      ">GaussianNB: 1.000\n"
     ]
    }
   ],
   "source": [
    "from sklearn.model_selection import train_test_split\n",
    "from sklearn.preprocessing import StandardScaler\n",
    "from sklearn.datasets import load_wine\n",
    "\n",
    "# Cargar el dataset\n",
    "data = load_wine()\n",
    "X = data.data\n",
    "y = data.target\n",
    "\n",
    "# Dividir los datos en entrenamiento y prueba\n",
    "X_train, X_test, y_train, y_test = train_test_split(X, y, test_size=0.33, random_state=42)\n",
    "\n",
    "# Escalar los datos\n",
    "scaler = StandardScaler()\n",
    "X_train = scaler.fit_transform(X_train)\n",
    "X_test = scaler.transform(X_test)\n",
    "\n",
    "# definimos los clasificadores\n",
    "classifiers = [LogisticRegression(), DecisionTreeClassifier(), GaussianNB()]\n",
    "# Entrenamos cada clasificador en train\n",
    "for c in classifiers:\n",
    "    c.fit(X_train, y_train)\n",
    "# definimos el modelo DCS-LA\n",
    "model = OLA(pool_classifiers=classifiers)\n",
    "# entrenamos el metamodelo\n",
    "model.fit(X_train, y_train)\n",
    "# hacer las predicciónes en test y sacar el accuracy\n",
    "pred = model.predict(X_test)\n",
    "# evaluate predictions\n",
    "score = accuracy_score(y_test, pred)\n",
    "print('Accuracy: %.3f' % (score))\n",
    "\n",
    "# evaluate contributing models\n",
    "print('Accuracy total: %.3f' % (score))\n",
    "for c in classifiers:\n",
    "    pred = c.predict(X_test)\n",
    "    score = accuracy_score(y_test, pred)\n",
    "    print('>%s: %.3f' % (c.__class__.__name__, score))"
   ]
  },
  {
   "cell_type": "markdown",
   "metadata": {},
   "source": [
    "# <font color=\"#004D7F\" size=5>Ejercicio 4</font>\n",
    "__Clasificadores__. Evalué todo los ejercicios anteriores con el uso de clasificadores distintos a los vistos en la unidad, i.e., diferentes a LoR, CART y NB."
   ]
  },
  {
   "cell_type": "code",
   "execution_count": 17,
   "metadata": {},
   "outputs": [
    {
     "name": "stdout",
     "output_type": "stream",
     "text": [
      "Accuracy: 0.983\n",
      "Accuracy total: 0.983\n",
      ">SVC: 0.983\n",
      ">RandomForestClassifier: 1.000\n",
      ">KNeighborsClassifier: 0.966\n"
     ]
    }
   ],
   "source": [
    "from sklearn.datasets import load_wine\n",
    "from sklearn.model_selection import train_test_split\n",
    "from sklearn.preprocessing import StandardScaler\n",
    "from sklearn.linear_model import LogisticRegression\n",
    "from sklearn.tree import DecisionTreeClassifier\n",
    "from sklearn.naive_bayes import GaussianNB\n",
    "from sklearn.svm import SVC\n",
    "from sklearn.ensemble import RandomForestClassifier\n",
    "from sklearn.neighbors import KNeighborsClassifier\n",
    "from deslib.dcs.ola import OLA\n",
    "from sklearn.metrics import accuracy_score\n",
    "\n",
    "# Cargar el dataset\n",
    "data = load_wine()\n",
    "X = data.data\n",
    "y = data.target\n",
    "\n",
    "# Dividir los datos en entrenamiento y prueba\n",
    "X_train, X_test, y_train, y_test = train_test_split(X, y, test_size=0.33, random_state=42)\n",
    "\n",
    "# Escalar los datos\n",
    "scaler = StandardScaler()\n",
    "X_train = scaler.fit_transform(X_train)\n",
    "X_test = scaler.transform(X_test)\n",
    "\n",
    "# Definir nuevos clasificadores\n",
    "classifiers = [SVC(), RandomForestClassifier(), KNeighborsClassifier()]\n",
    "\n",
    "# Entrenar cada clasificador en train\n",
    "for c in classifiers:\n",
    "    c.fit(X_train, y_train)\n",
    "\n",
    "# Definir el modelo DCS-LA\n",
    "model = OLA(pool_classifiers=classifiers)\n",
    "\n",
    "# Entrenar el metamodelo\n",
    "model.fit(X_train, y_train)\n",
    "\n",
    "# Hacer las predicciones en test y calcular el accuracy\n",
    "pred = model.predict(X_test)\n",
    "score = accuracy_score(y_test, pred)\n",
    "print('Accuracy: %.3f' % (score))\n",
    "\n",
    "# Evaluar los modelos contribuyentes\n",
    "print('Accuracy total: %.3f' % (score))\n",
    "for c in classifiers:\n",
    "    pred = c.predict(X_test)\n",
    "    score = accuracy_score(y_test, pred)\n",
    "    print('>%s: %.3f' % (c.__class__.__name__, score))"
   ]
  },
  {
   "cell_type": "markdown",
   "metadata": {},
   "source": [
    "# <font color=\"#004D7F\" size=5>Ejercicio 5</font>\n",
    "__Más sobre DESlib__. DESlib es una librería muy interesante que incluye una gran cantidad de modelos y técnicas. Selecciona 4 técnicas adicionales y desarróllelas (tanto teóricamente de la técnica como la práctica)."
   ]
  },
  {
   "cell_type": "markdown",
   "metadata": {},
   "source": [
    "# Técnicas de DESlib\n",
    "\n",
    "La biblioteca **DESlib** (Dynamic Ensemble Selection Library) ofrece una variedad de técnicas avanzadas para la selección dinámica de clasificadores y conjuntos. Aquí tienes un resumen de las principales técnicas que permite:\n",
    "\n",
    "## Técnicas de Selección Dinámica de Clasificadores (DCS)\n",
    "\n",
    "1. **OLA (Overall Local Accuracy)**: Selecciona el clasificador con la mayor precisión local en la región de competencia.\n",
    "2. **A Priori**: Selecciona el clasificador basado en la precisión a priori en la región de competencia.\n",
    "3. **MCB (Multiple Classifier Behavior)**: Selecciona el clasificador basado en el comportamiento múltiple de los clasificadores en la región de competencia.\n",
    "\n",
    "## Técnicas de Selección Dinámica de Conjuntos (DES)\n",
    "\n",
    "1. **KNORA-Union (K-Nearest Oracles Union)**: Selecciona un conjunto de clasificadores que han clasificado correctamente al menos una muestra en la región de competencia.\n",
    "2. **KNORA-Eliminate (K-Nearest Oracles Eliminate)**: Selecciona un conjunto de clasificadores que han clasificado correctamente todas las muestras en la región de competencia.\n",
    "3. **DES-P (Dynamic Ensemble Selection Performance)**: Selecciona un conjunto de clasificadores basado en su rendimiento en la región de competencia.\n",
    "4. **META-DES**: Utiliza un meta-clasificador para seleccionar el mejor conjunto de clasificadores basado en características dinámicas.\n",
    "\n",
    "## Ejemplo de Uso\n",
    "\n",
    "Aquí tienes un ejemplo de cómo utilizar la técnica KNORA-Eliminate con un conjunto de clasificadores de RandomForest:\n",
    "\n",
    "```python\n",
    "from sklearn.ensemble import RandomForestClassifier\n",
    "from deslib.des.knora_e import KNORAE\n",
    "from sklearn.datasets import load_breast_cancer\n",
    "from sklearn.model_selection import train_test_split\n",
    "from sklearn.preprocessing import StandardScaler\n",
    "\n",
    "# Cargar el dataset\n",
    "data = load_breast_cancer()\n",
    "X = data.data\n",
    "y = data.target\n",
    "\n",
    "# Dividir los datos en entrenamiento y prueba\n",
    "X_train, X_test, y_train, y_test = train_test_split(X, y, test_size=0.33, random_state=42)\n",
    "\n",
    "# Escalar los datos\n",
    "scaler = StandardScaler()\n",
    "X_train = scaler.fit_transform(X_train)\n",
    "X_test = scaler.transform(X_test)\n",
    "\n",
    "# Entrenar un conjunto de clasificadores\n",
    "pool_classifiers = RandomForestClassifier(n_estimators=10)\n",
    "pool_classifiers.fit(X_train, y_train)\n",
    "\n",
    "# Inicializar el modelo DES\n",
    "knorae = KNORAE(pool_classifiers)\n",
    "\n",
    "# Preprocesar el conjunto de datos de selección dinámica (DSEL)\n",
    "X_train, X_dsel, y_train, y_dsel = train_test_split(X_train, y_train, test_size=0.5, random_state=42)\n",
    "knorae.fit(X_dsel, y_dsel)\n",
    "\n",
    "# Predecir nuevas muestras\n",
    "y_pred = knorae.predict(X_test)"
   ]
  },
  {
   "cell_type": "markdown",
   "metadata": {},
   "source": [
    "---\n",
    "\n",
    "<div style=\"text-align: right\">\n",
    "<a href=\"#indice\"><font size=5><i class=\"fa fa-arrow-circle-up\" aria-hidden=\"true\" style=\"color:#004D7F\"></i></font></a>\n",
    "</div>\n",
    "\n",
    "---\n",
    "\n",
    "<div style=\"text-align: right\"> <font size=6><i class=\"fa fa-coffee\" aria-hidden=\"true\" style=\"color:#004D7F\"></i> </font></div>"
   ]
  }
 ],
 "metadata": {
  "kernelspec": {
   "display_name": "Python 3",
   "language": "python",
   "name": "python3"
  },
  "language_info": {
   "codemirror_mode": {
    "name": "ipython",
    "version": 3
   },
   "file_extension": ".py",
   "mimetype": "text/x-python",
   "name": "python",
   "nbconvert_exporter": "python",
   "pygments_lexer": "ipython3",
   "version": "3.7.4"
  }
 },
 "nbformat": 4,
 "nbformat_minor": 4
}
