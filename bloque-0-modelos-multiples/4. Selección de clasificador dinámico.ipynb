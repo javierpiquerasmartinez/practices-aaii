{
 "cells": [
  {
   "cell_type": "markdown",
   "metadata": {},
   "source": [
    "<h2><font color=\"#004D7F\" size=5>Módulo 1: Modelos múltiples</font></h2>\n",
    "\n",
    "\n",
    "\n",
    "<h1><font color=\"#004D7F\" size=6> 4. Selección de clasificador dinámico </font></h1>\n",
    "\n",
    "<br><br>\n",
    "<div style=\"text-align: right\">\n",
    "<font color=\"#004D7F\" size=3>Manuel Castillo-Cara</font><br>\n",
    "<font color=\"#004D7F\" size=3>Aprendizaje Automático II</font><br>\n",
    "<font color=\"#004D7F\" size=3>Universidad Nacional de Educación a Distancia</font>\n",
    "\n",
    "</div>"
   ]
  },
  {
   "cell_type": "markdown",
   "metadata": {},
   "source": [
    "---\n",
    "\n",
    "<a id=\"indice\"></a>\n",
    "<h2><font color=\"#004D7F\" size=5>Índice</font></h2>\n",
    "\n",
    "\n",
    "* [1. Selección del clasificador dinámico](#section1)\n",
    "   * [1.1. Librería DESlib](#section11)\n",
    "   * [1.2. Dataset](#section12)\n",
    "* [2. Selección de Clasificadores dinámicos (DCS)](#section2)\n",
    "    * [2.1. DCS-LA con accuracy local general (OLA)](#section21)\n",
    "    * [2.2. DCS-LA con accuracy de clase local (LCA)](#section22)\n",
    "* [3. Ajuste de hiperparámetros para DCS](#section3)\n",
    "    * [3.1. Parámetro `k` en KNN](#section31)\n",
    "    * [3.2. Explorar algoritmos para el grupo de clasificadores](#section32)\n",
    "* [Ejercicios](#sectionEj)"
   ]
  },
  {
   "cell_type": "markdown",
   "metadata": {},
   "source": [
    "---\n",
    "\n",
    "<a id=\"section0\"></a>\n",
    "# <font color=\"#004D7F\">0. Contexto</font>"
   ]
  },
  {
   "cell_type": "markdown",
   "metadata": {},
   "source": [
    "La técnica implica ajustar múltiples modelos de aprendizaje automático en el conjunto de datos de entrenamiento y luego seleccionar el modelo que se espera que funcione mejor al hacer una predicción, en función de los detalles específicos del ejemplo que se va a predecir. Por tanto, en este tutorial trabajaremos:\n",
    "- Los algoritmos de selección de clasificador dinámico eligen uno entre muchos modelos para hacer una predicción para cada nuevo ejemplo.\n",
    "- Cómo desarrollar y evaluar modelos de selección de clasificadores dinámicos para tareas de clasificación utilizando Scikit-learn.\n",
    "- Cómo explorar el efecto de los hiperparámetros del modelo de selección de clasificador dinámico clasificación."
   ]
  },
  {
   "cell_type": "markdown",
   "metadata": {},
   "source": [
    "---\n",
    "<div style=\"text-align: right\">\n",
    "<a href=\"#indice\"><font size=5><i class=\"fa fa-arrow-circle-up\" aria-hidden=\"true\" style=\"color:#004D7F\"></i></font></a>\n",
    "</div>\n",
    "\n",
    "---"
   ]
  },
  {
   "cell_type": "markdown",
   "metadata": {},
   "source": [
    "<a id=\"section1\"></a>\n",
    "# <font color=\"#004D7F\"> 1. Selección del clasificador dinámico</font>"
   ]
  },
  {
   "cell_type": "markdown",
   "metadata": {},
   "source": [
    "__Selección de clasificador dinámico (DCS)__: \n",
    "- Son algoritmos que eligen uno de entre muchos modelos entrenados para hacer una predicción basada en los detalles específicos de la entrada.\n",
    "- Los algoritmos DCS generalmente implican dividir el espacio de características de entrada de alguna manera y asignar modelos específicos que sean responsables de hacer predicciones para cada partición.\n",
    "- Los esfuerzos de investigación se centran principalmente en cómo evaluar y asignar clasificadores a regiones específicas del espacio de entrada.\n",
    "\n",
    "```text\n",
    "Después de capacitar a varios clasificadores individuales, DCS selecciona dinámicamente un clasificador para cada instancia de prueba. [...] DCS hace predicciones utilizando un clasificador individual.\n",
    "        -- Página 93, Ensemble Methods: Foundations and Algorithms, 2012.\n",
    "```\n",
    "Enfoque __Dynamic Classifier Selection Local Accuracy (DCS-LA)__ (del artículo _Combination Of Multiple Classifiers Using Local Accuracy Estimates_, 1997):\n",
    "- Primero adapta un conjunto pequeño y diverso de modelos de clasificación al conjunto de datos de entrenamiento.\n",
    "- Cuando se requiere una predicción, primero se utiliza un algoritmo KNN para encontrar los _k_ ejemplos más similares del conjunto de datos de entrenamiento que coincidan con el ejemplo.\n",
    "- Luego, cada clasificador previamente ajustado en el modelo se evalúa en el vecino de _k_ ejemplos de entrenamiento y se selecciona el clasificador que funciona mejor para hacer una predicción para el nuevo ejemplo.\n",
    "- \"La idea básica es estimar el accuracy de cada clasificador en la región local del espacio de características que rodea una muestra de test desconocida y luego utilizar la decisión del clasificador más preciso localmente.\" \n",
    "\n",
    "Dos enfoques para seleccionar un modelo:\n",
    "- __Accuracy local (LA u OLA)__,:\n",
    "    1. Evalua el accuracy de la clasificación de cada modelo en la vecindad de _k_ ejemplos de entrenamiento.\n",
    "    2. Luego se selecciona el modelo que funciona mejor en este vecindario para hacer una predicción para el nuevo ejemplo.\n",
    "- __Accuracy de clase (CA o LCA)__:\n",
    "    1. Utiliza cada modelo para hacer una predicción para el nuevo ejemplo y anotar la clase que se predijo.\n",
    "    2. Luego, se evalúa el accuracy de cada modelo en el vecino de _k_ ejemplos de entrenamiento y\n",
    "    3. Se selecciona el modelo que tiene la mejor habilidad para la clase que predijo en el nuevo ejemplo y se devuelve su predicción."
   ]
  },
  {
   "cell_type": "markdown",
   "metadata": {},
   "source": [
    "<a id=\"section11\"></a>\n",
    "## <font color=\"#004D7F\"> 1.1. Librería DESlib</font>"
   ]
  },
  {
   "cell_type": "markdown",
   "metadata": {},
   "source": [
    "_Dynamic ensemble selection library in Python_ (DESlib) es una biblioteca de código abierto que proporciona una implementación de muchos algoritmos diferentes de selección de clasificadores dinámicos. \n",
    "\n",
    "Instalamos `deslib`."
   ]
  },
  {
   "cell_type": "code",
   "execution_count": 3,
   "metadata": {},
   "outputs": [
    {
     "name": "stdout",
     "output_type": "stream",
     "text": [
      "Collecting deslib\n",
      "  Downloading DESlib-0.3.5-py3-none-any.whl (158 kB)\n",
      "\u001b[2K     \u001b[90m━━━━━━━━━━━━━━━━━━━━━━━━━━━━━━━━━━━━━\u001b[0m \u001b[32m158.9/158.9 kB\u001b[0m \u001b[31m940.5 kB/s\u001b[0m eta \u001b[36m0:00:00\u001b[0ma \u001b[36m0:00:01\u001b[0m\n",
      "\u001b[?25hRequirement already satisfied: scikit-learn>=0.21.0 in /home/manwest/anaconda3/lib/python3.11/site-packages (from deslib) (1.3.0)\n",
      "Requirement already satisfied: numpy>=1.17.0 in /home/manwest/anaconda3/lib/python3.11/site-packages (from deslib) (1.24.3)\n",
      "Requirement already satisfied: scipy>=1.4.0 in /home/manwest/anaconda3/lib/python3.11/site-packages (from deslib) (1.11.1)\n",
      "Requirement already satisfied: joblib>=1.1.1 in /home/manwest/anaconda3/lib/python3.11/site-packages (from scikit-learn>=0.21.0->deslib) (1.2.0)\n",
      "Requirement already satisfied: threadpoolctl>=2.0.0 in /home/manwest/anaconda3/lib/python3.11/site-packages (from scikit-learn>=0.21.0->deslib) (2.2.0)\n",
      "Installing collected packages: deslib\n",
      "Successfully installed deslib-0.3.5\n"
     ]
    }
   ],
   "source": [
    "#!pip install deslib"
   ]
  },
  {
   "cell_type": "markdown",
   "metadata": {},
   "source": [
    "<div class=\"alert alert-block alert-info\">\n",
    "    \n",
    "<i class=\"fa fa-info-circle\" aria-hidden=\"true\"></i> __Nota__: Más información sobre la librería [DESlib](https://deslib.readthedocs.io/en/latest/).\n",
    "</div>"
   ]
  },
  {
   "cell_type": "markdown",
   "metadata": {},
   "source": [
    "<div class=\"alert alert-block alert-info\">\n",
    "    \n",
    "<i class=\"fa fa-info-circle\" aria-hidden=\"true\"></i> __Nota__: Más información sobre la librería [DESlib](https://deslib.readthedocs.io/en/latest/).\n",
    "</div>"
   ]
  },
  {
   "cell_type": "markdown",
   "metadata": {},
   "source": [
    "<div class=\"alert alert-block alert-info\">\n",
    "    \n",
    "<i class=\"fa fa-info-circle\" aria-hidden=\"true\"></i> __Nota__: Más información sobre el Github [DESlib](https://github.com/scikit-learn-contrib/DESlib).\n",
    "</div>"
   ]
  },
  {
   "cell_type": "markdown",
   "metadata": {},
   "source": [
    "<div class=\"alert alert-block alert-info\">\n",
    "    \n",
    "<i class=\"fa fa-info-circle\" aria-hidden=\"true\"></i> __Nota__: Más información en PyPI sobre [DESlib](https://pypi.org/project/DESlib/0.1/).\n",
    "</div>"
   ]
  },
  {
   "cell_type": "code",
   "execution_count": 4,
   "metadata": {},
   "outputs": [
    {
     "name": "stdout",
     "output_type": "stream",
     "text": [
      "0.3.5\n"
     ]
    }
   ],
   "source": [
    "# check deslib version\n",
    "import deslib\n",
    "print(deslib.__version__)"
   ]
  },
  {
   "cell_type": "markdown",
   "metadata": {},
   "source": [
    "<div class=\"alert alert-block alert-info\">\n",
    "    \n",
    "<i class=\"fa fa-info-circle\" aria-hidden=\"true\"></i> __Nota__: Puede que tenga que reiniciar el kernel para que pueda ejecutarse correctamente la librería.\n",
    "</div>"
   ]
  },
  {
   "cell_type": "markdown",
   "metadata": {},
   "source": [
    "DESlib proporciona una implementación del algoritmo DCS-LA con cada técnica de selección de clasificador a través de las clases OLA y LCA. \n",
    "- Cada clase se puede utilizar directamente como modelo de Scikit-learn.\n",
    "- Ambas clases utilizan un algoritmo KNN para seleccionar el vecino con un valor predeterminado de `k = 7`. \n",
    "- Se utiliza Bagging como conjunto de modelos considerados para cada clasificación que se realiza."
   ]
  },
  {
   "cell_type": "markdown",
   "metadata": {},
   "source": [
    "<a id=\"section12\"></a>\n",
    "## <font color=\"#004D7F\"> 1.2. Dataset</font>"
   ]
  },
  {
   "cell_type": "markdown",
   "metadata": {},
   "source": [
    "Usamos `make_classification()` para crear un problema de clasificación binaria sintética con 10,000 ejemplos y 20 características de entrada."
   ]
  },
  {
   "cell_type": "code",
   "execution_count": 1,
   "metadata": {},
   "outputs": [
    {
     "name": "stdout",
     "output_type": "stream",
     "text": [
      "(10000, 20) (10000,)\n"
     ]
    }
   ],
   "source": [
    "from sklearn.datasets import make_classification\n",
    "\n",
    "X, y = make_classification(n_samples=10000, n_features=20, n_informative=15, n_redundant=5, random_state=7)\n",
    "print(X.shape, y.shape)"
   ]
  },
  {
   "cell_type": "markdown",
   "metadata": {},
   "source": [
    "---\n",
    "<div style=\"text-align: right\">\n",
    "<a href=\"#indice\"><font size=5><i class=\"fa fa-arrow-circle-up\" aria-hidden=\"true\" style=\"color:#004D7F\"></i></font></a>\n",
    "</div>\n",
    "\n",
    "---"
   ]
  },
  {
   "cell_type": "markdown",
   "metadata": {},
   "source": [
    "<a id=\"section2\"></a> \n",
    "# <font color=\"#004D7F\"> 2. Selección de Clasificadores dinámicos (DCS) </font>"
   ]
  },
  {
   "cell_type": "markdown",
   "metadata": {},
   "source": [
    "Veamos cómo utilizar cada algoritmo DCS-LA y DCS-LCA."
   ]
  },
  {
   "cell_type": "markdown",
   "metadata": {},
   "source": [
    "<a id=\"section21\"></a> \n",
    "## <font color=\"#004D7F\"> 2.1. DCS-LA con accuracy local general (OLA)</font>"
   ]
  },
  {
   "cell_type": "markdown",
   "metadata": {},
   "source": [
    "Podemos evaluar un modelo DCS-LA utilizando el accuracy local en el conjunto de datos sintéticos. "
   ]
  },
  {
   "cell_type": "markdown",
   "metadata": {},
   "source": [
    "<a id=\"section211\"></a> \n",
    "### <font color=\"#004D7F\"> 2.1.1. Evaluación</font>"
   ]
  },
  {
   "cell_type": "markdown",
   "metadata": {},
   "source": [
    "Veamos la evaluación:\n",
    "- Usaremos hiperparámetros por defecto: Bagging como conjunto de modelos clasificadores y `k = 7` para la vecindad local al hacer una predicción. \n",
    "- Utilizamos una validación cruzada estratificada repetida de _k_ veces con tres repeticiones y 10 pliegues. "
   ]
  },
  {
   "cell_type": "code",
   "execution_count": 2,
   "metadata": {},
   "outputs": [
    {
     "ename": "SyntaxError",
     "evalue": "invalid syntax (1090382519.py, line 8)",
     "output_type": "error",
     "traceback": [
      "\u001b[0;36m  Cell \u001b[0;32mIn[2], line 8\u001b[0;36m\u001b[0m\n\u001b[0;31m    model = ???\u001b[0m\n\u001b[0m            ^\u001b[0m\n\u001b[0;31mSyntaxError\u001b[0m\u001b[0;31m:\u001b[0m invalid syntax\n"
     ]
    }
   ],
   "source": [
    "from numpy import mean\n",
    "from numpy import std\n",
    "from sklearn.model_selection import cross_val_score\n",
    "from sklearn.model_selection import RepeatedStratifiedKFold\n",
    "from deslib.dcs.ola import OLA\n",
    "\n",
    "# definir el modelo\n",
    "model = ???\n",
    "# Validación cruzada\n",
    "cv = ???\n",
    "# evaluación\n",
    "n_scores = ???\n",
    "print('Accuracy medio: %.3f (%.3f)' % (mean(n_scores), std(n_scores)))"
   ]
  },
  {
   "cell_type": "markdown",
   "metadata": {},
   "source": [
    "<div class=\"alert alert-block alert-info\">\n",
    "    \n",
    "<i class=\"fa fa-info-circle\" aria-hidden=\"true\"></i> __Nota__: Sus resultados pueden variar dada la naturaleza estocástica del algoritmo o procedimiento de evaluación, o diferencias en la precisión numérica. Considere ejecutar el ejemplo varias veces y comparar el resultado promedio.\n",
    "</div>"
   ]
  },
  {
   "cell_type": "markdown",
   "metadata": {},
   "source": [
    "<a id=\"section212\"></a> \n",
    "### <font color=\"#004D7F\"> 2.1.2. Predicción</font>"
   ]
  },
  {
   "cell_type": "markdown",
   "metadata": {},
   "source": [
    "También podemos utilizar el modelo DCS-LA con OLA como modelo final y hacer predicciones para la clasificación. Primero, el modelo se ajusta a todos los datos disponibles, luego se puede llamar a la función `predict()` para hacer predicciones sobre nuevos datos. "
   ]
  },
  {
   "cell_type": "code",
   "execution_count": 3,
   "metadata": {
    "scrolled": true
   },
   "outputs": [
    {
     "ename": "SyntaxError",
     "evalue": "invalid syntax (3803796519.py, line 4)",
     "output_type": "error",
     "traceback": [
      "\u001b[0;36m  Cell \u001b[0;32mIn[3], line 4\u001b[0;36m\u001b[0m\n\u001b[0;31m    model = ???\u001b[0m\n\u001b[0m            ^\u001b[0m\n\u001b[0;31mSyntaxError\u001b[0m\u001b[0;31m:\u001b[0m invalid syntax\n"
     ]
    }
   ],
   "source": [
    "from deslib.dcs.ola import OLA\n",
    "\n",
    "# denifinir el modelo\n",
    "model = ???\n",
    "# entrenamiento\n",
    "???\n",
    "# Hacer una predicción\n",
    "row = [1.89149379, -0.39847585, 1.63856893, 0.01647165, 1.51892395, -3.52651223, 1.80998823, 0.58810926, -0.02542177, -0.52835426]\n",
    "pred = ???\n",
    "# summarize the prediction\n",
    "print('Predicción: %d' % pred[0])"
   ]
  },
  {
   "cell_type": "markdown",
   "metadata": {},
   "source": [
    "<a id=\"section22\"></a> \n",
    "## <font color=\"#004D7F\"> 2.2. DCS-LA con accuracy de clase local (LCA)</font>"
   ]
  },
  {
   "cell_type": "markdown",
   "metadata": {},
   "source": [
    "Podemos evaluar un modelo DCS-LA con LCA utilizando la precisión de clase local en el conjunto de datos sintéticos."
   ]
  },
  {
   "cell_type": "markdown",
   "metadata": {},
   "source": [
    "<a id=\"section221\"></a> \n",
    "### <font color=\"#004D7F\"> 2.2.1. Evaluación</font>"
   ]
  },
  {
   "cell_type": "markdown",
   "metadata": {},
   "source": [
    "Veamos la evaluación:\n",
    "- Usaremos hiperparámetros por defecto: Bagging como conjunto de modelos clasificadores y `k = 7` para la vecindad local al hacer una predicción. \n",
    "- Utilizamos una validación cruzada estratificada repetida de _k_ veces con tres repeticiones y 10 pliegues. "
   ]
  },
  {
   "cell_type": "code",
   "execution_count": 7,
   "metadata": {},
   "outputs": [
    {
     "name": "stdout",
     "output_type": "stream",
     "text": [
      "Mean Accuracy: 0.919 (0.009)\n"
     ]
    }
   ],
   "source": [
    "from numpy import mean\n",
    "from numpy import std\n",
    "from sklearn.model_selection import cross_val_score\n",
    "from sklearn.model_selection import RepeatedStratifiedKFold\n",
    "from deslib.dcs.lca import LCA\n",
    "\n",
    "# definir el modelo\n",
    "model = ???\n",
    "\n",
    "cv = RepeatedStratifiedKFold(n_splits=10, n_repeats=3, random_state=1)\n",
    "n_scores = cross_val_score(model, X, y, scoring='accuracy', cv=cv, n_jobs=-1)\n",
    "print('Mean Accuracy: %.3f (%.3f)' % (mean(n_scores), std(n_scores)))"
   ]
  },
  {
   "cell_type": "markdown",
   "metadata": {},
   "source": [
    "<div class=\"alert alert-block alert-info\">\n",
    "    \n",
    "<i class=\"fa fa-info-circle\" aria-hidden=\"true\"></i> __Nota__: Sus resultados pueden variar dada la naturaleza estocástica del algoritmo o procedimiento de evaluación, o diferencias en la precisión numérica. Considere ejecutar el ejemplo varias veces y comparar el resultado promedio.\n",
    "</div>"
   ]
  },
  {
   "cell_type": "markdown",
   "metadata": {},
   "source": [
    "<a id=\"section212\"></a> \n",
    "### <font color=\"#004D7F\"> 2.1.2. Predicción</font>"
   ]
  },
  {
   "cell_type": "markdown",
   "metadata": {},
   "source": [
    "También podemos utilizar el modelo DCS-LA con LCA como modelo final y hacer predicciones para la clasificación. Primero, el modelo se ajusta a todos los datos disponibles, luego se puede llamar a la función `predict()` para hacer predicciones sobre nuevos datos. \n",
    "\n",
    "El siguiente ejemplo demuestra esto en nuestro conjunto de datos de clasificación binaria."
   ]
  },
  {
   "cell_type": "code",
   "execution_count": 4,
   "metadata": {
    "scrolled": true
   },
   "outputs": [
    {
     "ename": "SyntaxError",
     "evalue": "invalid syntax (1106155019.py, line 6)",
     "output_type": "error",
     "traceback": [
      "\u001b[0;36m  Cell \u001b[0;32mIn[4], line 6\u001b[0;36m\u001b[0m\n\u001b[0;31m    model = ???\u001b[0m\n\u001b[0m            ^\u001b[0m\n\u001b[0;31mSyntaxError\u001b[0m\u001b[0;31m:\u001b[0m invalid syntax\n"
     ]
    }
   ],
   "source": [
    "# make a prediction with DCS-LA using local class accuracy\n",
    "from sklearn.datasets import make_classification\n",
    "from deslib.dcs.lca import LCA\n",
    "\n",
    "# ddefinir el modelo\n",
    "model = ???\n",
    "\n",
    "model.fit(X, y)\n",
    "row = [0.2929949, -4.21223056, -1.288332, -2.17849815, -0.64527665, 2.58097719, 0.28422388, -7.1827928, -1.91211104, 2.73729512, 0.81395695, 3.96973717, -2.66939799, 3.34692332, 4.19791821, 0.99990998, -0.30201875, -4.43170633, -2.82646737, 0.44916808]\n",
    "pred = model.predict([row])\n",
    "print('Predicción: %d' % pred[0])"
   ]
  },
  {
   "cell_type": "markdown",
   "metadata": {},
   "source": [
    "---\n",
    "<div style=\"text-align: right\">\n",
    "<a href=\"#indice\"><font size=5><i class=\"fa fa-arrow-circle-up\" aria-hidden=\"true\" style=\"color:#004D7F\"></i></font></a>\n",
    "</div>\n",
    "\n",
    "---"
   ]
  },
  {
   "cell_type": "markdown",
   "metadata": {},
   "source": [
    "<a id=\"section3\"></a> \n",
    "# <font color=\"#004D7F\"> 3. Ajuste de hiperparámetros para DCS</font>"
   ]
  },
  {
   "cell_type": "markdown",
   "metadata": {},
   "source": [
    "En esta sección, analizaremos dos de los principales hiperparámetros:\n",
    "- El valor de `k` en el modelo KNN utilizado en la evaluación local de los modelos, y\n",
    "- Cómo usar un hiperparámetro personalizado para el conjunto de clasificadores.\n",
    "\n",
    "Usaremos DCS-LA con OLA como base para estos experimentos."
   ]
  },
  {
   "cell_type": "markdown",
   "metadata": {},
   "source": [
    "<a id=\"section31\"></a> \n",
    "## <font color=\"#004D7F\"> 3.1. Parámetro `k` en KNN</font>"
   ]
  },
  {
   "cell_type": "markdown",
   "metadata": {},
   "source": [
    "La configuración del algoritmo de KNN es fundamental para el modelo DCS-LA ya que define el alcance de la vecindad en la que se considera cada clasificador para la selección. El valor `k` controla el tamaño de la vecindad:\n",
    "- Valores demasiado pequeños significará que los ejemplos relevantes en el conjunto de entrenamiento podrían excluirse de la vecindad.\n",
    "- Valores demasiado grandes pueden significar que la señal está siendo eliminada por demasiados ejemplos. \n",
    "\n",
    "Veamos un ejemplo de DCS-LA con OLA para valores `k` de 2 a 21."
   ]
  },
  {
   "cell_type": "code",
   "execution_count": 5,
   "metadata": {
    "scrolled": true
   },
   "outputs": [
    {
     "ename": "IndentationError",
     "evalue": "unexpected indent (727423868.py, line 17)",
     "output_type": "error",
     "traceback": [
      "\u001b[0;36m  Cell \u001b[0;32mIn[5], line 17\u001b[0;36m\u001b[0m\n\u001b[0;31m    get_ipython().run_line_magic('pinfo2', '?')\u001b[0m\n\u001b[0m    ^\u001b[0m\n\u001b[0;31mIndentationError\u001b[0m\u001b[0;31m:\u001b[0m unexpected indent\n"
     ]
    }
   ],
   "source": [
    "from numpy import mean\n",
    "from numpy import std\n",
    "from sklearn.datasets import make_classification\n",
    "from sklearn.model_selection import cross_val_score\n",
    "from sklearn.model_selection import RepeatedStratifiedKFold\n",
    "from deslib.dcs.ola import OLA\n",
    "from matplotlib import pyplot\n",
    "\n",
    "def get_dataset():\n",
    "    X, y = make_classification(n_samples=10000, n_features=20, n_informative=15, n_redundant=5, random_state=7)\n",
    "    return X, y\n",
    "\n",
    "# lista de modelos a evaluar (valor e k de 2 a 21)\n",
    "def get_models():\n",
    "    ???\n",
    "    ???\n",
    "        ???\n",
    "    ???\n",
    "\n",
    "# evaluar el modelo\n",
    "def evaluate_model(model, X, y):\n",
    "    ???\n",
    "    ???\n",
    "    ???\n",
    "\n",
    "# dataset\n",
    "X, y = ???\n",
    "# obtener modelos a evaluar\n",
    "models = ???\n",
    "# evaluar y almacenar resultados\n",
    "results, names = ???\n",
    "???\n",
    "    ???\n",
    "    ???\n",
    "    ???\n",
    "    print('>%s %.3f (%.3f)' % (name, mean(scores), std(scores)))\n",
    "\n",
    "pyplot.boxplot(results, labels=names, showmeans=True)\n",
    "pyplot.show()"
   ]
  },
  {
   "cell_type": "markdown",
   "metadata": {},
   "source": [
    "<div class=\"alert alert-block alert-info\">\n",
    "    \n",
    "<i class=\"fa fa-info-circle\" aria-hidden=\"true\"></i> __Nota__: Sus resultados pueden variar dada la naturaleza estocástica del algoritmo o procedimiento de evaluación, o diferencias en la precisión numérica. Considere ejecutar el ejemplo varias veces y comparar el resultado promedio.\n",
    "</div>"
   ]
  },
  {
   "cell_type": "markdown",
   "metadata": {},
   "source": [
    "<a id=\"section32\"></a> \n",
    "## <font color=\"#004D7F\"> 3.2. Explorar algoritmos para el grupo de clasificadores</font>"
   ]
  },
  {
   "cell_type": "markdown",
   "metadata": {},
   "source": [
    "De forma predeterminada se utilizan árboles de decisión Bagging."
   ]
  },
  {
   "cell_type": "markdown",
   "metadata": {},
   "source": [
    "<a id=\"section321\"></a> \n",
    "### <font color=\"#004D7F\"> 3.2.1. Grupo de clasificadores</font>"
   ]
  },
  {
   "cell_type": "markdown",
   "metadata": {},
   "source": [
    "Se puede considerar un grupo personalizado de clasificadores. \n",
    "- Como no podemos utilizar una validación cruzada vamos a utilizar un partición por porcentaje.\n",
    "- La lista de clasificadores aptos se puede especificar para la clase OLA (o LCA) a través del argumento `pool_classifiers`.\n",
    "- En este caso, utilizaremos un grupo que incluye regresión logística, un árbol de decisión y Naive Bayes. "
   ]
  },
  {
   "cell_type": "code",
   "execution_count": 6,
   "metadata": {},
   "outputs": [
    {
     "ename": "SyntaxError",
     "evalue": "unmatched ')' (3948550307.py, line 23)",
     "output_type": "error",
     "traceback": [
      "\u001b[0;36m  Cell \u001b[0;32mIn[6], line 23\u001b[0;36m\u001b[0m\n\u001b[0;31m    score = ???)\u001b[0m\n\u001b[0m               ^\u001b[0m\n\u001b[0;31mSyntaxError\u001b[0m\u001b[0;31m:\u001b[0m unmatched ')'\n"
     ]
    }
   ],
   "source": [
    "from sklearn.datasets import make_classification\n",
    "from sklearn.model_selection import train_test_split\n",
    "from sklearn.metrics import accuracy_score\n",
    "from deslib.dcs.ola import OLA\n",
    "from sklearn.linear_model import LogisticRegression\n",
    "from sklearn.tree import DecisionTreeClassifier\n",
    "from sklearn.naive_bayes import GaussianNB\n",
    "\n",
    "X, y = get_dataset()\n",
    "# Particiòn en un 50%\n",
    "???\n",
    "# definimos los clasificadores\n",
    "classifiers = ???\n",
    "# Entrenamos cada clasificador en train\n",
    "???\n",
    "# definimos el modelo DCS-LA\n",
    "???\n",
    "# entrenamos el metamodelo\n",
    "???\n",
    "# hacer las predicciónes en test y sacar el accuracy\n",
    "???)\n",
    "# evaluate predictions\n",
    "score = ???)\n",
    "print('Accuracy: %.3f' % (score))"
   ]
  },
  {
   "cell_type": "markdown",
   "metadata": {},
   "source": [
    "<div class=\"alert alert-block alert-info\">\n",
    "    \n",
    "<i class=\"fa fa-info-circle\" aria-hidden=\"true\"></i> __Nota__: Sus resultados pueden variar dada la naturaleza estocástica del algoritmo o procedimiento de evaluación, o diferencias en la precisión numérica. Considere ejecutar el ejemplo varias veces y comparar el resultado promedio.\n",
    "</div>"
   ]
  },
  {
   "cell_type": "markdown",
   "metadata": {},
   "source": [
    "<a id=\"section322\"></a> \n",
    "### <font color=\"#004D7F\"> 3.2.2. Modelo contribuyente</font>"
   ]
  },
  {
   "cell_type": "markdown",
   "metadata": {},
   "source": [
    "- Para adoptar el modelo DCS, debe funcionar mejor que cualquier modelo contribuyente.\n",
    "- De lo contrario, simplemente utilizaríamos el modelo contribuyente que funcione mejor.\n",
    "- Podemos verificar esto evaluando el desempeño de cada clasificador contribuyente en test."
   ]
  },
  {
   "cell_type": "code",
   "execution_count": 7,
   "metadata": {
    "scrolled": true
   },
   "outputs": [
    {
     "ename": "IndentationError",
     "evalue": "unexpected indent (4289001939.py, line 4)",
     "output_type": "error",
     "traceback": [
      "\u001b[0;36m  Cell \u001b[0;32mIn[7], line 4\u001b[0;36m\u001b[0m\n\u001b[0;31m    get_ipython().run_line_magic('pinfo2', '?')\u001b[0m\n\u001b[0m    ^\u001b[0m\n\u001b[0;31mIndentationError\u001b[0m\u001b[0;31m:\u001b[0m unexpected indent\n"
     ]
    }
   ],
   "source": [
    "# evaluate contributing models\n",
    "print('Accuracy total: %.3f' % (score))\n",
    "???\n",
    "    ???\n",
    "    ???\n",
    "    print('>%s: %.3f' % (c.__class__.__name__, score))"
   ]
  },
  {
   "cell_type": "markdown",
   "metadata": {},
   "source": [
    "<div class=\"alert alert-block alert-info\">\n",
    "    \n",
    "<i class=\"fa fa-info-circle\" aria-hidden=\"true\"></i> __Nota__: Sus resultados pueden variar dada la naturaleza estocástica del algoritmo o procedimiento de evaluación, o diferencias en la precisión numérica. Considere ejecutar el ejemplo varias veces y comparar el resultado promedio.\n",
    "</div>"
   ]
  },
  {
   "cell_type": "markdown",
   "metadata": {},
   "source": [
    "---\n",
    "<div style=\"text-align: right\">\n",
    "<a href=\"#indice\"><font size=5><i class=\"fa fa-arrow-circle-up\" aria-hidden=\"true\" style=\"color:#004D7F\"></i></font></a>\n",
    "</div>\n",
    "\n",
    "---"
   ]
  },
  {
   "cell_type": "markdown",
   "metadata": {},
   "source": [
    "<a id=\"sectionEj\"></a>\n",
    "<h3><font color=\"#004D7F\" size=6> <i class=\"fa fa-pencil-square-o\" aria-hidden=\"true\" style=\"color:#113D68\"></i> Ejercicios</font></h3>"
   ]
  },
  {
   "cell_type": "markdown",
   "metadata": {},
   "source": [
    "Se proponen las siguientes actividades para consolidar el aprendizaje."
   ]
  },
  {
   "cell_type": "markdown",
   "metadata": {},
   "source": [
    "# <font color=\"#004D7F\" size=5>Ejercicio 1</font>\n",
    "__DCS-LA con LCA__. En los ejemplos finales hemos visto para OLA, utilice el ejemplo con LCA."
   ]
  },
  {
   "cell_type": "code",
   "execution_count": null,
   "metadata": {},
   "outputs": [],
   "source": []
  },
  {
   "cell_type": "markdown",
   "metadata": {},
   "source": [
    "# <font color=\"#004D7F\" size=5>Ejercicio 2</font>\n",
    "__Hiperparámetros__. ¿Qué otros hiperparámetros se pueden utilizar? Indaga y descubra más hiperparámetros y evalúe su uso."
   ]
  },
  {
   "cell_type": "code",
   "execution_count": null,
   "metadata": {},
   "outputs": [],
   "source": []
  },
  {
   "cell_type": "markdown",
   "metadata": {},
   "source": [
    "# <font color=\"#004D7F\" size=5>Ejercicio 3</font>\n",
    "__Más conjuntos de datos__. Busque un dataset original y verdadero (que no sea sintético) y evalúe el uso de los conceptos vistos en esta unidad. Los conjuntos de datos en pueden ser obtenidos del [repositorio de aprendizaje automático de UCI](https://archive.ics.uci.edu/)."
   ]
  },
  {
   "cell_type": "code",
   "execution_count": null,
   "metadata": {},
   "outputs": [],
   "source": []
  },
  {
   "cell_type": "markdown",
   "metadata": {},
   "source": [
    "# <font color=\"#004D7F\" size=5>Ejercicio 4</font>\n",
    "__Clasificadores__. Evalué todo los ejercicios anteriores con el uso de clasificadores distintos a los vistos en la unidad, i.e., diferentes a LoR, CART y NB."
   ]
  },
  {
   "cell_type": "code",
   "execution_count": null,
   "metadata": {},
   "outputs": [],
   "source": []
  },
  {
   "cell_type": "markdown",
   "metadata": {},
   "source": [
    "# <font color=\"#004D7F\" size=5>Ejercicio 5</font>\n",
    "__Más sobre DESlib__. DESlib es una librería muy interesante que incluye una gran cantidad de modelos y técnicas. Selecciona 4 técnicas adicionales y desarróllelas (tanto teóricamente de la técnica como la práctica)."
   ]
  },
  {
   "cell_type": "code",
   "execution_count": null,
   "metadata": {},
   "outputs": [],
   "source": []
  },
  {
   "cell_type": "markdown",
   "metadata": {},
   "source": [
    "---\n",
    "\n",
    "<div style=\"text-align: right\">\n",
    "<a href=\"#indice\"><font size=5><i class=\"fa fa-arrow-circle-up\" aria-hidden=\"true\" style=\"color:#004D7F\"></i></font></a>\n",
    "</div>\n",
    "\n",
    "---\n",
    "\n",
    "<div style=\"text-align: right\"> <font size=6><i class=\"fa fa-coffee\" aria-hidden=\"true\" style=\"color:#004D7F\"></i> </font></div>"
   ]
  }
 ],
 "metadata": {
  "kernelspec": {
   "display_name": "Python 3 (ipykernel)",
   "language": "python",
   "name": "python3"
  },
  "language_info": {
   "codemirror_mode": {
    "name": "ipython",
    "version": 3
   },
   "file_extension": ".py",
   "mimetype": "text/x-python",
   "name": "python",
   "nbconvert_exporter": "python",
   "pygments_lexer": "ipython3",
   "version": "3.11.5"
  }
 },
 "nbformat": 4,
 "nbformat_minor": 4
}
