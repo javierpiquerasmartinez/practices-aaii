{
 "cells": [
  {
   "cell_type": "markdown",
   "metadata": {},
   "source": [
    "<h2><font color=\"#004D7F\" size=5>Módulo 2: Bootstrap Aggregation</font></h2>\n",
    "\n",
    "\n",
    "\n",
    "<h1><font color=\"#004D7F\" size=6> 4. Feature Selection Subspace </font></h1>\n",
    "\n",
    "<br><br>\n",
    "<div style=\"text-align: right\">\n",
    "<font color=\"#004D7F\" size=3>Manuel Castillo-Cara</font><br>\n",
    "<font color=\"#004D7F\" size=3>Aprendizaje Automático II</font><br>\n",
    "<font color=\"#004D7F\" size=3>Universidad Nacional de Educación a Distancia</font>\n",
    "\n",
    "</div>"
   ]
  },
  {
   "cell_type": "markdown",
   "metadata": {},
   "source": [
    "---\n",
    "\n",
    "<a id=\"indice\"></a>\n",
    "<h2><font color=\"#004D7F\" size=5>Índice</font></h2>\n",
    "\n",
    "\n",
    "* [1. Algoritmo de conjunto Feature Selection Subspace](#section1)\n",
    "* [2. Feature Selection Subspace: Método simple](#section2)\n",
    "    * [2.1. Estadístico ANOVA](#section21)\n",
    "    * [2.2. Información Mutua](#section22)\n",
    "    * [2.3. Selección de Características Recursivas (RFE)](#section23)\n",
    "* [3. Combined Feature Selection](#section3)\n",
    "   * [3.1. Conjunto con número fijo de características](#section31)\n",
    "   * [3.2. Conjunto con número continuo de características](#section32)\n",
    "* [Ejercicios](#sectionEj)"
   ]
  },
  {
   "cell_type": "markdown",
   "metadata": {},
   "source": [
    "---\n",
    "\n",
    "<a id=\"section0\"></a>\n",
    "# <font color=\"#004D7F\">0. Contexto</font>"
   ]
  },
  {
   "cell_type": "markdown",
   "metadata": {},
   "source": [
    "- Random Subspace consiste en el ajuste del modelo en diferentes grupos de características de entrada (columnas) seleccionados aleatoriamente en train. \n",
    "- Feature selection son las técnicas más populares. \n",
    "\n",
    "Después de completar este tutorial, sabrá:\n",
    "- La selección de características proporciona una alternativa a Random Subspace para seleccionar grupos de entradas decaracterísticas.\n",
    "- Cómo desarrollar y evaluar conjuntos mediante técnicas de selección de elementos individuales.\n",
    "- Cómo desarrollar y evaluar conjuntos seleccionadas mediante múltiples técnicas diferentes de selección de características."
   ]
  },
  {
   "cell_type": "markdown",
   "metadata": {},
   "source": [
    "---\n",
    "<div style=\"text-align: right\">\n",
    "<a href=\"#indice\"><font size=5><i class=\"fa fa-arrow-circle-up\" aria-hidden=\"true\" style=\"color:#004D7F\"></i></font></a>\n",
    "</div>\n",
    "\n",
    "---"
   ]
  },
  {
   "cell_type": "markdown",
   "metadata": {},
   "source": [
    "<a id=\"section1\"></a>\n",
    "# <font color=\"#004D7F\"> 1. Algoritmo de conjunto Feature Selection Subspace</font>"
   ]
  },
  {
   "cell_type": "markdown",
   "metadata": {},
   "source": [
    "- Random Subspace ajusta un modelo en diferentes grupos de columnas seleccionadas al azar en el conjunto de datos de entrenamiento. \n",
    "- La diferencia en la elección de las columnas de cada modelo del conjunto da como resultado una diversidad de modelos y sus predicciones. \n",
    "- Cada modelo funciona bien, aunque cada uno lo hace de manera diferente, cometiendo diferentes errores.\n",
    "- La selección de características intenta seleccionar un subconjunto de columnas que sea más relevante para la variable de destino. \n",
    "- Los enfoques populares implican el uso:\n",
    "    - De medidas estadísticas, como información mutua, y\n",
    "    - La evaluación de modelos en subconjuntos de características y la selección del subconjunto que da como resultado el modelo de mejor rendimiento, lo que se denomina eliminación recursiva de características (RFE) para abreviar.\n",
    "- La diferencia principal con Random Subspaces es que este selecciona características al azar\n",
    "- Feautre Selection Subspaces lo hace en base a un método de Feature Selection, i.e., en base a una métrica.\n",
    "\n",
    "Dos enfoques naturales incluyan:\n",
    "- __Método simple__: genera un subespacio de características para cada número de características desde 1 hasta el número de columnas, ajusta un modelo en cada una y combina sus predicciones.\n",
    "- __Múltiples métodos__: genere un subespacio de características usando múltiples métodos de selección de características diferentes, ajusta un modelo a cada uno y combinar sus predicciones.\n",
    "\n",
    "<figure><center>\n",
    "  <img src=\"data/featureSelectionSubset.png\" width=\"450\" height=\"450\" alt=\"Gráfica\">\n",
    "  <figcaption><blockquote>feature Selection Subset. Extraída de <a href=\"http://dx.doi.org/10.21203/rs.3.rs-3229911/v1\">Random Subspace Evolutionary Feature Selection for High-dimensional Data</a></blockquote></figcaption>\n",
    "</center></figure>"
   ]
  },
  {
   "cell_type": "markdown",
   "metadata": {},
   "source": [
    "<a id=\"section11\"></a> \n",
    "## <font color=\"#004D7F\"> 1.1. Dataset</font>"
   ]
  },
  {
   "cell_type": "markdown",
   "metadata": {},
   "source": [
    "Definamos un problema de prueba como base para esta exploración y establezcamos una línea de base en el rendimiento para ver si ofrece un beneficio sobre un solo modelo. Primero, podemos usar la función `make_classification()` para crear un problema de clasificación binaria sintética con 1000 ejemplos y 20 características de entrada. El ejemplo completo se enumera a continuación."
   ]
  },
  {
   "cell_type": "code",
   "execution_count": 10,
   "metadata": {
    "scrolled": true
   },
   "outputs": [
    {
     "name": "stdout",
     "output_type": "stream",
     "text": [
      "(1000, 20) (1000,)\n"
     ]
    }
   ],
   "source": [
    "from sklearn.datasets import make_classification\n",
    "\n",
    "X, y = make_classification(n_samples=1000, n_features=20, n_informative=15, n_redundant=5, random_state=5)\n",
    "print(X.shape, y.shape)"
   ]
  },
  {
   "cell_type": "markdown",
   "metadata": {},
   "source": [
    "La ejecución del ejemplo crea el conjunto de datos y resume la forma de los componentes de entrada y salida."
   ]
  },
  {
   "cell_type": "markdown",
   "metadata": {},
   "source": [
    "<a id=\"section12\"></a> \n",
    "## <font color=\"#004D7F\"> 1.2. Resultado de línea base</font>"
   ]
  },
  {
   "cell_type": "markdown",
   "metadata": {},
   "source": [
    "Establecemos una línea de base en el desempeño. Usaremos árboles de decisión."
   ]
  },
  {
   "cell_type": "code",
   "execution_count": 11,
   "metadata": {},
   "outputs": [
    {
     "name": "stdout",
     "output_type": "stream",
     "text": [
      "Accuracy medio: 0.796 (0.050)\n"
     ]
    }
   ],
   "source": [
    "from numpy import mean\n",
    "from numpy import std\n",
    "from sklearn.model_selection import cross_val_score\n",
    "from sklearn.model_selection import RepeatedStratifiedKFold\n",
    "from sklearn.tree import DecisionTreeClassifier\n",
    "\n",
    "# Definimos el modelo de línea base\n",
    "model = DecisionTreeClassifier()\n",
    "# método de evaulación\n",
    "cv = RepeatedStratifiedKFold(n_splits=10, n_repeats=3, random_state=1)\n",
    "# evaluamos\n",
    "n_scores = cross_val_score(model, X, y, scoring='accuracy', cv=cv, n_jobs=-1)\n",
    "# reportamos el rendimiento\n",
    "print('Accuracy medio: %.3f (%.3f)' % (mean(n_scores), std(n_scores)))"
   ]
  },
  {
   "cell_type": "markdown",
   "metadata": {},
   "source": [
    "<div class=\"alert alert-block alert-info\">\n",
    "    \n",
    "<i class=\"fa fa-info-circle\" aria-hidden=\"true\"></i> __Nota__: Sus resultados pueden variar dada la naturaleza estocástica del algoritmo o procedimiento de evaluación, o diferencias en la precisión numérica. Considere ejecutar el ejemplo varias veces y comparar el resultado promedio.\n",
    "</div>"
   ]
  },
  {
   "cell_type": "markdown",
   "metadata": {},
   "source": [
    "---\n",
    "<div style=\"text-align: right\">\n",
    "<a href=\"#indice\"><font size=5><i class=\"fa fa-arrow-circle-up\" aria-hidden=\"true\" style=\"color:#004D7F\"></i></font></a>\n",
    "</div>\n",
    "\n",
    "---"
   ]
  },
  {
   "cell_type": "markdown",
   "metadata": {},
   "source": [
    "<a id=\"section2\"></a> \n",
    "# <font color=\"#004D7F\"> 2. Feature Selection Subspace: Método simple</font>"
   ]
  },
  {
   "cell_type": "markdown",
   "metadata": {},
   "source": [
    "Veamos la creación de un conjunto a partir de las funciones seleccionadas mediante el método Feature Selection Subspace individual. \n",
    "- Para un método de selección de características determinado, lo aplicaremos repetidamente con diferentes números de características seleccionadas para crear __múltiples subespacios de características__. \n",
    "- Luego entrenaremos __un modelo en cada uno__, en este caso, un árbol de decisión, y combinaremos las predicciones. \n",
    "- Hay muchas formas de combinar las predicciones,en este caso usaremos un conjunto de votación que se puede configurar para usar votación dura (en este caso) o blanda para la clasificación, o promediando para la regresión.\n",
    "\n",
    "El procedimiento será el siguiente:\n",
    "1. Cada modelo en el conjunto de votación será un `Pipeline` donde el primer paso es un método de selección de características, configurado para seleccionar una cantidad específica de características, seguido de un modelo clasificador de árbol de decisión. \n",
    "2. Crearemos un subespacio de selección de características para cada número de columnas en el conjunto de datos de entrada, desde 1 hasta el número de columnas. \n",
    "3. Definimos una función auxiliar llamada `get_ensemble()` que crea un conjunto de votación (`VotingClassifier`) con miembros basados en selección de características para un número determinado de características de entrada.\n",
    "    - Podemos utilizar otros métodos de selección de características diferentes al del ejemplo\n",
    "5. Se utiliza el sistema de votos mayoritarios de las predicciones realizadas por los miembros contribuyentes."
   ]
  },
  {
   "cell_type": "markdown",
   "metadata": {},
   "source": [
    "Dado que estamos trabajando con un conjunto de datos de clasificación, exploraremos tres métodos de selección características diferentes:\n",
    "- Estadístico ANOVA.\n",
    "- Información mutua.\n",
    "- Selección de funciones recursivas (RFE)."
   ]
  },
  {
   "cell_type": "markdown",
   "metadata": {},
   "source": [
    "<a id=\"section21\"></a> \n",
    "## <font color=\"#004D7F\"> 2.1. Estadístico ANOVA</font>"
   ]
  },
  {
   "cell_type": "markdown",
   "metadata": {},
   "source": [
    "- Un test F, es una clase de pruebas estadísticas que calculan la relación entre valores de varianzas, como la varianza de dos muestras diferentes o la varianza explicada y no explicada mediante una prueba estadística, como ANOVA. \n",
    "- ANOVA es una prueba de hipótesis estadística paramétrica para determinar si las medias de dos o más muestras de datos (a menudo tres o más) provienen de la misma distribución o no. \n",
    "- La librería scikit-learn proporciona una implementación del ANOVA en la función `f_classif()` a través de la clase `SelectKBest`."
   ]
  },
  {
   "cell_type": "markdown",
   "metadata": {},
   "source": [
    "<div class=\"alert alert-block alert-info\">\n",
    "    \n",
    "<i class=\"fa fa-info-circle\" aria-hidden=\"true\"></i> __Nota__: Más información sobre la clase [`SelectKBest`](https://scikit-learn.org/stable/modules/generated/sklearn.feature_selection.SelectKBest.html)\n",
    "</div>"
   ]
  },
  {
   "cell_type": "markdown",
   "metadata": {},
   "source": [
    "<div class=\"alert alert-block alert-info\">\n",
    "    \n",
    "<i class=\"fa fa-info-circle\" aria-hidden=\"true\"></i> __Nota__: Más información sobre la función [`f_classif()`](https://scikit-learn.org/stable/modules/generated/sklearn.feature_selection.f_classif.html#sklearn.feature_selection.f_classif)\n",
    "</div>"
   ]
  },
  {
   "cell_type": "markdown",
   "metadata": {},
   "source": [
    "<div class=\"alert alert-block alert-info\">\n",
    "    \n",
    "<i class=\"fa fa-info-circle\" aria-hidden=\"true\"></i> __Nota__: Más información sobre la clase [`VotingClassifier()`](https://scikit-learn.org/stable/modules/generated/sklearn.ensemble.VotingClassifier.html)\n",
    "</div>"
   ]
  },
  {
   "cell_type": "markdown",
   "metadata": {},
   "source": [
    "<div class=\"alert alert-block alert-info\">\n",
    "    \n",
    "<i class=\"fa fa-info-circle\" aria-hidden=\"true\"></i> __Nota__: Más información sobre la clase [`Pipeline()`](https://scikit-learn.org/stable/modules/generated/sklearn.pipeline.Pipeline.html)\n",
    "</div>"
   ]
  },
  {
   "cell_type": "code",
   "execution_count": 14,
   "metadata": {},
   "outputs": [],
   "source": [
    "def get_ensemble(n_features):\n",
    "    # definimos los modelos de línea base\n",
    "    models = list()\n",
    "    # enumeramos las características en train\n",
    "    for i in range(1, n_features+1):\n",
    "        # creamos el método de feature selection\n",
    "        fs = SelectKBest(score_func=f_classif, k=i)\n",
    "        # creamos el modelo\n",
    "        model = DecisionTreeClassifier()\n",
    "        # creamos un pipeline\n",
    "        pipeline = Pipeline([('fs',fs), ('m', model)])\n",
    "        # añadimos la tupa en la lista de modelos para voting\n",
    "        models.append((str(i), pipeline))\n",
    "    # definimos el modelo Voting\n",
    "    ensemble = VotingClassifier(estimators=models, voting='hard')\n",
    "    return ensemble"
   ]
  },
  {
   "cell_type": "code",
   "execution_count": 15,
   "metadata": {},
   "outputs": [
    {
     "name": "stdout",
     "output_type": "stream",
     "text": [
      "Accuracy medio: 0.830 (0.046)\n"
     ]
    }
   ],
   "source": [
    "from numpy import mean\n",
    "from numpy import std\n",
    "from sklearn.datasets import make_classification\n",
    "from sklearn.model_selection import cross_val_score\n",
    "from sklearn.model_selection import RepeatedStratifiedKFold\n",
    "from sklearn.feature_selection import SelectKBest\n",
    "from sklearn.feature_selection import f_classif\n",
    "from sklearn.tree import DecisionTreeClassifier\n",
    "from sklearn.ensemble import VotingClassifier\n",
    "from sklearn.pipeline import Pipeline\n",
    "\n",
    "X, y = make_classification(n_samples=1000, n_features=20, n_informative=15, n_redundant=5, random_state=5)\n",
    "# obtenemos los modelos de conjunto y le pasamos el número de características\n",
    "ensemble = get_ensemble(X.shape[1])\n",
    "# evaluamos el modelo\n",
    "cv = RepeatedStratifiedKFold(n_splits=10, n_repeats=3, random_state=1)\n",
    "n_scores = cross_val_score(ensemble, X, y, scoring='accuracy', cv=cv, n_jobs=-1)\n",
    "print('Accuracy medio: %.3f (%.3f)' % (mean(n_scores), std(n_scores)))"
   ]
  },
  {
   "cell_type": "markdown",
   "metadata": {},
   "source": [
    "La ejecución del ejemplo informa el accuracy de la media y la desviación estándar del modelo.\n",
    "\n",
    "En este caso, podemos ver un aumento en el rendimiento con respecto a un solo modelo que logró un accuracy de aproximadamente 79,4% a aproximadamente 83,2% utilizando un conjunto de modelos sobre características seleccionadas por la estadística ANOVA."
   ]
  },
  {
   "cell_type": "markdown",
   "metadata": {},
   "source": [
    "<div class=\"alert alert-block alert-info\">\n",
    "    \n",
    "<i class=\"fa fa-info-circle\" aria-hidden=\"true\"></i> __Nota__: Sus resultados pueden variar dada la naturaleza estocástica del algoritmo o procedimiento de evaluación, o diferencias en la precisión numérica. Considere ejecutar el ejemplo varias veces y comparar el resultado promedio.\n",
    "</div>"
   ]
  },
  {
   "cell_type": "markdown",
   "metadata": {},
   "source": [
    "<a id=\"section22\"></a> \n",
    "## <font color=\"#004D7F\"> 2.2. Información Mutua</font>"
   ]
  },
  {
   "cell_type": "markdown",
   "metadata": {},
   "source": [
    "- La información mutua del campo de la teoría de la información es la aplicación de la ganancia de información (normalmente utilizada en la construcción de árboles de decisión) a la selección de características. \n",
    "- La información mutua se calcula entre dos variables y mide la reducción de la incertidumbre de una variable dado un valor conocido de la otra variable. \n",
    "- Scikit-learn proporciona una implementación de información mutua para la selección de características a través de la función `mutual_info_classif()` en la clase `SelectKBest`."
   ]
  },
  {
   "cell_type": "markdown",
   "metadata": {},
   "source": [
    "<div class=\"alert alert-block alert-info\">\n",
    "    \n",
    "<i class=\"fa fa-info-circle\" aria-hidden=\"true\"></i> __Nota__: Más información sobre la función [`mutual_info_classif()`](https://scikit-learn.org/stable/modules/generated/sklearn.feature_selection.mutual_info_classif.html)\n",
    "</div>"
   ]
  },
  {
   "cell_type": "code",
   "execution_count": 16,
   "metadata": {},
   "outputs": [],
   "source": [
    "from sklearn.feature_selection import mutual_info_classif\n",
    "\n",
    "def get_ensemble(n_features):\n",
    "    models = list()\n",
    "    for i in range(1, n_features+1):\n",
    "        # creamos el método de feature selection\n",
    "        fs = SelectKBest(score_func=mutual_info_classif, k=i)\n",
    "        # creamos el modelo\n",
    "        model = DecisionTreeClassifier()\n",
    "        pipe = Pipeline([('fs', fs), ('m', model)])\n",
    "        models.append((str(i),pipe))\n",
    "    ensemble = VotingClassifier(estimators=models, voting='hard')\n",
    "    return ensemble"
   ]
  },
  {
   "cell_type": "code",
   "execution_count": 17,
   "metadata": {},
   "outputs": [
    {
     "name": "stdout",
     "output_type": "stream",
     "text": [
      "Accuracy medio: 0.830 (0.042)\n"
     ]
    }
   ],
   "source": [
    "ensemble = get_ensemble(X.shape[1])\n",
    "cv = RepeatedStratifiedKFold(n_splits=10, n_repeats=3, random_state=1)\n",
    "n_scores = cross_val_score(ensemble, X, y, scoring='accuracy', cv=cv, n_jobs=-1)\n",
    "print('Accuracy medio: %.3f (%.3f)' % (mean(n_scores), std(n_scores)))"
   ]
  },
  {
   "cell_type": "markdown",
   "metadata": {},
   "source": [
    "<div class=\"alert alert-block alert-info\">\n",
    "    \n",
    "<i class=\"fa fa-info-circle\" aria-hidden=\"true\"></i> __Nota__: Sus resultados pueden variar dada la naturaleza estocástica del algoritmo o procedimiento de evaluación, o diferencias en la precisión numérica. Considere ejecutar el ejemplo varias veces y comparar el resultado promedio.\n",
    "</div>"
   ]
  },
  {
   "cell_type": "markdown",
   "metadata": {},
   "source": [
    "<a id=\"section23\"></a> \n",
    "## <font color=\"#004D7F\"> 2.3. Selección de Características Recursivas (RFE)</font>"
   ]
  },
  {
   "cell_type": "markdown",
   "metadata": {},
   "source": [
    "- La eliminación recursiva de funciones (RFE) busca un subconjunto de funciones comenzando con todas las funciones en el conjunto de datos de entrenamiento y eliminando funciones exitosamente hasta que quede el número deseado. \n",
    "- RFE está disponible a través de la clase `RFE` en Scikit-learn."
   ]
  },
  {
   "cell_type": "markdown",
   "metadata": {},
   "source": [
    "<div class=\"alert alert-block alert-info\">\n",
    "    \n",
    "<i class=\"fa fa-info-circle\" aria-hidden=\"true\"></i> __Nota__: Más información sobre la clase [`RFE`](https://scikit-learn.org/stable/modules/generated/sklearn.feature_selection.RFE.html#sklearn.feature_selection.RFE)\n",
    "</div>"
   ]
  },
  {
   "cell_type": "code",
   "execution_count": 18,
   "metadata": {},
   "outputs": [],
   "source": [
    "from sklearn.feature_selection import RFE\n",
    "\n",
    "def get_ensemble(n_features):\n",
    "    models = list()\n",
    "    for i in range(1, n_features+1):\n",
    "        # creamos el método de feature selection\n",
    "        fs = RFE(estimator=DecisionTreeClassifier(), n_features_to_select=i)\n",
    "        # creamos el modelo\n",
    "        model = DecisionTreeClassifier()\n",
    "        pipe = Pipeline([('fs', fs), ('m', model)])\n",
    "        models.append((str(i),pipe))\n",
    "    ensemble = VotingClassifier(estimators=models, voting='hard')\n",
    "    return ensemble"
   ]
  },
  {
   "cell_type": "code",
   "execution_count": 19,
   "metadata": {},
   "outputs": [
    {
     "name": "stdout",
     "output_type": "stream",
     "text": [
      "Accuracy medio: 0.827 (0.042)\n"
     ]
    }
   ],
   "source": [
    "ensemble = get_ensemble(X.shape[1])\n",
    "\n",
    "cv = RepeatedStratifiedKFold(n_splits=10, n_repeats=3, random_state=1)\n",
    "n_scores = cross_val_score(ensemble, X, y, scoring='accuracy', cv=cv, n_jobs=-1)\n",
    "print('Accuracy medio: %.3f (%.3f)' % (mean(n_scores), std(n_scores)))"
   ]
  },
  {
   "cell_type": "markdown",
   "metadata": {},
   "source": [
    "<div class=\"alert alert-block alert-info\">\n",
    "    \n",
    "<i class=\"fa fa-info-circle\" aria-hidden=\"true\"></i> __Nota__: Sus resultados pueden variar dada la naturaleza estocástica del algoritmo o procedimiento de evaluación, o diferencias en la precisión numérica. Considere ejecutar el ejemplo varias veces y comparar el resultado promedio.\n",
    "</div>"
   ]
  },
  {
   "cell_type": "markdown",
   "metadata": {},
   "source": [
    "---\n",
    "<div style=\"text-align: right\">\n",
    "<a href=\"#indice\"><font size=5><i class=\"fa fa-arrow-circle-up\" aria-hidden=\"true\" style=\"color:#004D7F\"></i></font></a>\n",
    "</div>\n",
    "\n",
    "---"
   ]
  },
  {
   "cell_type": "markdown",
   "metadata": {},
   "source": [
    "<a id=\"section3\"></a> \n",
    "# <font color=\"#004D7F\"> 3. Combined Feature Selection</font>"
   ]
  },
  {
   "cell_type": "markdown",
   "metadata": {},
   "source": [
    "- Hasta ahora hemos visto un solo modelo utilizando un método de selección de características únicas como base de una predicción conjunta para un conjunto de datos. \n",
    "- Esperaríamos que las predicciones entre muchos de los miembros del conjunto estuvieran correlacionadas. \n",
    "- Esto podría solucionarse utilizando diferentes números de características en lugar de un número contiguo de características de 1 al número de columnas. \n",
    "\n",
    "Un enfoque alternativo para introducir diversidad es seleccionar subespacios de características utilizando diferentes métodos de selección de características. Exploraremos dos versiones de este enfoque. \n",
    "1. Con el primero, seleccionaremos la misma cantidad de características de cada método, y \n",
    "2. Con el segundo, seleccionaremos una cantidad contigua de características de 1 a la cantidad de columnas para múltiples métodos."
   ]
  },
  {
   "cell_type": "markdown",
   "metadata": {},
   "source": [
    "<a id=\"section31\"></a> \n",
    "## <font color=\"#004D7F\"> 3.1. Conjunto con número fijo de características</font>"
   ]
  },
  {
   "cell_type": "markdown",
   "metadata": {},
   "source": [
    "1. Seleccionaremos una cantidad arbitraria de características.\n",
    "2. Usaremos cada uno de los tres métodos de selección de características para seleccionar un subespacio de características.\n",
    "3. Ajustaremos un modelo de cada uno y los usaremos como base para un conjunto de votación. Implemetaresmos la función `get_ensemble()`.\n",
    "4. Esperamos que las características seleccionadas por cada método sean lo suficientemente diferentes para dar como resultado un conjunto eficaz."
   ]
  },
  {
   "cell_type": "code",
   "execution_count": 20,
   "metadata": {},
   "outputs": [],
   "source": [
    "def get_ensemble(n_features):\n",
    "    models = list()\n",
    "    # miembros ANOVA\n",
    "    fs = SelectKBest(score_func=f_classif, k=n_features)\n",
    "    anova = Pipeline([('fs', fs), ('m', DecisionTreeClassifier())])\n",
    "    models.append(('anova', anova))\n",
    "    # Información mútua\n",
    "    fs = SelectKBest(score_func=mutual_info_classif, k=n_features)\n",
    "    mutual = Pipeline([('fs', fs), ('m', DecisionTreeClassifier())])\n",
    "    models.append(('mutual', mutual))\n",
    "    # RFE\n",
    "    fs = RFE(estimator=DecisionTreeClassifier(), n_features_to_select=n_features)\n",
    "    rfe = Pipeline([('fs', fs), ('m', DecisionTreeClassifier())])\n",
    "    models.append(('rfe', rfe))\n",
    "    # definimos Votingdefine the voting ensemble\n",
    "    ensemble = VotingClassifier(estimators=models, voting='hard')\n",
    "    return ensemble"
   ]
  },
  {
   "cell_type": "code",
   "execution_count": 21,
   "metadata": {},
   "outputs": [
    {
     "name": "stdout",
     "output_type": "stream",
     "text": [
      "Accuracy medio: 0.838 (0.039)\n"
     ]
    }
   ],
   "source": [
    "\n",
    "X, y = make_classification(n_samples=1000, n_features=20, n_informative=15, n_redundant=5, random_state=1)\n",
    "\n",
    "ensemble = get_ensemble(12)\n",
    "\n",
    "cv = RepeatedStratifiedKFold(n_splits=10, n_repeats=3, random_state=1)\n",
    "n_scores = cross_val_score(ensemble, X, y, scoring='accuracy', cv=cv, n_jobs=-1)\n",
    "print('Accuracy medio: %.3f (%.3f)' % (mean(n_scores), std(n_scores)))"
   ]
  },
  {
   "cell_type": "markdown",
   "metadata": {},
   "source": [
    "<div class=\"alert alert-block alert-info\">\n",
    "    \n",
    "<i class=\"fa fa-info-circle\" aria-hidden=\"true\"></i> __Nota__: Sus resultados pueden variar dada la naturaleza estocástica del algoritmo o procedimiento de evaluación, o diferencias en la precisión numérica. Considere ejecutar el ejemplo varias veces y comparar el resultado promedio.\n",
    "</div>"
   ]
  },
  {
   "cell_type": "markdown",
   "metadata": {},
   "source": [
    "<a id=\"section311\"></a> \n",
    "### <font color=\"#004D7F\"> 3.1.1. Comparación con cada modelo individualmente</font>"
   ]
  },
  {
   "cell_type": "markdown",
   "metadata": {},
   "source": [
    "Una comparación más justa podría ser comparar este resultado con cada modelo individual que comprende el conjunto. "
   ]
  },
  {
   "cell_type": "code",
   "execution_count": 22,
   "metadata": {},
   "outputs": [],
   "source": [
    "from matplotlib import pyplot\n",
    "\n",
    "def get_ensemble(n_features):\n",
    "    models, names = list(), list()\n",
    "    # ANOVA\n",
    "    fs = SelectKBest(score_func=f_classif, k=n_features)\n",
    "    anova = Pipeline([('fs', fs), ('m', DecisionTreeClassifier())])\n",
    "    models.append(('anova', anova))\n",
    "    names.append('anova')\n",
    "    # Información mutua\n",
    "    fs = SelectKBest(score_func=mutual_info_classif, k=n_features)\n",
    "    mutinfo = Pipeline([('fs', fs), ('m', DecisionTreeClassifier())])\n",
    "    models.append(('mutinfo', mutinfo))\n",
    "    names.append('mutinfo')\n",
    "    # RFE\n",
    "    fs = RFE(estimator=DecisionTreeClassifier(), n_features_to_select=n_features)\n",
    "    rfe = Pipeline([('fs', fs), ('m', DecisionTreeClassifier())])\n",
    "    models.append(('rfe', rfe))\n",
    "    names.append('rfe')\n",
    "    ensemble = VotingClassifier(estimators=models, voting='hard')\n",
    "    names.append('ensemble')\n",
    "    return names, [anova, mutinfo, rfe, ensemble]"
   ]
  },
  {
   "cell_type": "code",
   "execution_count": 23,
   "metadata": {},
   "outputs": [
    {
     "name": "stdout",
     "output_type": "stream",
     "text": [
      ">anova: 0.817 (0.039)\n",
      ">mutinfo: 0.809 (0.040)\n",
      ">rfe: 0.829 (0.038)\n",
      ">ensemble: 0.841 (0.039)\n"
     ]
    }
   ],
   "source": [
    "X, y = make_classification(n_samples=1000, n_features=20, n_informative=15, n_redundant=5, random_state=1)\n",
    "\n",
    "names, models = get_ensemble(15)\n",
    "# evaluar cada modelo\n",
    "results = list()\n",
    "for model, name in zip(models, names):\n",
    "    cv = RepeatedStratifiedKFold(n_splits=10, n_repeats=3, random_state=1)\n",
    "    n_scores = cross_val_score(model, X, y, scoring='accuracy', cv=cv, n_jobs=-1)\n",
    "    #Almacenar resultados\n",
    "    results.append(n_scores)\n",
    "    print('>%s: %.3f (%.3f)' % (name, mean(n_scores), std(n_scores)))"
   ]
  },
  {
   "cell_type": "code",
   "execution_count": 24,
   "metadata": {},
   "outputs": [
    {
     "data": {
      "image/png": "[encoded data removed]",
      "text/plain": [
       "<Figure size 432x288 with 1 Axes>"
      ]
     },
     "metadata": {
      "needs_background": "light"
     },
     "output_type": "display_data"
    }
   ],
   "source": [
    "pyplot.boxplot(results, labels=names, showmeans=True)\n",
    "pyplot.show()"
   ]
  },
  {
   "cell_type": "markdown",
   "metadata": {},
   "source": [
    "<div class=\"alert alert-block alert-info\">\n",
    "    \n",
    "<i class=\"fa fa-info-circle\" aria-hidden=\"true\"></i> __Nota__: Sus resultados pueden variar dada la naturaleza estocástica del algoritmo o procedimiento de evaluación, o diferencias en la precisión numérica. Considere ejecutar el ejemplo varias veces y comparar el resultado promedio.\n",
    "</div>"
   ]
  },
  {
   "cell_type": "markdown",
   "metadata": {},
   "source": [
    "<a id=\"section32\"></a> \n",
    "## <font color=\"#004D7F\"> 3.2. Conjunto con número continuo de características</font>"
   ]
  },
  {
   "cell_type": "markdown",
   "metadata": {},
   "source": [
    "En este caso seleccionaremos subespacios como hicimos en la sección anterior desde 1 hasta el número de columnas del conjunto de datos, aunque en este caso repetiremos el proceso con cada método de selección de características.\n",
    "\n",
    "Esperamos que la diversidad de las características seleccionadas a través de los métodos de selección de características resulte en un aumento adicional en el rendimiento del conjunto."
   ]
  },
  {
   "cell_type": "code",
   "execution_count": 27,
   "metadata": {},
   "outputs": [],
   "source": [
    "def get_ensemble(n_features_start, n_features_end):\n",
    "    models = list()\n",
    "    for i in range(n_features_start, n_features_end+1):\n",
    "        # anova \n",
    "        fs = SelectKBest(score_func=f_classif, k=i)\n",
    "        anova = Pipeline([('fs', fs), ('m', DecisionTreeClassifier())])\n",
    "        models.append(('anova'+str(i), anova))\n",
    "        # mutual information \n",
    "        fs = SelectKBest(score_func=mutual_info_classif, k=i)\n",
    "        mutinfo = Pipeline([('fs', fs), ('m', DecisionTreeClassifier())])\n",
    "        models.append(('mutinfo'+str(i), mutinfo))\n",
    "        # RFE\n",
    "        fs = RFE(estimator=DecisionTreeClassifier(), n_features_to_select=i)\n",
    "        rfe = Pipeline([('fs', fs), ('m', DecisionTreeClassifier())])\n",
    "        models.append(('rfe'+str(i), rfe))\n",
    "    ensemble = VotingClassifier(estimators=models, voting='hard')\n",
    "    return ensemble"
   ]
  },
  {
   "cell_type": "code",
   "execution_count": 30,
   "metadata": {},
   "outputs": [
    {
     "name": "stdout",
     "output_type": "stream",
     "text": [
      "Accuracy medio: 0.840 (0.039)\n"
     ]
    }
   ],
   "source": [
    "get_ensemble(4, 16)\n",
    "\n",
    "cv = RepeatedStratifiedKFold(n_splits=10, n_repeats=3, random_state=1)\n",
    "n_scores = cross_val_score(ensemble, X, y, scoring='accuracy', cv=cv, n_jobs=-1)\n",
    "print('Accuracy medio: %.3f (%.3f)' % (mean(n_scores), std(n_scores)))"
   ]
  },
  {
   "cell_type": "markdown",
   "metadata": {},
   "source": [
    "<div class=\"alert alert-block alert-info\">\n",
    "    \n",
    "<i class=\"fa fa-info-circle\" aria-hidden=\"true\"></i> __Nota__: Sus resultados pueden variar dada la naturaleza estocástica del algoritmo o procedimiento de evaluación, o diferencias en la precisión numérica. Considere ejecutar el ejemplo varias veces y comparar el resultado promedio.\n",
    "</div>"
   ]
  },
  {
   "cell_type": "markdown",
   "metadata": {},
   "source": [
    "---\n",
    "<div style=\"text-align: right\">\n",
    "<a href=\"#indice\"><font size=5><i class=\"fa fa-arrow-circle-up\" aria-hidden=\"true\" style=\"color:#004D7F\"></i></font></a>\n",
    "</div>\n",
    "\n",
    "---"
   ]
  },
  {
   "cell_type": "markdown",
   "metadata": {},
   "source": [
    "<a id=\"sectionEj\"></a>\n",
    "<h3><font color=\"#004D7F\" size=6> <i class=\"fa fa-pencil-square-o\" aria-hidden=\"true\" style=\"color:#113D68\"></i> Ejercicios</font></h3>"
   ]
  },
  {
   "cell_type": "markdown",
   "metadata": {},
   "source": [
    "Se proponen las siguientes actividades para consolidar el aprendizaje."
   ]
  },
  {
   "cell_type": "markdown",
   "metadata": {},
   "source": [
    "# <font color=\"#004D7F\" size=5>Ejercicio 1</font>\n",
    "__Hiperparámtros__. Explore diferentes configuraciones para la cantidad de árboles e incluso configuraciones de árbol individuales para ver si puede mejorar aún más los resultados. "
   ]
  },
  {
   "cell_type": "code",
   "execution_count": null,
   "metadata": {},
   "outputs": [],
   "source": []
  },
  {
   "cell_type": "markdown",
   "metadata": {},
   "source": [
    "# <font color=\"#004D7F\" size=5>Ejercicio 2</font>\n",
    "__Problema de Regresión__. Esté tipo de métodos se puede utilizar con árboles de regresión, desarrolle este concepto."
   ]
  },
  {
   "cell_type": "code",
   "execution_count": null,
   "metadata": {},
   "outputs": [],
   "source": []
  },
  {
   "cell_type": "markdown",
   "metadata": {},
   "source": [
    "# <font color=\"#004D7F\" size=5>Ejercicio 3</font>\n",
    "__Datasets reales__. Busque un dataset original y verdadero (que no sea sintético) y evalúe el uso de los conceptos vistos en esta unidad. Los conjuntos de datos en pueden ser obtenidos del [repositorio de aprendizaje automático de UCI](https://archive.ics.uci.edu/)."
   ]
  },
  {
   "cell_type": "code",
   "execution_count": null,
   "metadata": {},
   "outputs": [],
   "source": []
  },
  {
   "cell_type": "markdown",
   "metadata": {},
   "source": [
    "# <font color=\"#004D7F\" size=5>Ejercicio 4</font>\n",
    "__Feature Selection__. En este ejemplo hemos desarrollado estos conceptos con 3 métodos de selección de características. Existen muchos más, busque información sobre ellos y evalúe la opción de utilizar otros en un ejemplo como el realizado en esta unidad."
   ]
  },
  {
   "cell_type": "code",
   "execution_count": null,
   "metadata": {},
   "outputs": [],
   "source": []
  },
  {
   "cell_type": "markdown",
   "metadata": {},
   "source": [
    "# <font color=\"#004D7F\" size=5>Ejercicio 5</font>\n",
    "__Método múltiple__. En este ejemplo hemos desarrollado resolver este problema con el método simple. Existe el método múltiple, busque información sobre ello y evalúe la opción de utilizarlo en un ejemplo como el realizado en esta unidad."
   ]
  },
  {
   "cell_type": "code",
   "execution_count": null,
   "metadata": {},
   "outputs": [],
   "source": []
  },
  {
   "cell_type": "markdown",
   "metadata": {},
   "source": [
    "# <font color=\"#004D7F\" size=5>Ejercicio 6</font>\n",
    "__Métodos de Feature selection__. En el punto 2 se ha utilizado la clase `SelectKBest`. Evalúe 3 métodos diferentes y compruebe quién tiene mejor comportamiento"
   ]
  },
  {
   "cell_type": "code",
   "execution_count": null,
   "metadata": {},
   "outputs": [],
   "source": []
  },
  {
   "cell_type": "markdown",
   "metadata": {},
   "source": [
    "# <font color=\"#004D7F\" size=5>Ejercicio 7</font>\n",
    "__Búsqueda de la mejor configuración__. Como se ha visto existen diferentes hiperparámetros que pueden ajustar nuestro modelo. Haga una búsqueda para un dataset real de cuales, entre un rango amplio de hiperparétros, maximizan la métrica. Puede utilizar una búsqueda aleatoria."
   ]
  },
  {
   "cell_type": "code",
   "execution_count": null,
   "metadata": {},
   "outputs": [],
   "source": []
  },
  {
   "cell_type": "markdown",
   "metadata": {},
   "source": [
    "---\n",
    "\n",
    "<div style=\"text-align: right\">\n",
    "<a href=\"#indice\"><font size=5><i class=\"fa fa-arrow-circle-up\" aria-hidden=\"true\" style=\"color:#004D7F\"></i></font></a>\n",
    "</div>\n",
    "\n",
    "---\n",
    "\n",
    "<div style=\"text-align: right\"> <font size=6><i class=\"fa fa-coffee\" aria-hidden=\"true\" style=\"color:#004D7F\"></i> </font></div>"
   ]
  }
 ],
 "metadata": {
  "kernelspec": {
   "display_name": "Python 3",
   "language": "python",
   "name": "python3"
  },
  "language_info": {
   "codemirror_mode": {
    "name": "ipython",
    "version": 3
   },
   "file_extension": ".py",
   "mimetype": "text/x-python",
   "name": "python",
   "nbconvert_exporter": "python",
   "pygments_lexer": "ipython3",
   "version": "3.7.4"
  }
 },
 "nbformat": 4,
 "nbformat_minor": 4
}
