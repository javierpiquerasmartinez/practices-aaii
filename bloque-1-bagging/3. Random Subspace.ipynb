{
 "cells": [
  {
   "cell_type": "markdown",
   "metadata": {},
   "source": [
    "<h2><font color=\"#004D7F\" size=5>Módulo 2: Bootstrap Aggregation</font></h2>\n",
    "\n",
    "\n",
    "\n",
    "<h1><font color=\"#004D7F\" size=6> 3. Random Subspace Ensemble </font></h1>\n",
    "\n",
    "<br><br>\n",
    "<div style=\"text-align: right\">\n",
    "<font color=\"#004D7F\" size=3>Manuel Castillo-Cara</font><br>\n",
    "<font color=\"#004D7F\" size=3>Aprendizaje Automático II</font><br>\n",
    "<font color=\"#004D7F\" size=3>Universidad Nacional de Educación a Distancia</font>\n",
    "\n",
    "</div>"
   ]
  },
  {
   "cell_type": "markdown",
   "metadata": {},
   "source": [
    "---\n",
    "\n",
    "<a id=\"indice\"></a>\n",
    "<h2><font color=\"#004D7F\" size=5>Índice</font></h2>\n",
    "\n",
    "\n",
    "* [1. Algoritmo de conjunto Random Subspace](#section1)\n",
    "* [2. Random Subspace según el tipo de problema](#section2)\n",
    "    * [2.1. Random Subspace para Clasificación](#section21)\n",
    "    * [2.2. Random Subspace para Regresión](#section22)\n",
    "* [3. Hiperparámetros de Random Subspace](#section3)\n",
    "   * [3.1. Número de árboles](#section31)\n",
    "   * [3.2. Número de características](#section32)\n",
    "   * [3.3. Algoritmo alternativo](#section33)\n",
    "* [Ejercicios](#sectionEj)"
   ]
  },
  {
   "cell_type": "markdown",
   "metadata": {},
   "source": [
    "---\n",
    "\n",
    "<a id=\"section0\"></a>\n",
    "# <font color=\"#004D7F\">0. Contexto</font>"
   ]
  },
  {
   "cell_type": "markdown",
   "metadata": {},
   "source": [
    "Random Subspace Ensemble es un algoritmo de aprendizaje automático que combina las predicciones de múltiples árboles de decisión entrenados en diferentes subconjuntos de columnas en el conjunto de datos de entrenamiento. Variar aleatoriamente las columnas utilizadas para entrenar a cada miembro contribuyente del conjunto tiene el efecto de introducir diversidad en el conjunto y, a su vez, puede mejorar el rendimiento respecto al uso de un único árbol de decisión. Por tanto, estudiaremos en este tutorial:\n",
    "- Random Subspace se crean a partir de árboles de decisión que se ajustan a diferentes muestras de características (columnas) en el conjunto de datos de entrenamiento.\n",
    "- Cómo utilizar Random Subspace para clasificación y regresión con Scikit-learn.\n",
    "- Cómo explorar el efecto de los hiperparámetros de Random Subspace en el rendimiento del modelo."
   ]
  },
  {
   "cell_type": "markdown",
   "metadata": {},
   "source": [
    "---\n",
    "<div style=\"text-align: right\">\n",
    "<a href=\"#indice\"><font size=5><i class=\"fa fa-arrow-circle-up\" aria-hidden=\"true\" style=\"color:#004D7F\"></i></font></a>\n",
    "</div>\n",
    "\n",
    "---"
   ]
  },
  {
   "cell_type": "markdown",
   "metadata": {},
   "source": [
    "<a id=\"section1\"></a>\n",
    "# <font color=\"#004D7F\"> 1. Algoritmo de conjunto Random Subspace</font>"
   ]
  },
  {
   "cell_type": "markdown",
   "metadata": {},
   "source": [
    "Un problema de modelado predictivo consta de una o más variables de entrada y una variable objetivo. Podemos considerar que todas las características de entrada juntas definen un espacio vectorial de _n_ dimensiones, donde _n_ es el número de características de entrada y cada ejemplo (fila de datos de entrada) es un punto en el espacio de características. \n",
    "\n",
    "Esta es una conceptualización común en el aprendizaje automático y, a medida que los espacios de características de entrada se hacen más grandes, la distancia entre puntos en el espacio aumenta, lo que se conoce generalmente como la __maldición de la dimensionalidad__. Por lo tanto, \n",
    "- Un subconjunto de características de entrada puede considerarse como un subconjunto del espacio de características de entrada, o un subespacio.\n",
    "- Seleccionar características es una forma de definir un subespacio del espacio de características de entrada. \n",
    "    - Por ejemplo, la selección de características se refiere a un intento de reducir el número de dimensiones del espacio de características de entrada seleccionando un subconjunto de características para conservar o un subconjunto de características para eliminar, a menudo en función de su relación con la variable objetivo. \n",
    "- Alternativamente, podemos seleccionar subconjuntos aleatorios de características de entrada para definir subespacios aleatorios. \n",
    "\n",
    "Esto se puede utilizar como base para un algoritmo de aprendizaje conjunto, donde se puede ajustar un modelo a cada subespacio aleatorio de características. Esto se conoce como __Random Subspace__. \n",
    "\n",
    "Algunas consejos sobre Random Subspace:\n",
    "- Se puede utilizar con cualquier algoritmo de aprendizaje automático, aunque es adecuado para modelos que son sensibles a grandes cambios en las características de entrada, como árboles de decisión y KNN. \n",
    "- Es apropiado para conjuntos de datos que tienen una gran cantidad de características de entrada, ya que puede generar un buen rendimiento con buena eficiencia. \n",
    "- Si el conjunto de datos contiene muchas características de entrada irrelevantes, puede ser mejor utilizar la selección de características como técnica de preparación de datos, ya que la prevalencia de características irrelevantes en los subespacios puede perjudicar el rendimiento del conjunto.\n",
    "\n",
    "<figure><center>\n",
    "  <img src=\"data/randomSubspaces.jpg\" width=\"550\" height=\"550\" alt=\"Gráfica\">\n",
    "  <figcaption><blockquote>Random Subspace. Extraída de <a href=\"http://dx.doi.org/10.1007/s00477-022-02277-0\">Drought indicator analysis and forecasting using data driven models: case study in Jaisalmer, India</a></blockquote></figcaption>\n",
    "</center></figure>"
   ]
  },
  {
   "cell_type": "markdown",
   "metadata": {},
   "source": [
    "---\n",
    "<div style=\"text-align: right\">\n",
    "<a href=\"#indice\"><font size=5><i class=\"fa fa-arrow-circle-up\" aria-hidden=\"true\" style=\"color:#004D7F\"></i></font></a>\n",
    "</div>\n",
    "\n",
    "---"
   ]
  },
  {
   "cell_type": "markdown",
   "metadata": {},
   "source": [
    "<a id=\"section2\"></a> \n",
    "# <font color=\"#004D7F\"> 2. Random Subspace según el tipo de problema</font>"
   ]
  },
  {
   "cell_type": "markdown",
   "metadata": {},
   "source": [
    "Podemos implementar el conjunto de Random Subspace usando Bagging en Scikit-learn. \n",
    "- Bagging se proporciona a través de las clases `BaggingRegressor` y `BaggingClassifier`. \n",
    "- Podemos configurar Bagging para que sea un conjunto de subespacio aleatorio estableciendo el argumento `bootstrap = False` para desactivar el muestreo de las filas del conjunto de datos de entrenamiento y\n",
    "- Establecer el número máximo de características en un valor determinado mediante el argumento `max_features` . \n",
    "- El modelo predeterminado para Bagging es un árbol de decisión, pero se puede cambiar a cualquier modelo que queramos. "
   ]
  },
  {
   "cell_type": "markdown",
   "metadata": {},
   "source": [
    "<a id=\"section21\"></a> \n",
    "## <font color=\"#004D7F\"> 2.1. Random Subspace para Clasificación</font>"
   ]
  },
  {
   "cell_type": "markdown",
   "metadata": {},
   "source": [
    "En esta sección, veremos el uso de Random Subspaces para un problema de clasificación. "
   ]
  },
  {
   "cell_type": "markdown",
   "metadata": {},
   "source": [
    "<a id=\"section211\"></a> \n",
    "### <font color=\"#004D7F\"> 2.1.1. Dataset</font>"
   ]
  },
  {
   "cell_type": "markdown",
   "metadata": {},
   "source": [
    "Primero, podemos usar la función `make_classification()` para crear un problema de clasificación binaria sintética con 1000 ejemplos y 20 características de entrada. El ejemplo completo se enumera a continuación."
   ]
  },
  {
   "cell_type": "code",
   "execution_count": 1,
   "metadata": {
    "scrolled": true
   },
   "outputs": [
    {
     "name": "stdout",
     "output_type": "stream",
     "text": [
      "(1000, 20) (1000,)\n"
     ]
    }
   ],
   "source": [
    "from sklearn.datasets import make_classification\n",
    "X, y = make_classification(n_samples=1000, n_features=20, n_informative=15, n_redundant=5, random_state=5)\n",
    "print(X.shape, y.shape)"
   ]
  },
  {
   "cell_type": "markdown",
   "metadata": {},
   "source": [
    "<a id=\"section212\"></a> \n",
    "### <font color=\"#004D7F\"> 2.1.2. Evaluación</font>"
   ]
  },
  {
   "cell_type": "markdown",
   "metadata": {},
   "source": [
    "A continuación, podemos evaluar un algoritmo Random Subspaces en este conjunto de datos. \n",
    "- Evaluaremos el modelo mediante validación cruzada estratificada repetida de _k_ veces, con 3 repeticiones y 10 pliegues. \n",
    "- Informaremos la media y la desviación estándar del accuracy del modelo en todas las repeticiones y pliegues.\n",
    "\n",
    "A continuación, podemos configurar un modelo Bagging para que sea un Random Subspace para árboles de decisión en este conjunto de datos. \n",
    "- Cada modelo se ajustará a un subespacio aleatorio de 10 características de entrada, elegidas arbitrariamente."
   ]
  },
  {
   "cell_type": "markdown",
   "metadata": {},
   "source": [
    "<div class=\"alert alert-block alert-info\">\n",
    "    \n",
    "<i class=\"fa fa-info-circle\" aria-hidden=\"true\"></i> __Nota__: Más información sobre la clase [`BaggingClassifier`](https://scikit-learn.org/stable/modules/generated/sklearn.ensemble.BaggingClassifier.html)\n",
    "</div>"
   ]
  },
  {
   "cell_type": "code",
   "execution_count": 2,
   "metadata": {},
   "outputs": [
    {
     "name": "stdout",
     "output_type": "stream",
     "text": [
      "Accuracy medio: 0.856 (0.043)\n"
     ]
    }
   ],
   "source": [
    "from numpy import mean\n",
    "from numpy import std\n",
    "from sklearn.model_selection import cross_val_score\n",
    "from sklearn.model_selection import RepeatedStratifiedKFold\n",
    "from sklearn.ensemble import BaggingClassifier\n",
    "\n",
    "# definir el modelo de conjunto de subespacios aleatorios\n",
    "model = BaggingClassifier(bootstrap=False, max_features=10, n_jobs=-1)\n",
    "# definir el método de evaluación\n",
    "cv = RepeatedStratifiedKFold(n_splits=10, n_repeats=3, random_state=1)\n",
    "# evaluar el modelo en el conjunto de datos\n",
    "n_scores = cross_val_score(model, X, y, scoring='accuracy', cv=cv, n_jobs=-1)\n",
    "# resumir la precisión\n",
    "print('Accuracy medio: %.3f (%.3f)' % (mean(n_scores), std(n_scores)))"
   ]
  },
  {
   "cell_type": "markdown",
   "metadata": {},
   "source": [
    "<div class=\"alert alert-block alert-info\">\n",
    "    \n",
    "<i class=\"fa fa-info-circle\" aria-hidden=\"true\"></i> __Nota__: Sus resultados pueden variar dada la naturaleza estocástica del algoritmo o procedimiento de evaluación, o diferencias en la precisión numérica. Considere ejecutar el ejemplo varias veces y comparar el resultado promedio.\n",
    "</div>"
   ]
  },
  {
   "cell_type": "markdown",
   "metadata": {},
   "source": [
    "<a id=\"section22\"></a> \n",
    "## <font color=\"#004D7F\"> 2.2. Random Subspace para Regresión</font>"
   ]
  },
  {
   "cell_type": "markdown",
   "metadata": {},
   "source": [
    "En esta sección, veremos el uso de Random Subspace para un problema de regresión. "
   ]
  },
  {
   "cell_type": "markdown",
   "metadata": {},
   "source": [
    "<a id=\"section221\"></a> \n",
    "### <font color=\"#004D7F\"> 2.2.1. Dataset</font>"
   ]
  },
  {
   "cell_type": "markdown",
   "metadata": {},
   "source": [
    "Primero, podemos usar la función `make_classification()` para crear un problema de regresión sintética con 1000 ejemplos y 20 características de entrada. El ejemplo completo se enumera a continuación."
   ]
  },
  {
   "cell_type": "code",
   "execution_count": 3,
   "metadata": {
    "scrolled": true
   },
   "outputs": [
    {
     "name": "stdout",
     "output_type": "stream",
     "text": [
      "(1000, 20) (1000,)\n"
     ]
    }
   ],
   "source": [
    "from sklearn.datasets import make_regression\n",
    "X, y = make_regression(n_samples=1000, n_features=20, n_informative=15, noise=0.1, random_state=5)\n",
    "print(X.shape, y.shape)"
   ]
  },
  {
   "cell_type": "markdown",
   "metadata": {},
   "source": [
    "<a id=\"section222\"></a> \n",
    "### <font color=\"#004D7F\"> 2.2.2. Evaluación</font>"
   ]
  },
  {
   "cell_type": "markdown",
   "metadata": {},
   "source": [
    "A continuación\n",
    "- Evaluaremos el modelo mediante validación cruzada estratificada repetida de _k_ veces, con 3 repeticiones y 10 pliegues. \n",
    "- Informaremos el error absoluto medio (MAE) del modelo en todas las repeticiones y pliegues.\n",
    "\n",
    "Podemos evaluar Random Subspace mediante Bagging de este conjunto de datos. \n",
    "- Como antes, debemos configurar Bagging para usar todas las filas del conjunto de datos de entrenamiento y\n",
    "- Especificar la cantidad de funciones de entrada para seleccionar aleatoriamente.\n"
   ]
  },
  {
   "cell_type": "markdown",
   "metadata": {},
   "source": [
    "<div class=\"alert alert-block alert-info\">\n",
    "    \n",
    "<i class=\"fa fa-info-circle\" aria-hidden=\"true\"></i> __Nota__: Más información sobre la clase [`BaggingRegressor`](https://scikit-learn.org/stable/modules/generated/sklearn.ensemble.BaggingRegressor.html#sklearn.ensemble.BaggingRegressor)\n",
    "</div>"
   ]
  },
  {
   "cell_type": "code",
   "execution_count": 4,
   "metadata": {},
   "outputs": [
    {
     "name": "stdout",
     "output_type": "stream",
     "text": [
      "MAE: -116.171 (12.729)\n"
     ]
    }
   ],
   "source": [
    "# evaluate random subspace ensemble via bagging for regression\n",
    "from numpy import mean\n",
    "from numpy import std\n",
    "from sklearn.model_selection import cross_val_score\n",
    "from sklearn.model_selection import RepeatedKFold\n",
    "from sklearn.ensemble import BaggingRegressor\n",
    "\n",
    "# definir el modelo de conjunto de subespacios aleatorios\n",
    "model = BaggingRegressor(bootstrap=False, max_features=10, n_jobs=-1)\n",
    "# definir el método de evaluación\n",
    "cv = RepeatedKFold(n_splits=10, n_repeats=3, random_state=1)\n",
    "# evaluar el modelo en el conjunto de datos\n",
    "n_scores = cross_val_score(model, X, y, scoring='neg_mean_absolute_error', cv=cv, n_jobs=-1)\n",
    "# resumir la precisión\n",
    "print('MAE: %.3f (%.3f)' % (mean(n_scores), std(n_scores)))"
   ]
  },
  {
   "cell_type": "markdown",
   "metadata": {},
   "source": [
    "<div class=\"alert alert-block alert-info\">\n",
    "    \n",
    "<i class=\"fa fa-info-circle\" aria-hidden=\"true\"></i> __Nota__: La API de scikit-learn invierte el signo del MAE para transformarlo, de minimizar el error a maximizar el error negativo. Esto significa que los errores positivos de gran magnitud se convierten en grandes errores negativos (por ejemplo, 100 se convierte en -100) y un modelo perfecto no tiene ningún error con un valor de 0,0. También significa que podemos ignorar con seguridad el signo de las puntuaciones MAE medias. \n",
    "\n",
    "</div>"
   ]
  },
  {
   "cell_type": "markdown",
   "metadata": {},
   "source": [
    "<div class=\"alert alert-block alert-info\">\n",
    "    \n",
    "<i class=\"fa fa-info-circle\" aria-hidden=\"true\"></i> __Nota__: Sus resultados pueden variar dada la naturaleza estocástica del algoritmo o procedimiento de evaluación, o diferencias en la precisión numérica. Considere ejecutar el ejemplo varias veces y comparar el resultado promedio.\n",
    "</div>"
   ]
  },
  {
   "cell_type": "markdown",
   "metadata": {},
   "source": [
    "---\n",
    "<div style=\"text-align: right\">\n",
    "<a href=\"#indice\"><font size=5><i class=\"fa fa-arrow-circle-up\" aria-hidden=\"true\" style=\"color:#004D7F\"></i></font></a>\n",
    "</div>\n",
    "\n",
    "---"
   ]
  },
  {
   "cell_type": "markdown",
   "metadata": {},
   "source": [
    "<a id=\"section3\"></a> \n",
    "# <font color=\"#004D7F\"> 3. Hiperparámetros de Random Subspace</font>"
   ]
  },
  {
   "cell_type": "markdown",
   "metadata": {},
   "source": [
    "En esta sección, analizaremos más de cerca algunos de los hiperparámetros que debería considerar ajustar para el conjunto Random Subspace y su efecto en el rendimiento del modelo."
   ]
  },
  {
   "cell_type": "markdown",
   "metadata": {},
   "source": [
    "<a id=\"section31\"></a> \n",
    "## <font color=\"#004D7F\"> 3.1. Número de árboles</font>"
   ]
  },
  {
   "cell_type": "markdown",
   "metadata": {},
   "source": [
    "Un hiperparámetro importante para el algoritmo Random Subspace es la cantidad de árboles de decisión utilizados en el conjunto. \n",
    "- Más árboles estabilizarán la varianza del modelo, contrarrestando el efecto de la cantidad de características seleccionadas por cada árbol que introduce diversidad.\n",
    "- El número de árboles se puede establecer mediante el argumento `n_estimators` y el valor predeterminado es 10.\n",
    "- El siguiente ejemplo explora el efecto de la cantidad de árboles con valores entre 10 y 5000."
   ]
  },
  {
   "cell_type": "code",
   "execution_count": 5,
   "metadata": {},
   "outputs": [],
   "source": [
    "from numpy import mean\n",
    "from numpy import std\n",
    "from sklearn.datasets import make_classification\n",
    "from sklearn.model_selection import cross_val_score\n",
    "from sklearn.model_selection import RepeatedStratifiedKFold\n",
    "from sklearn.ensemble import BaggingClassifier\n",
    "from matplotlib import pyplot\n",
    "\n",
    "def get_dataset():\n",
    "    X, y = make_classification(n_samples=1000, n_features=20, n_informative=15, n_redundant=5, random_state=5)\n",
    "    return X, y"
   ]
  },
  {
   "cell_type": "code",
   "execution_count": 6,
   "metadata": {},
   "outputs": [],
   "source": [
    "# obtener una lista de modelos para evaluar\n",
    "def get_models():\n",
    "    models = dict()\n",
    "    # definir el número de árboles a considerar\n",
    "    n_trees = [1, 10, 50, 100, 500, 1000]\n",
    "    for n in n_trees:\n",
    "        models[str(n)] = BaggingClassifier(n_estimators=n)\n",
    "    return models"
   ]
  },
  {
   "cell_type": "code",
   "execution_count": 7,
   "metadata": {},
   "outputs": [],
   "source": [
    "# evaluar un modelo determinado mediante validación cruzada\n",
    "def evaluate_model(model, X, y):\n",
    "    # definir el procedimiento de evaluación\n",
    "    cv = RepeatedStratifiedKFold(n_splits=10, n_repeats=3, random_state=1)\n",
    "    # evaluar el modelo y recopilar los resultados\n",
    "    scores = cross_val_score(model, X, y, scoring='accuracy', cv=cv, n_jobs=-1)\n",
    "    return scores"
   ]
  },
  {
   "cell_type": "code",
   "execution_count": 8,
   "metadata": {},
   "outputs": [
    {
     "name": "stdout",
     "output_type": "stream",
     "text": [
      ">1 0.786 (0.040)\n",
      ">10 0.852 (0.039)\n",
      ">50 0.874 (0.041)\n",
      ">100 0.881 (0.034)\n",
      ">500 0.885 (0.035)\n",
      ">1000 0.886 (0.037)\n"
     ]
    }
   ],
   "source": [
    "# definir dataset\n",
    "X, y = get_dataset()\n",
    "# obtener los modelos para evaluar\n",
    "models = get_models()\n",
    "# evaluar los modelos y almacenar los resultados\n",
    "results, names = list(), list()\n",
    "for name, model in models.items():\n",
    "    # evaluar el modelo\n",
    "    scores = evaluate_model(model, X, y)\n",
    "    # almacenar los resultados\n",
    "    results.append(scores)\n",
    "    names.append(name)\n",
    "    # resumir el progreso\n",
    "    print('>%s %.3f (%.3f)' % (name, mean(scores), std(scores)))"
   ]
  },
  {
   "cell_type": "code",
   "execution_count": 9,
   "metadata": {},
   "outputs": [
    {
     "data": {
      "image/png": "[encoded data removed]",
      "text/plain": [
       "<Figure size 432x288 with 1 Axes>"
      ]
     },
     "metadata": {
      "needs_background": "light"
     },
     "output_type": "display_data"
    }
   ],
   "source": [
    "pyplot.boxplot(results, labels=names, showmeans=True)\n",
    "pyplot.show()"
   ]
  },
  {
   "cell_type": "markdown",
   "metadata": {},
   "source": [
    "<div class=\"alert alert-block alert-info\">\n",
    "    \n",
    "<i class=\"fa fa-info-circle\" aria-hidden=\"true\"></i> __Nota__: Sus resultados pueden variar dada la naturaleza estocástica del algoritmo o procedimiento de evaluación, o diferencias en la precisión numérica. Considere ejecutar el ejemplo varias veces y comparar el resultado promedio.\n",
    "</div>"
   ]
  },
  {
   "cell_type": "markdown",
   "metadata": {},
   "source": [
    "<a id=\"section32\"></a> \n",
    "## <font color=\"#004D7F\"> 3.2. Número de características</font>"
   ]
  },
  {
   "cell_type": "markdown",
   "metadata": {},
   "source": [
    "El número de características seleccionadas para cada subespacio aleatorio controla la diversidad del conjunto. \n",
    "- Menos características significan más diversidad, mientras que más características significan menos diversidad.\n",
    "- Más diversidad puede requerir más árboles para reducir la varianza de las predicciones realizadas por el modelo.\n",
    "- El número de caracterśiticas utilizadas para ajustar cada árbol de decisión se establece mediante el argumento `max_features`. \n",
    "- El siguiente ejemplo varía el valor de 1 a 20 con un número fijo de árboles en el conjunto."
   ]
  },
  {
   "cell_type": "code",
   "execution_count": 10,
   "metadata": {},
   "outputs": [],
   "source": [
    "# obtener una lista de modelos para evaluar\n",
    "def get_models():\n",
    "    models = dict()\n",
    "    # evaluar las características de 1 a 20\n",
    "    for n in range(1,21):\n",
    "        models[str(n)] = BaggingClassifier(max_features=n, bootstrap=False, n_jobs=-1)\n",
    "    return models"
   ]
  },
  {
   "cell_type": "code",
   "execution_count": 11,
   "metadata": {},
   "outputs": [
    {
     "name": "stdout",
     "output_type": "stream",
     "text": [
      ">1 0.566 (0.055)\n",
      ">2 0.659 (0.059)\n",
      ">3 0.725 (0.043)\n",
      ">4 0.780 (0.038)\n",
      ">5 0.811 (0.036)\n",
      ">6 0.844 (0.043)\n",
      ">7 0.848 (0.029)\n",
      ">8 0.851 (0.042)\n",
      ">9 0.854 (0.037)\n",
      ">10 0.852 (0.039)\n",
      ">11 0.863 (0.034)\n",
      ">12 0.861 (0.037)\n",
      ">13 0.851 (0.040)\n",
      ">14 0.859 (0.033)\n",
      ">15 0.858 (0.043)\n",
      ">16 0.846 (0.039)\n",
      ">17 0.835 (0.043)\n",
      ">18 0.831 (0.042)\n",
      ">19 0.812 (0.045)\n",
      ">20 0.804 (0.049)\n"
     ]
    }
   ],
   "source": [
    "# definir dataset\n",
    "X, y = get_dataset()\n",
    "# obtener los modelos para evaluar\n",
    "models = get_models()\n",
    "# evaluar los modelos y almacenar los resultados\n",
    "results, names = list(), list()\n",
    "for name, model in models.items():\n",
    "    # evaluar el modelo\n",
    "    scores = evaluate_model(model, X, y)\n",
    "    # almacenar los resultados\n",
    "    results.append(scores)\n",
    "    names.append(name)\n",
    "    # resum\n",
    "    print('>%s %.3f (%.3f)' % (name, mean(scores), std(scores)))"
   ]
  },
  {
   "cell_type": "code",
   "execution_count": 12,
   "metadata": {},
   "outputs": [
    {
     "data": {
      "image/png": "[encoded data removed]",
      "text/plain": [
       "<Figure size 432x288 with 1 Axes>"
      ]
     },
     "metadata": {
      "needs_background": "light"
     },
     "output_type": "display_data"
    }
   ],
   "source": [
    "pyplot.boxplot(results, labels=names, showmeans=True)\n",
    "pyplot.show()"
   ]
  },
  {
   "cell_type": "markdown",
   "metadata": {},
   "source": [
    "<div class=\"alert alert-block alert-info\">\n",
    "    \n",
    "<i class=\"fa fa-info-circle\" aria-hidden=\"true\"></i> __Nota__: Sus resultados pueden variar dada la naturaleza estocástica del algoritmo o procedimiento de evaluación, o diferencias en la precisión numérica. Considere ejecutar el ejemplo varias veces y comparar el resultado promedio.\n",
    "</div>"
   ]
  },
  {
   "cell_type": "markdown",
   "metadata": {},
   "source": [
    "<a id=\"section33\"></a> \n",
    "## <font color=\"#004D7F\"> 3.3. Algoritmo alternativo</font>"
   ]
  },
  {
   "cell_type": "markdown",
   "metadata": {},
   "source": [
    "Se pueden utilizar otros algoritmos para construir Random Subspace y deben configurarse para que tengan una varianza modestamente alta. \n",
    "- Un ejemplo es el algoritmo KNN donde el valor _k_ se puede establecer en un valor bajo.\n",
    "- El algoritmo utilizado en el conjunto se especifica mediante el argumento `estimator` y debe establecerse en una instancia del algoritmo y la configuración del algoritmo que se utilizará. \n",
    "- El siguiente ejemplo demuestra el uso de `KNeighborsClassifier` como algoritmo base utilizado en el conjunto Random Subspace a través de la clase `Bagging`. \n",
    "- Aquí, el algoritmo se utiliza con hiperparámetros predeterminados donde _k_ se establece en 5."
   ]
  },
  {
   "cell_type": "markdown",
   "metadata": {},
   "source": [
    "<div class=\"alert alert-block alert-info\">\n",
    "    \n",
    "<i class=\"fa fa-info-circle\" aria-hidden=\"true\"></i> __Nota__: Más información sobre la clase [`KNeighborsClassifier`](https://scikit-learn.org/stable/modules/generated/sklearn.neighbors.KNeighborsClassifier.html#sklearn-neighbors-kneighborsclassifier)\n",
    "</div>"
   ]
  },
  {
   "cell_type": "code",
   "execution_count": 13,
   "metadata": {
    "scrolled": true
   },
   "outputs": [
    {
     "name": "stdout",
     "output_type": "stream",
     "text": [
      "Accuracy medio: 0.905 (0.035)\n"
     ]
    }
   ],
   "source": [
    "# evaluate random subspace ensemble with knn algorithm for classification\n",
    "from numpy import mean\n",
    "from numpy import std\n",
    "from sklearn.model_selection import cross_val_score\n",
    "from sklearn.model_selection import RepeatedStratifiedKFold\n",
    "from sklearn.neighbors import KNeighborsClassifier\n",
    "from sklearn.ensemble import BaggingClassifier\n",
    "\n",
    "X, y = get_dataset()\n",
    "# definir el modelo\n",
    "model = BaggingClassifier(base_estimator=KNeighborsClassifier(), bootstrap=False, max_features=10, n_jobs=-1)\n",
    "# definir el procedimiento de evaluación\n",
    "cv = RepeatedStratifiedKFold(n_splits=10, n_repeats=3, random_state=1)\n",
    "# evaluar el modelo\n",
    "n_scores = cross_val_score(model, X, y, scoring='accuracy', cv=cv, n_jobs=-1)\n",
    "# resumir la precisión\n",
    "print('Accuracy medio: %.3f (%.3f)' % (mean(n_scores), std(n_scores)))"
   ]
  },
  {
   "cell_type": "markdown",
   "metadata": {},
   "source": [
    "<div class=\"alert alert-block alert-info\">\n",
    "    \n",
    "<i class=\"fa fa-info-circle\" aria-hidden=\"true\"></i> __Nota__: Sus resultados pueden variar dada la naturaleza estocástica del algoritmo o procedimiento de evaluación, o diferencias en la precisión numérica. Considere ejecutar el ejemplo varias veces y comparar el resultado promedio.\n",
    "</div>"
   ]
  },
  {
   "cell_type": "markdown",
   "metadata": {},
   "source": [
    "---\n",
    "<div style=\"text-align: right\">\n",
    "<a href=\"#indice\"><font size=5><i class=\"fa fa-arrow-circle-up\" aria-hidden=\"true\" style=\"color:#004D7F\"></i></font></a>\n",
    "</div>\n",
    "\n",
    "---"
   ]
  },
  {
   "cell_type": "markdown",
   "metadata": {},
   "source": [
    "<a id=\"sectionEj\"></a>\n",
    "<h3><font color=\"#004D7F\" size=6> <i class=\"fa fa-pencil-square-o\" aria-hidden=\"true\" style=\"color:#113D68\"></i> Ejercicios</font></h3>"
   ]
  },
  {
   "cell_type": "markdown",
   "metadata": {},
   "source": [
    "Se proponen las siguientes actividades para consolidar el aprendizaje."
   ]
  },
  {
   "cell_type": "markdown",
   "metadata": {},
   "source": [
    "# <font color=\"#004D7F\" size=5>Ejercicio 1</font>\n",
    "__Hiperparámtros__. Explore diferentes configuraciones para la cantidad de árboles e incluso configuraciones de árbol individuales para ver si puede mejorar aún más los resultados. "
   ]
  },
  {
   "cell_type": "markdown",
   "metadata": {},
   "source": [
    "### Hiperparámetros de BaggingClassifier\n",
    "\n",
    "El `BaggingClassifier` es un meta-estimador de ensamblado que ajusta clasificadores base en subconjuntos aleatorios del conjunto de datos original y luego agrega sus predicciones individuales (ya sea por votación o promediando) para formar una predicción final.\n",
    "\n",
    "#### Parámetros\n",
    "\n",
    "- **estimator**: objeto, por defecto `None`\n",
    "  - El estimador base para ajustar en subconjuntos aleatorios del conjunto de datos. Si es `None`, el estimador base es un `DecisionTreeClassifier`.\n",
    "\n",
    "- **n_estimators**: int, por defecto `10`\n",
    "  - El número de estimadores base en el ensamblado.\n",
    "\n",
    "- **max_samples**: int o float, por defecto `1.0`\n",
    "  - El número de muestras a extraer de `X` para entrenar cada estimador base (con reemplazo por defecto, ver `bootstrap` para más detalles). Si es int, extrae `max_samples` muestras. Si es float, extrae `max_samples * X.shape[0]` muestras.\n",
    "\n",
    "- **max_features**: int o float, por defecto `1.0`\n",
    "  - El número de características a extraer de `X` para entrenar cada estimador base (sin reemplazo por defecto, ver `bootstrap_features` para más detalles). Si es int, extrae `max_features` características. Si es float, extrae `max(1, int(max_features * n_features_in_))` características.\n",
    "\n",
    "- **bootstrap**: bool, por defecto `True`\n",
    "  - Si las muestras se extraen con reemplazo. Si es `False`, se realiza el muestreo sin reemplazo.\n",
    "\n",
    "- **bootstrap_features**: bool, por defecto `False`\n",
    "  - Si las características se extraen con reemplazo.\n",
    "\n",
    "- **oob_score**: bool, por defecto `False`\n",
    "  - Si se utilizan muestras fuera de bolsa para estimar el error de generalización. Solo disponible si `bootstrap=True`.\n",
    "\n",
    "- **warm_start**: bool, por defecto `False`\n",
    "  - Si se reutiliza la solución de la llamada anterior a `fit` y se añaden más estimadores al ensamblado, de lo contrario, simplemente se ajusta un nuevo ensamblado.\n",
    "\n",
    "- **n_jobs**: int, por defecto `None`\n",
    "  - El número de trabajos a ejecutar en paralelo tanto para `fit` como para `predict`. `None` significa 1 a menos que esté en un contexto `joblib.parallel_backend`. `-1` significa usar todos los procesadores.\n",
    "\n",
    "- **random_state**: int, RandomState instance o None, por defecto `None`\n",
    "  - Controla la aleatoriedad de las muestras extraídas y el estimador base. Pase un int para una salida reproducible en múltiples llamadas a funciones.\n",
    "\n",
    "- **verbose**: int, por defecto `0`\n",
    "  - Controla el nivel de verbosidad de la salida."
   ]
  },
  {
   "cell_type": "markdown",
   "metadata": {},
   "source": [
    "# <font color=\"#004D7F\" size=5>Ejercicio 2</font>\n",
    "__Bag de otro algoritmo__. Se pueden utilizar otros algoritmos con Random Subspace. Por ejemplo, un algoritmo diferente de _k_-nearest neighbor. Busque alguno que sea adecuado paa este tipo de problemas."
   ]
  },
  {
   "cell_type": "markdown",
   "metadata": {},
   "source": [
    "### Algoritmos que Funcionan Bien con BaggingClassifier\n",
    "\n",
    "El `BaggingClassifier` es un meta-estimador que puede mejorar la precisión y reducir la varianza de varios clasificadores base. Aquí tienes algunos algoritmos que suelen funcionar bien cuando se utilizan con `BaggingClassifier`:\n",
    "\n",
    "#### 1. Árboles de Decisión\n",
    "Los `DecisionTreeClassifier` son comúnmente utilizados como estimadores base en bagging debido a su alta varianza. El bagging ayuda a reducir esta varianza y mejora la estabilidad del modelo.\n",
    "\n",
    "#### 2. Regresión Logística\n",
    "Aunque la `LogisticRegression` no es tan común en bagging como los árboles de decisión, puede beneficiarse de la reducción de varianza que ofrece el bagging.\n",
    "\n",
    "#### 3. K-Nearest Neighbors (KNN)\n",
    "El `KNeighborsClassifier` puede beneficiarse del bagging, especialmente en conjuntos de datos con ruido, ya que el bagging puede ayudar a suavizar las predicciones.\n",
    "\n",
    "#### 4. Máquinas de Soporte Vectorial (SVM)\n",
    "Las `SVC` pueden beneficiarse del bagging, aunque no tanto como los árboles de decisión, ya que las SVM suelen tener una varianza más baja.\n",
    "\n",
    "#### 5. Naive Bayes\n",
    "El `GaussianNB` puede beneficiarse del bagging en ciertos casos, aunque su rendimiento puede no mejorar tanto como con otros clasificadores debido a su naturaleza probabilística.\n",
    "\n",
    "#### 6. Redes Neuronales\n",
    "Las redes neuronales pueden beneficiarse del bagging, aunque no es tan común debido a su complejidad y tiempo de entrenamiento.\n",
    "\n",
    "En general, los algoritmos con alta varianza tienden a beneficiarse más del bagging, ya que este método ayuda a reducir la varianza y mejorar la estabilidad del modelo."
   ]
  },
  {
   "cell_type": "markdown",
   "metadata": {},
   "source": [
    "# <font color=\"#004D7F\" size=5>Ejercicio 3</font>\n",
    "__Problema de Regresión__. Random Subspace se puede utilizar con árboles de regresión. En lugar de predecir el valor de clase más común del conjunto de predicciones, puede devolver el promedio de las predicciones de los árboles bagging. Experimente con problemas de regresión."
   ]
  },
  {
   "cell_type": "code",
   "execution_count": 15,
   "metadata": {},
   "outputs": [
    {
     "name": "stdout",
     "output_type": "stream",
     "text": [
      "Mean Squared Error: 0.27806269394470257\n",
      "Real: 0.477, Predicted: 0.6267999999999999\n",
      "Real: 0.458, Predicted: 0.7907\n",
      "Real: 5.00001, Predicted: 4.710303\n",
      "Real: 2.186, Predicted: 2.5318999999999994\n",
      "Real: 2.78, Predicted: 1.886\n",
      "Real: 1.587, Predicted: 1.7386000000000004\n",
      "Real: 1.982, Predicted: 2.4273999999999996\n",
      "Real: 1.575, Predicted: 1.8216\n",
      "Real: 3.4, Predicted: 2.920101\n",
      "Real: 4.466, Predicted: 4.523406\n"
     ]
    }
   ],
   "source": [
    "from sklearn.datasets import fetch_california_housing\n",
    "from sklearn.model_selection import train_test_split\n",
    "from sklearn.preprocessing import StandardScaler\n",
    "from sklearn.ensemble import BaggingRegressor\n",
    "from sklearn.tree import DecisionTreeRegressor\n",
    "from sklearn.metrics import mean_squared_error\n",
    "\n",
    "# Cargar el dataset\n",
    "data = fetch_california_housing()\n",
    "X = data.data\n",
    "y = data.target\n",
    "\n",
    "# Dividir los datos en entrenamiento y prueba\n",
    "X_train, X_test, y_train, y_test = train_test_split(X, y, test_size=0.33, random_state=42)\n",
    "\n",
    "# Escalar los datos\n",
    "scaler = StandardScaler()\n",
    "X_train = scaler.fit_transform(X_train)\n",
    "X_test = scaler.transform(X_test)\n",
    "\n",
    "# Definir el BaggingRegressor con un DecisionTreeRegressor como estimador base\n",
    "bagging_regressor = BaggingRegressor(base_estimator=DecisionTreeRegressor(), bootstrap=False, max_features=5, random_state=42)\n",
    "\n",
    "# Entrenar el modelo\n",
    "bagging_regressor.fit(X_train, y_train)\n",
    "\n",
    "# Predecir\n",
    "y_pred = bagging_regressor.predict(X_test)\n",
    "\n",
    "# Calcular el error cuadrático medio\n",
    "mse = mean_squared_error(y_test, y_pred)\n",
    "print(f\"Mean Squared Error: {mse}\")\n",
    "\n",
    "# Mostrar las primeras 10 predicciones comparadas con los valores reales\n",
    "for i in range(10):\n",
    "    print(f\"Real: {y_test[i]}, Predicted: {y_pred[i]}\")"
   ]
  },
  {
   "cell_type": "markdown",
   "metadata": {},
   "source": [
    "# <font color=\"#004D7F\" size=5>Ejercicio 4</font>\n",
    "__Datasets reales__. Busque un dataset original y verdadero (que no sea sintético) y evalúe el uso de los conceptos vistos en esta unidad. Los conjuntos de datos en pueden ser obtenidos del [repositorio de aprendizaje automático de UCI](https://archive.ics.uci.edu/)."
   ]
  },
  {
   "cell_type": "code",
   "execution_count": 16,
   "metadata": {},
   "outputs": [
    {
     "name": "stdout",
     "output_type": "stream",
     "text": [
      "Mean Squared Error: 0.27806269394470257\n",
      "Real: 0.477, Predicted: 0.6267999999999999\n",
      "Real: 0.458, Predicted: 0.7907\n",
      "Real: 5.00001, Predicted: 4.710303\n",
      "Real: 2.186, Predicted: 2.5318999999999994\n",
      "Real: 2.78, Predicted: 1.886\n",
      "Real: 1.587, Predicted: 1.7386000000000004\n",
      "Real: 1.982, Predicted: 2.4273999999999996\n",
      "Real: 1.575, Predicted: 1.8216\n",
      "Real: 3.4, Predicted: 2.920101\n",
      "Real: 4.466, Predicted: 4.523406\n"
     ]
    }
   ],
   "source": [
    "from sklearn.datasets import fetch_california_housing\n",
    "from sklearn.model_selection import train_test_split\n",
    "from sklearn.preprocessing import StandardScaler\n",
    "from sklearn.ensemble import BaggingRegressor\n",
    "from sklearn.tree import DecisionTreeRegressor\n",
    "from sklearn.metrics import mean_squared_error\n",
    "\n",
    "# Cargar el dataset\n",
    "data = fetch_california_housing()\n",
    "X = data.data\n",
    "y = data.target\n",
    "\n",
    "# Dividir los datos en entrenamiento y prueba\n",
    "X_train, X_test, y_train, y_test = train_test_split(X, y, test_size=0.33, random_state=42)\n",
    "\n",
    "# Escalar los datos\n",
    "scaler = StandardScaler()\n",
    "X_train = scaler.fit_transform(X_train)\n",
    "X_test = scaler.transform(X_test)\n",
    "\n",
    "# Definir el BaggingRegressor con un DecisionTreeRegressor como estimador base\n",
    "bagging_regressor = BaggingRegressor(base_estimator=DecisionTreeRegressor(), bootstrap=False, max_features=5, random_state=42)\n",
    "\n",
    "# Entrenar el modelo\n",
    "bagging_regressor.fit(X_train, y_train)\n",
    "\n",
    "# Predecir\n",
    "y_pred = bagging_regressor.predict(X_test)\n",
    "\n",
    "# Calcular el error cuadrático medio\n",
    "mse = mean_squared_error(y_test, y_pred)\n",
    "print(f\"Mean Squared Error: {mse}\")\n",
    "\n",
    "# Mostrar las primeras 10 predicciones comparadas con los valores reales\n",
    "for i in range(10):\n",
    "    print(f\"Real: {y_test[i]}, Predicted: {y_pred[i]}\")"
   ]
  },
  {
   "cell_type": "markdown",
   "metadata": {},
   "source": [
    "# <font color=\"#004D7F\" size=5>Ejercicio 5</font>\n",
    "__Valores de _k___. Juegue con diferentes valores de _k_ cuando se utiliza KNN en Random Subspace y analice la salida dada. Vea los ejemplos vistos en Random Subspace."
   ]
  },
  {
   "cell_type": "code",
   "execution_count": null,
   "metadata": {},
   "outputs": [],
   "source": []
  },
  {
   "cell_type": "markdown",
   "metadata": {},
   "source": [
    "# <font color=\"#004D7F\" size=5>Ejercicio 6</font>\n",
    "__Extensiones__. En la unidad anterior vimos extensiones como Pasting y Random Patches. Evalúe si estas extensiones aplican a Random Subspace."
   ]
  },
  {
   "cell_type": "code",
   "execution_count": null,
   "metadata": {},
   "outputs": [],
   "source": []
  },
  {
   "cell_type": "markdown",
   "metadata": {},
   "source": [
    "# <font color=\"#004D7F\" size=5>Ejercicio 7</font>\n",
    "__Búsqueda de la mejor configuración__. Como se ha visto existen diferentes hiperparámetros que pueden ajustar nuestro modelo. Haga una búsqueda para un dataset real de cuales, entre un rango amplio de hiperparétros, maximizan la métrica. Puede utilizar una búsqueda aleatoria."
   ]
  },
  {
   "cell_type": "code",
   "execution_count": null,
   "metadata": {},
   "outputs": [],
   "source": []
  },
  {
   "cell_type": "markdown",
   "metadata": {},
   "source": [
    "---\n",
    "\n",
    "<div style=\"text-align: right\">\n",
    "<a href=\"#indice\"><font size=5><i class=\"fa fa-arrow-circle-up\" aria-hidden=\"true\" style=\"color:#004D7F\"></i></font></a>\n",
    "</div>\n",
    "\n",
    "---\n",
    "\n",
    "<div style=\"text-align: right\"> <font size=6><i class=\"fa fa-coffee\" aria-hidden=\"true\" style=\"color:#004D7F\"></i> </font></div>"
   ]
  }
 ],
 "metadata": {
  "kernelspec": {
   "display_name": "Python 3",
   "language": "python",
   "name": "python3"
  },
  "language_info": {
   "codemirror_mode": {
    "name": "ipython",
    "version": 3
   },
   "file_extension": ".py",
   "mimetype": "text/x-python",
   "name": "python",
   "nbconvert_exporter": "python",
   "pygments_lexer": "ipython3",
   "version": "3.7.4"
  }
 },
 "nbformat": 4,
 "nbformat_minor": 4
}
