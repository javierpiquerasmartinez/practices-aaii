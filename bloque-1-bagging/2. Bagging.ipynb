{
 "cells": [
  {
   "cell_type": "markdown",
   "metadata": {
    "slideshow": {
     "slide_type": ""
    },
    "tags": []
   },
   "source": [
    "<h2><font color=\"#004D7F\" size=5>Módulo 2: Bootstrap Aggregation</font></h2>\n",
    "\n",
    "\n",
    "\n",
    "<h1><font color=\"#004D7F\" size=6> 2. Bagged Decision Trees (Bagging) </font></h1>\n",
    "\n",
    "<br><br>\n",
    "<div style=\"text-align: right\">\n",
    "<font color=\"#004D7F\" size=3>Manuel Castillo-Cara</font><br>\n",
    "<font color=\"#004D7F\" size=3>Aprendizaje Automático II</font><br>\n",
    "<font color=\"#004D7F\" size=3>Universidad Nacional de Educación a Distancia</font>\n",
    "\n",
    "</div>"
   ]
  },
  {
   "cell_type": "markdown",
   "metadata": {},
   "source": [
    "---\n",
    "\n",
    "<a id=\"indice\"></a>\n",
    "<h2><font color=\"#004D7F\" size=5>Índice</font></h2>\n",
    "\n",
    "\n",
    "* [1. Algoritmo de conjunto Bagging](#section1)\n",
    "* [2. Bagging según el tipo de problema](#section2)\n",
    "    * [2.1. Bagging para Clasificación](#section21)\n",
    "    * [2.2. Bagging para Regresión](#section22)\n",
    "* [3. Hiperparámetros de Bagging](#section3)\n",
    "   * [3.1. Número de árboles](#section31)\n",
    "   * [3.2. Número de muestras](#section32)\n",
    "   * [3.3. Algoritmo alternativo](#section33)\n",
    "* [4. Extensiones](#section4)\n",
    "   * [4.1. Conjunto Pasting](#section41)\n",
    "   * [4.2. Conjunto Random Patches](#section42)\n",
    "* [Ejercicios](#sectionEj)"
   ]
  },
  {
   "cell_type": "markdown",
   "metadata": {},
   "source": [
    "---\n",
    "\n",
    "<a id=\"section0\"></a>\n",
    "# <font color=\"#004D7F\">0. Contexto</font>"
   ]
  },
  {
   "cell_type": "markdown",
   "metadata": {},
   "source": [
    "Bagging es un algoritmo conjunto de aprendizaje automático que combina las predicciones de muchos árboles de decisión. Bagging funciona bien en general y proporciona la base para todo un campo de conjuntos de algoritmos de árboles de decisión, como los populares algoritmos de conjuntos de Random Forest y Extra Trees, así como los algoritmos de conjuntos menos conocidos de Pasting, Random Subspaces and Random Patches. En este tutorial, descubrirá cómo desarrollar conjuntos de Bagging para clasificación y regresión. Después de completar este tutorial, sabrá :\n",
    "- Bagging es un conjunto creado a partir de árboles de decisión que se ajustan a diferentes muestras de un conjunto de datos.\n",
    "- Cómo utilizar el conjunto Bagging para clasificación y regresión con Scikit-learn.\n",
    "- Cómo explorar el efecto de los hiperparámetros del modelo Bagging en el rendimiento del modelo."
   ]
  },
  {
   "cell_type": "markdown",
   "metadata": {},
   "source": [
    "---\n",
    "<div style=\"text-align: right\">\n",
    "<a href=\"#indice\"><font size=5><i class=\"fa fa-arrow-circle-up\" aria-hidden=\"true\" style=\"color:#004D7F\"></i></font></a>\n",
    "</div>\n",
    "\n",
    "---"
   ]
  },
  {
   "cell_type": "markdown",
   "metadata": {},
   "source": [
    "<a id=\"section1\"></a>\n",
    "# <font color=\"#004D7F\"> 1. Algoritmo de conjunto Bagging</font>"
   ]
  },
  {
   "cell_type": "markdown",
   "metadata": {},
   "source": [
    "Bootstrap Aggregation (Bagging) se trata de un conjunto de modelos de árboles de decisión, aunque la técnica de Bagging también se puede utilizar para combinar las predicciones de otro tipo de modelos. \n",
    "- Como sugiere su nombre, la agregación bootstrap se basa en la idea de la muestra bootstrap. \n",
    "- Una muestra bootstrap es una muestra de un conjunto de datos con reemplazo. \n",
    "- Reemplazo significa que se reemplaza una muestra extraída del conjunto de datos, lo que permite seleccionarla nuevamente y quizás varias veces en la nueva muestra. \n",
    "- Esto significa que la muestra puede tener ejemplos duplicados del conjunto de datos original. \n",
    "- La técnica de muestreo bootstrap se utiliza para estimar una estadística de población a partir de una pequeña muestra de datos. \n",
    "- Esto se logra extrayendo múltiples muestras bootstrap, calculando la estadística de cada una e informando la estadística media en todas las muestras.\n",
    "\n",
    "Un ejemplo de uso del muestreo bootstrap sería estimar la media poblacional a partir de un pequeño conjunto de datos. \n",
    "- Se extraen varias muestras de arranque del conjunto de datos, se calcula la media de cada una y luego se informa la media de las medias estimadas como una estimación de la media de la población.\n",
    "\n",
    "Este mismo enfoque se puede utilizar para crear un conjunto de modelos de árboles de decisión. \n",
    "- Esto se logra extrayendo múltiples muestras de arranque del conjunto de datos de entrenamiento y ajustando un árbol de decisión en cada una. \n",
    "- Luego, las predicciones de los árboles de decisión se combinan para proporcionar una predicción más sólida y precisa que un único árbol de decisión (normalmente, pero no siempre).\n",
    "\n",
    "Según para cada tipo de problema:\n",
    "- Las predicciones se hacen para problemas de regresión promediando la predicción entre los árboles de decisión. \n",
    "- Las predicciones para problemas de clasificación se realizan tomando la predicción de voto mayoritario para las clases entre las predicciones realizadas por los árboles de decisión. \n",
    "\n",
    "Los árboles de decisión bagged son efectivos porque cada árbol de decisión se ajusta a un conjunto de datos de entrenamiento ligeramente diferente, lo que a su vez permite que cada árbol tenga diferencias menores y haga predicciones hábiles ligeramente diferentes. Técnicamente decimos que el método es efectivo porque __los árboles tienen una baja correlación entre las predicciones y, a su vez, los errores de predicción__.\n",
    "\n",
    "Se utilizan árboles de decisión, específicamente árboles de decisión no podados, ya que se ajustan ligeramente a los datos de entrenamiento y tienen una gran varianza. Se pueden utilizar otros algoritmos de aprendizaje automático de alta varianza, como un algoritmo KNN con un valor _k_ bajo, aunque los árboles de decisión han demostrado ser los más efectivos.\n",
    "\n",
    "Bagging no siempre ofrece una mejora. Para modelos de baja varianza que ya funcionan bien, Bagging puede resultar en una disminución en el rendimiento del modelo.\n",
    "\n",
    "<figure><center>\n",
    "  <img src=\"data/bagging.png\" width=\"450\" height=\"450\" alt=\"Gráfica\">\n",
    "  <figcaption><blockquote>Bagging. Extraída de <a href=\"https://www.geeksforgeeks.org/ml-bagging-classifier/\">Geeksforgeeks</a></blockquote></figcaption>\n",
    "</center></figure>"
   ]
  },
  {
   "cell_type": "markdown",
   "metadata": {},
   "source": [
    "---\n",
    "<div style=\"text-align: right\">\n",
    "<a href=\"#indice\"><font size=5><i class=\"fa fa-arrow-circle-up\" aria-hidden=\"true\" style=\"color:#004D7F\"></i></font></a>\n",
    "</div>\n",
    "\n",
    "---"
   ]
  },
  {
   "cell_type": "markdown",
   "metadata": {},
   "source": [
    "<a id=\"section2\"></a> \n",
    "# <font color=\"#004D7F\"> 2. Bagging según el tipo de problema</font>"
   ]
  },
  {
   "cell_type": "markdown",
   "metadata": {},
   "source": [
    "<a id=\"section21\"></a> \n",
    "## <font color=\"#004D7F\"> 2.1. Bagging para Clasificación</font>"
   ]
  },
  {
   "cell_type": "markdown",
   "metadata": {},
   "source": [
    "En esta sección, veremos el uso de Bagging para un problema de clasificación. "
   ]
  },
  {
   "cell_type": "markdown",
   "metadata": {},
   "source": [
    "<a id=\"section211\"></a> \n",
    "### <font color=\"#004D7F\"> 2.1.1. Dataset</font>"
   ]
  },
  {
   "cell_type": "markdown",
   "metadata": {},
   "source": [
    "Primero, podemos usar la función `make_classification()` para crear un problema de clasificación binaria sintética con 1000 ejemplos y 20 características de entrada. El ejemplo completo se enumera a continuación."
   ]
  },
  {
   "cell_type": "code",
   "execution_count": 1,
   "metadata": {
    "scrolled": true
   },
   "outputs": [
    {
     "name": "stdout",
     "output_type": "stream",
     "text": [
      "(1000, 20) (1000,)\n"
     ]
    }
   ],
   "source": [
    "from sklearn.datasets import make_classification\n",
    "\n",
    "X, y = make_classification(n_samples=1000, n_features=20, n_informative=15, n_redundant=5, random_state=5)\n",
    "print(X.shape, y.shape)"
   ]
  },
  {
   "cell_type": "markdown",
   "metadata": {},
   "source": [
    "<a id=\"section212\"></a> \n",
    "### <font color=\"#004D7F\"> 2.1.2. Evaluación</font>"
   ]
  },
  {
   "cell_type": "markdown",
   "metadata": {},
   "source": [
    "A continuación, podemos evaluar un algoritmo Bagging en este conjunto de datos. \n",
    "- Evaluaremos el modelo mediante validación cruzada estratificada repetida de _k_ veces, con 3 repeticiones y 10 pliegues. \n",
    "- Informaremos la media y la desviación estándar del accuracy del modelo en todas las repeticiones y pliegues."
   ]
  },
  {
   "cell_type": "markdown",
   "metadata": {},
   "source": [
    "<div class=\"alert alert-block alert-info\">\n",
    "    \n",
    "<i class=\"fa fa-info-circle\" aria-hidden=\"true\"></i> __Nota__: Más información sobre la clase [`BaggingClassifier`](https://scikit-learn.org/stable/modules/generated/sklearn.ensemble.BaggingClassifier.html)\n",
    "</div>"
   ]
  },
  {
   "cell_type": "code",
   "execution_count": 2,
   "metadata": {},
   "outputs": [
    {
     "name": "stdout",
     "output_type": "stream",
     "text": [
      "Accuracy medio: 0.858 (0.041)\n"
     ]
    }
   ],
   "source": [
    "from numpy import mean\n",
    "from numpy import std\n",
    "from sklearn.model_selection import cross_val_score\n",
    "from sklearn.model_selection import RepeatedStratifiedKFold\n",
    "from sklearn.ensemble import BaggingClassifier\n",
    "\n",
    "# definir el modelo model\n",
    "model = BaggingClassifier()\n",
    "# definir el procedimiento de evaluación\n",
    "cv = RepeatedStratifiedKFold(n_splits=10, n_repeats=3, random_state=1)\n",
    "# evaluación del modelo\n",
    "n_scores = cross_val_score(model, X, y, scoring='accuracy', cv=cv, n_jobs=-1)\n",
    "\n",
    "print('Accuracy medio: %.3f (%.3f)' % (mean(n_scores), std(n_scores)))"
   ]
  },
  {
   "cell_type": "markdown",
   "metadata": {},
   "source": [
    "<div class=\"alert alert-block alert-info\">\n",
    "    \n",
    "<i class=\"fa fa-info-circle\" aria-hidden=\"true\"></i> __Nota__: Sus resultados pueden variar dada la naturaleza estocástica del algoritmo o procedimiento de evaluación, o diferencias en la precisión numérica. Considere ejecutar el ejemplo varias veces y comparar el resultado promedio.\n",
    "</div>"
   ]
  },
  {
   "cell_type": "markdown",
   "metadata": {},
   "source": [
    "<a id=\"section213\"></a> \n",
    "### <font color=\"#004D7F\"> 2.1.3. Predicción</font>"
   ]
  },
  {
   "cell_type": "markdown",
   "metadata": {},
   "source": [
    "También podemos utilizar el modelo Bagging como modelo final y hacer predicciones para la clasificación. Primero, el conjunto Bagging se ajusta a todos los datos disponibles, luego se puede llamar a la función `predict()` para hacer predicciones sobre nuevos datos. \n",
    "\n",
    "El siguiente ejemplo demuestra esto en nuestro conjunto de datos de clasificación binaria."
   ]
  },
  {
   "cell_type": "code",
   "execution_count": 4,
   "metadata": {},
   "outputs": [
    {
     "name": "stdout",
     "output_type": "stream",
     "text": [
      "Predicted Class: 1\n"
     ]
    }
   ],
   "source": [
    "from sklearn.ensemble import BaggingClassifier\n",
    "\n",
    "# definir el modelo\n",
    "model = BaggingClassifier()\n",
    "# Entrenar el modelo\n",
    "model.fit(X, y)\n",
    "# realizar la predicción\n",
    "row = [-4.7705504, -1.88685058, -0.96057964, 2.53850317, -6.5843005, 3.45711663, -7.46225013, 2.01338213, -0.45086384, -1.89314931, -2.90675203, -0.21214568, -0.9623956, 3.93862591, 0.06276375, 0.33964269, 4.0835676, 1.31423977, -2.17983117, 3.1047287]\n",
    "yhat = model.predict([row])\n",
    "\n",
    "print('Predicted Class: %d' % yhat[0])"
   ]
  },
  {
   "cell_type": "markdown",
   "metadata": {},
   "source": [
    "<a id=\"section22\"></a> \n",
    "## <font color=\"#004D7F\"> 2.2. Bagging para Regresión</font>"
   ]
  },
  {
   "cell_type": "markdown",
   "metadata": {},
   "source": [
    "En esta sección, veremos el uso de Bagging para un problema de regresión. "
   ]
  },
  {
   "cell_type": "markdown",
   "metadata": {},
   "source": [
    "<a id=\"section221\"></a> \n",
    "### <font color=\"#004D7F\"> 2.2.1. Dataset</font>"
   ]
  },
  {
   "cell_type": "markdown",
   "metadata": {},
   "source": [
    "Primero, podemos usar la función `make_classification()` para crear un problema de regresión sintética con 1000 ejemplos y 20 características de entrada. El ejemplo completo se enumera a continuación."
   ]
  },
  {
   "cell_type": "code",
   "execution_count": 7,
   "metadata": {
    "scrolled": true
   },
   "outputs": [
    {
     "name": "stdout",
     "output_type": "stream",
     "text": [
      "(1000, 20) (1000,)\n"
     ]
    }
   ],
   "source": [
    "from sklearn.datasets import make_regression\n",
    "\n",
    "X, y = make_regression(n_samples=1000, n_features=20, n_informative=15, noise=0.1, random_state=5)\n",
    "print(X.shape, y.shape)"
   ]
  },
  {
   "cell_type": "markdown",
   "metadata": {},
   "source": [
    "<a id=\"section222\"></a> \n",
    "### <font color=\"#004D7F\"> 2.2.2. Evaluación</font>"
   ]
  },
  {
   "cell_type": "markdown",
   "metadata": {},
   "source": [
    "A continuación, podemos evaluar un algoritmo de ensacado en este conjunto de datos. \n",
    "- Evaluaremos el modelo mediante validación cruzada estratificada repetida de _k_ veces, con 3 repeticiones y 10 pliegues. \n",
    "- Informaremos el error absoluto medio (MAE) del modelo en todas las repeticiones y pliegues."
   ]
  },
  {
   "cell_type": "markdown",
   "metadata": {},
   "source": [
    "<div class=\"alert alert-block alert-info\">\n",
    "    \n",
    "<i class=\"fa fa-info-circle\" aria-hidden=\"true\"></i> __Nota__: Más información sobre la clase [`BaggingRegressor`](https://scikit-learn.org/stable/modules/generated/sklearn.ensemble.BaggingRegressor.html#sklearn.ensemble.BaggingRegressor)\n",
    "</div>"
   ]
  },
  {
   "cell_type": "code",
   "execution_count": 8,
   "metadata": {},
   "outputs": [
    {
     "name": "stdout",
     "output_type": "stream",
     "text": [
      "MAE: -102.910 (10.220)\n"
     ]
    }
   ],
   "source": [
    "from numpy import mean\n",
    "from numpy import std\n",
    "from sklearn.model_selection import cross_val_score\n",
    "from sklearn.model_selection import RepeatedKFold\n",
    "from sklearn.ensemble import BaggingRegressor\n",
    "\n",
    "# definir el modelo\n",
    "model = BaggingRegressor()\n",
    "# sistema de entrenamiento\n",
    "cv = RepeatedKFold(n_splits=10, n_repeats=3, random_state=1)\n",
    "# evaluar el modelo\n",
    "n_scores = cross_val_score(model, X, y, scoring='neg_mean_absolute_error', cv=cv, n_jobs=-1)\n",
    "print('MAE: %.3f (%.3f)' % (mean(n_scores), std(n_scores)))"
   ]
  },
  {
   "cell_type": "markdown",
   "metadata": {},
   "source": [
    "<div class=\"alert alert-block alert-info\">\n",
    "    \n",
    "<i class=\"fa fa-info-circle\" aria-hidden=\"true\"></i> __Nota__: La API de scikit-learn invierte el signo del MAE para transformarlo, de minimizar el error a maximizar el error negativo. Esto significa que los errores positivos de gran magnitud se convierten en grandes errores negativos (por ejemplo, 100 se convierte en -100) y un modelo perfecto no tiene ningún error con un valor de 0,0. También significa que podemos ignorar con seguridad el signo de las puntuaciones MAE medias. \n",
    "\n",
    "</div>"
   ]
  },
  {
   "cell_type": "markdown",
   "metadata": {},
   "source": [
    "<div class=\"alert alert-block alert-info\">\n",
    "    \n",
    "<i class=\"fa fa-info-circle\" aria-hidden=\"true\"></i> __Nota__: Sus resultados pueden variar dada la naturaleza estocástica del algoritmo o procedimiento de evaluación, o diferencias en la precisión numérica. Considere ejecutar el ejemplo varias veces y comparar el resultado promedio.\n",
    "</div>"
   ]
  },
  {
   "cell_type": "markdown",
   "metadata": {},
   "source": [
    "<a id=\"section223\"></a> \n",
    "### <font color=\"#004D7F\"> 2.2.3. Predicción</font>"
   ]
  },
  {
   "cell_type": "markdown",
   "metadata": {},
   "source": [
    "También podemos utilizar el modelo Bagging como modelo final y hacer predicciones para la regresión. Primero, el conjunto Bagging se ajusta a todos los datos disponibles, luego se puede llamar a la función `predict()` para hacer predicciones sobre nuevos datos. \n",
    "\n",
    "El siguiente ejemplo demuestra esto en nuestro conjunto de datos de regresión."
   ]
  },
  {
   "cell_type": "code",
   "execution_count": 9,
   "metadata": {},
   "outputs": [
    {
     "name": "stdout",
     "output_type": "stream",
     "text": [
      "Prediction: -141\n"
     ]
    }
   ],
   "source": [
    "from sklearn.ensemble import BaggingRegressor\n",
    "\n",
    "model = BaggingRegressor()\n",
    "model.fit(X, y)\n",
    "row = [0.88950817, -0.93540416, 0.08392824, 0.26438806, -0.52828711, -1.21102238, -0.4499934, 1.47392391, -0.19737726, -0.22252503, 0.02307668, 0.26953276, 0.03572757, -0.51606983, -0.39937452, 1.8121736, -0.00775917, -0.02514283, -0.76089365, 1.58692212]\n",
    "yhat = model.predict([row])\n",
    "print('Prediction: %d' % yhat[0])"
   ]
  },
  {
   "cell_type": "markdown",
   "metadata": {},
   "source": [
    "---\n",
    "<div style=\"text-align: right\">\n",
    "<a href=\"#indice\"><font size=5><i class=\"fa fa-arrow-circle-up\" aria-hidden=\"true\" style=\"color:#004D7F\"></i></font></a>\n",
    "</div>\n",
    "\n",
    "---"
   ]
  },
  {
   "cell_type": "markdown",
   "metadata": {},
   "source": [
    "<a id=\"section3\"></a> \n",
    "# <font color=\"#004D7F\"> 3. Hiperparámetros de Bagging</font>"
   ]
  },
  {
   "cell_type": "markdown",
   "metadata": {},
   "source": [
    "En esta sección, analizaremos más de cerca algunos de los hiperparámetros que debería considerar ajustar para el conjunto Bagging y su efecto en el rendimiento del modelo."
   ]
  },
  {
   "cell_type": "markdown",
   "metadata": {},
   "source": [
    "<a id=\"section31\"></a> \n",
    "## <font color=\"#004D7F\"> 3.1. Número de árboles</font>"
   ]
  },
  {
   "cell_type": "markdown",
   "metadata": {},
   "source": [
    "Normalmente, la cantidad de árboles aumenta hasta que se estabiliza el rendimiento del modelo. \n",
    "- Bagging y los conjuntos relacionados de algoritmos de árboles de decisión (como bosque aleatorio) parecen ser algo inmunes al sobreajuste del conjunto de datos de entrenamiento dada la naturaleza estocástica del algoritmo de\n",
    "aprendizaje. \n",
    "\n",
    "El número de árboles se puede establecer mediante el argumento `n_estimators` y el valor predeterminado es 100.\n",
    "El siguiente ejemplo explora el efecto de la cantidad de árboles con valores entre 10 y 5000."
   ]
  },
  {
   "cell_type": "code",
   "execution_count": 11,
   "metadata": {},
   "outputs": [],
   "source": [
    "from numpy import mean\n",
    "from numpy import std\n",
    "from sklearn.datasets import make_classification\n",
    "from sklearn.model_selection import cross_val_score\n",
    "from sklearn.model_selection import RepeatedStratifiedKFold\n",
    "from sklearn.ensemble import BaggingClassifier\n",
    "from matplotlib import pyplot\n",
    "\n",
    "# dataset\n",
    "def get_dataset():\n",
    "    X, y = make_classification(n_samples=1000, n_features=20, n_informative=15, n_redundant=5, random_state=5)\n",
    "    return X, y"
   ]
  },
  {
   "cell_type": "code",
   "execution_count": 12,
   "metadata": {},
   "outputs": [],
   "source": [
    "# establecer el número de árboles a evaluar\n",
    "def get_models():\n",
    "    models = dict()\n",
    "    # definir el número de árboles a evaluar\n",
    "    n_trees = [10, 50, 100, 500, 1000, 5000]\n",
    "    for n in n_trees:\n",
    "        models[str(n)] = BaggingClassifier(n_estimators=n)\n",
    "    return models"
   ]
  },
  {
   "cell_type": "code",
   "execution_count": 13,
   "metadata": {},
   "outputs": [],
   "source": [
    "# evaluar el modelo con cross-validation\n",
    "def evaluate_model(model, X, y):\n",
    "    # definir el procedimiento de evaluación\n",
    "    cv = RepeatedStratifiedKFold(n_splits=10, n_repeats=3, random_state=1)\n",
    "    # evaluar el modelo\n",
    "    scores = cross_val_score(model, X, y, scoring='accuracy', cv=cv, n_jobs=-1)\n",
    "    return scores"
   ]
  },
  {
   "cell_type": "code",
   "execution_count": 14,
   "metadata": {},
   "outputs": [
    {
     "name": "stdout",
     "output_type": "stream",
     "text": [
      ">10 0.866 (0.039)\n",
      ">50 0.881 (0.037)\n",
      ">100 0.882 (0.036)\n",
      ">500 0.884 (0.039)\n",
      ">1000 0.885 (0.036)\n",
      ">5000 0.885 (0.035)\n"
     ]
    }
   ],
   "source": [
    "# definimos el dataset\n",
    "X, y = get_dataset()\n",
    "# declaramos los modelos a evaluar\n",
    "models = get_models()\n",
    "# evaluar modelos y almacenar resultados\n",
    "results, names = list(), list()\n",
    "for name, model in models.items():\n",
    "    # evaluar el modelo\n",
    "    scores = evaluate_model(model, X, y)\n",
    "    # almacenar los resultados\n",
    "    results.append(scores)\n",
    "    names.append(name)\n",
    "    # resumen del progreso\n",
    "    print('>%s %.3f (%.3f)' % (name, mean(scores), std(scores)))"
   ]
  },
  {
   "cell_type": "code",
   "execution_count": 15,
   "metadata": {},
   "outputs": [
    {
     "data": {
      "image/png": "[encoded data removed]",
      "text/plain": [
       "<Figure size 432x288 with 1 Axes>"
      ]
     },
     "metadata": {
      "needs_background": "light"
     },
     "output_type": "display_data"
    }
   ],
   "source": [
    "pyplot.boxplot(results, labels=names, showmeans=True)\n",
    "pyplot.show()"
   ]
  },
  {
   "cell_type": "markdown",
   "metadata": {},
   "source": [
    "<div class=\"alert alert-block alert-info\">\n",
    "    \n",
    "<i class=\"fa fa-info-circle\" aria-hidden=\"true\"></i> __Nota__: Sus resultados pueden variar dada la naturaleza estocástica del algoritmo o procedimiento de evaluación, o diferencias en la precisión numérica. Considere ejecutar el ejemplo varias veces y comparar el resultado promedio.\n",
    "</div>"
   ]
  },
  {
   "cell_type": "markdown",
   "metadata": {},
   "source": [
    "<a id=\"section32\"></a> \n",
    "## <font color=\"#004D7F\"> 3.2. Número de muestras</font>"
   ]
  },
  {
   "cell_type": "markdown",
   "metadata": {},
   "source": [
    "El tamaño de la muestra de arranque también se puede variar. \n",
    "- El valor predeterminado es crear una muestra de arranque que tenga la misma cantidad de ejemplos que el conjunto de datos original. \n",
    "- El uso de un conjunto de datos más pequeño puede aumentar la varianza de los árboles de decisión resultantes y podría dar como resultado un mejor rendimiento general.\n",
    "- El número de muestras utilizadas para ajustar cada árbol de decisión se establece mediante el argumento `max_samples`. \n",
    "\n",
    "El siguiente ejemplo explora muestras de diferentes tamaños como una proporción del conjunto de datos original del 10% al 100% (el valor predeterminado)."
   ]
  },
  {
   "cell_type": "code",
   "execution_count": 18,
   "metadata": {},
   "outputs": [],
   "source": [
    "from numpy import arange\n",
    "# lista de modelos a evaluar\n",
    "def get_models():\n",
    "    models = dict()\n",
    "    # explorar los ratios de muestras del 10% al 100% en incrementos del 10%\n",
    "    for i in arange(0.1, 1.1, 0.1):\n",
    "        key = '%.1f' % i\n",
    "        models[key] = BaggingClassifier(max_samples=i)\n",
    "    return models"
   ]
  },
  {
   "cell_type": "code",
   "execution_count": 19,
   "metadata": {},
   "outputs": [
    {
     "name": "stdout",
     "output_type": "stream",
     "text": [
      ">0.1 0.823 (0.039)\n",
      ">0.2 0.831 (0.040)\n",
      ">0.3 0.846 (0.039)\n",
      ">0.4 0.844 (0.047)\n",
      ">0.5 0.855 (0.041)\n",
      ">0.6 0.857 (0.037)\n",
      ">0.7 0.858 (0.031)\n",
      ">0.8 0.857 (0.045)\n",
      ">0.9 0.856 (0.039)\n",
      ">1.0 0.857 (0.037)\n"
     ]
    }
   ],
   "source": [
    "# definir el dataset\n",
    "X, y = get_dataset()\n",
    "# obtrenemos los modelos a evaluar\n",
    "models = get_models()\n",
    "# evaluar los modelos\n",
    "results, names = list(), list()\n",
    "for name, model in models.items():\n",
    "    scores = evaluate_model(model, X, y)\n",
    "    results.append(scores)\n",
    "    names.append(name)\n",
    "    print('>%s %.3f (%.3f)' % (name, mean(scores), std(scores)))"
   ]
  },
  {
   "cell_type": "code",
   "execution_count": 9,
   "metadata": {},
   "outputs": [
    {
     "name": "stdout",
     "output_type": "stream",
     "text": [
      ">0.1 0.813 (0.048)\n",
      ">0.2 0.831 (0.037)\n",
      ">0.3 0.843 (0.040)\n",
      ">0.4 0.849 (0.036)\n",
      ">0.5 0.847 (0.037)\n",
      ">0.6 0.859 (0.042)\n",
      ">0.7 0.857 (0.038)\n",
      ">0.8 0.861 (0.038)\n",
      ">0.9 0.866 (0.037)\n",
      ">1.0 0.859 (0.036)\n"
     ]
    },
    {
     "data": {
      "image/png": "[encoded data removed]",
      "text/plain": [
       "<Figure size 640x480 with 1 Axes>"
      ]
     },
     "metadata": {},
     "output_type": "display_data"
    }
   ],
   "source": [
    "pyplot.boxplot(results, labels=names, showmeans=True)\n",
    "pyplot.show()"
   ]
  },
  {
   "cell_type": "markdown",
   "metadata": {},
   "source": [
    "<div class=\"alert alert-block alert-info\">\n",
    "    \n",
    "<i class=\"fa fa-info-circle\" aria-hidden=\"true\"></i> __Nota__: Sus resultados pueden variar dada la naturaleza estocástica del algoritmo o procedimiento de evaluación, o diferencias en la precisión numérica. Considere ejecutar el ejemplo varias veces y comparar el resultado promedio.\n",
    "</div>"
   ]
  },
  {
   "cell_type": "markdown",
   "metadata": {},
   "source": [
    "<a id=\"section33\"></a> \n",
    "## <font color=\"#004D7F\"> 3.3. Algoritmo alternativo</font>"
   ]
  },
  {
   "cell_type": "markdown",
   "metadata": {},
   "source": [
    "Se pueden utilizar otros algoritmos con bagging y se deben configurar para que tengan una varianza modestamente alta. Un ejemplo es el algoritmo KNN donde el valor _k_ se puede establecer en un valor bajo. El algoritmo utilizado en el conjunto se especifica mediante el argumento `estimator` y debe establecerse en una instancia del algoritmo y la configuración del algoritmo que se utilizará.\n",
    "\n",
    "El siguiente ejemplo demuestra el uso de `KNeighborsClassifier` como algoritmo base con el hiperparámetro predeterminados _k_ que es 5."
   ]
  },
  {
   "cell_type": "markdown",
   "metadata": {},
   "source": [
    "<div class=\"alert alert-block alert-info\">\n",
    "    \n",
    "<i class=\"fa fa-info-circle\" aria-hidden=\"true\"></i> __Nota__: Más información sobre la clase [`KNeighborsClassifier`](https://scikit-learn.org/stable/modules/generated/sklearn.neighbors.KNeighborsClassifier.html#sklearn-neighbors-kneighborsclassifier)\n",
    "</div>"
   ]
  },
  {
   "cell_type": "markdown",
   "metadata": {},
   "source": [
    "<div class=\"alert alert-block alert-info\">\n",
    "    \n",
    "<i class=\"fa fa-info-circle\" aria-hidden=\"true\"></i> __Nota__: La libreía no ha sido actualizada a la última versión de Numpy, es por eso que le salen muchos errores tipo warning. Por tanto, tenga en cuenta que le van a salir muchos fallos, no se preocupue, ejecute primero con la versión que tenga y verifique que (aunque se salgan muchos errores tipo warning) obtenga un resultado.  Sin le sale un resultado con `nan` entonces tiene que realizar una instalación a una versión posterior. También le aparecerán varios errores tipo warning seguramente, omítalos y verifique que le salga un accuracy casi al final.\n",
    "</div>"
   ]
  },
  {
   "cell_type": "code",
   "execution_count": null,
   "metadata": {},
   "outputs": [],
   "source": [
    "!pip install \"numpy<1.24.0\""
   ]
  },
  {
   "cell_type": "code",
   "execution_count": 24,
   "metadata": {},
   "outputs": [
    {
     "name": "stdout",
     "output_type": "stream",
     "text": [
      "1.19.1\n"
     ]
    }
   ],
   "source": [
    "import numpy\n",
    "print(numpy.__version__)"
   ]
  },
  {
   "cell_type": "code",
   "execution_count": 25,
   "metadata": {},
   "outputs": [
    {
     "name": "stdout",
     "output_type": "stream",
     "text": [
      "Accuracy medio: 0.886 (0.036)\n"
     ]
    }
   ],
   "source": [
    "from numpy import mean\n",
    "from numpy import std\n",
    "from sklearn.model_selection import cross_val_score\n",
    "from sklearn.model_selection import RepeatedStratifiedKFold\n",
    "from sklearn.neighbors import KNeighborsClassifier\n",
    "from sklearn.ensemble import BaggingClassifier\n",
    "\n",
    "X, y = get_dataset()\n",
    "# definir el modelo\n",
    "model = BaggingClassifier(base_estimator=KNeighborsClassifier())\n",
    "# definir el procedimiento de evaluación\n",
    "cv = RepeatedStratifiedKFold(n_splits=10, n_repeats=3, random_state=1)\n",
    "# evaluar el modelo\n",
    "n_scores = cross_val_score(model, X, y, scoring='accuracy', cv=cv, n_jobs=-1)\n",
    "print('Accuracy medio: %.3f (%.3f)' % (mean(n_scores), std(n_scores)))"
   ]
  },
  {
   "cell_type": "markdown",
   "metadata": {},
   "source": [
    "<div class=\"alert alert-block alert-info\">\n",
    "    \n",
    "<i class=\"fa fa-info-circle\" aria-hidden=\"true\"></i> __Nota__: Sus resultados pueden variar dada la naturaleza estocástica del algoritmo o procedimiento de evaluación, o diferencias en la precisión numérica. Considere ejecutar el ejemplo varias veces y comparar el resultado promedio.\n",
    "</div>"
   ]
  },
  {
   "cell_type": "markdown",
   "metadata": {},
   "source": [
    "<a id=\"section331\"></a> \n",
    "### <font color=\"#004D7F\"> 3.3.1. Valores de _k_ en KNN</font>"
   ]
  },
  {
   "cell_type": "markdown",
   "metadata": {},
   "source": [
    "Podemos probar diferentes valores de _k_ para encontrar el equilibrio correcto de la varianza del modelo para lograr un buen rendimiento como conjunto en bagging. El siguiente ejemplo prueba modelos KNN en bagging con valores de _k_ entre 1 y 20."
   ]
  },
  {
   "cell_type": "code",
   "execution_count": 21,
   "metadata": {},
   "outputs": [],
   "source": [
    "from numpy import mean\n",
    "from numpy import std\n",
    "from sklearn.ensemble import BaggingClassifier\n",
    "from sklearn.neighbors import KNeighborsClassifier\n",
    "from matplotlib import pyplot\n",
    "\n",
    "# get a list of models to evaluate\n",
    "def get_models():\n",
    "    models = dict()\n",
    "    # evaluar k entre 1 y 20 \n",
    "    for i in range(1,21):\n",
    "        # definir el modelo\n",
    "        base = KNeighborsClassifier(n_neighbors=i, n_jobs=-1)\n",
    "        # Definimos el modelo ensembre\n",
    "        models[str(i)] = BaggingClassifier(base_estimator=base, n_jobs=-1)\n",
    "    return models"
   ]
  },
  {
   "cell_type": "code",
   "execution_count": 22,
   "metadata": {},
   "outputs": [
    {
     "name": "stdout",
     "output_type": "stream",
     "text": [
      ">1 0.881 (0.029)\n",
      ">2 0.887 (0.037)\n",
      ">3 0.890 (0.030)\n",
      ">4 0.888 (0.031)\n",
      ">5 0.886 (0.033)\n",
      ">6 0.885 (0.035)\n",
      ">7 0.878 (0.038)\n",
      ">8 0.879 (0.038)\n",
      ">9 0.873 (0.035)\n",
      ">10 0.873 (0.037)\n",
      ">11 0.873 (0.036)\n",
      ">12 0.873 (0.036)\n",
      ">13 0.873 (0.040)\n",
      ">14 0.874 (0.040)\n",
      ">15 0.873 (0.038)\n",
      ">16 0.877 (0.028)\n",
      ">17 0.874 (0.033)\n",
      ">18 0.876 (0.038)\n",
      ">19 0.871 (0.036)\n",
      ">20 0.873 (0.036)\n"
     ]
    }
   ],
   "source": [
    "# definimos el dataset\n",
    "X, y = get_dataset()\n",
    "# obtener los modelos para evaluar\n",
    "models = get_models()\n",
    "# evaluar los modelos y almacenar los resultados\n",
    "results, names = list(), list()\n",
    "for name, model in models.items():\n",
    "    # evaluar el modelo\n",
    "    scores = evaluate_model(model, X, y)\n",
    "    # almacenar los resultados\n",
    "    results.append(scores)\n",
    "    names.append(name)\n",
    "    # resumen del progreso\n",
    "    print('>%s %.3f (%.3f)' % (name, mean(scores), std(scores)))"
   ]
  },
  {
   "cell_type": "code",
   "execution_count": 23,
   "metadata": {},
   "outputs": [
    {
     "data": {
      "image/png": "[encoded data removed]",
      "text/plain": [
       "<Figure size 432x288 with 1 Axes>"
      ]
     },
     "metadata": {
      "needs_background": "light"
     },
     "output_type": "display_data"
    }
   ],
   "source": [
    "pyplot.boxplot(results, labels=names, showmeans=True)\n",
    "pyplot.show()"
   ]
  },
  {
   "cell_type": "markdown",
   "metadata": {},
   "source": [
    "<div class=\"alert alert-block alert-info\">\n",
    "    \n",
    "<i class=\"fa fa-info-circle\" aria-hidden=\"true\"></i> __Nota__: Sus resultados pueden variar dada la naturaleza estocástica del algoritmo o procedimiento de evaluación, o diferencias en la precisión numérica. Considere ejecutar el ejemplo varias veces y comparar el resultado promedio.\n",
    "</div>"
   ]
  },
  {
   "cell_type": "markdown",
   "metadata": {},
   "source": [
    "---\n",
    "<div style=\"text-align: right\">\n",
    "<a href=\"#indice\"><font size=5><i class=\"fa fa-arrow-circle-up\" aria-hidden=\"true\" style=\"color:#004D7F\"></i></font></a>\n",
    "</div>\n",
    "\n",
    "---"
   ]
  },
  {
   "cell_type": "markdown",
   "metadata": {},
   "source": [
    "<a id=\"section4\"></a> \n",
    "# <font color=\"#004D7F\"> 4. Extensiones</font>"
   ]
  },
  {
   "cell_type": "markdown",
   "metadata": {},
   "source": [
    "Esta sección demuestra algunos de estos enfoques, como el _pasting ensemble, random subspace ensemble, y el random patches ensemble_. No estamos comparando los resultados de estas extensiones en el conjunto de datos, sino que proporcionamos ejemplos prácticos de cómo utilizar cada técnica que puede copiar, pegar y probar con su propio conjunto de datos."
   ]
  },
  {
   "cell_type": "markdown",
   "metadata": {},
   "source": [
    "<a id=\"section41\"></a> \n",
    "## <font color=\"#004D7F\"> 4.1. Conjunto Pasting</font>"
   ]
  },
  {
   "cell_type": "markdown",
   "metadata": {},
   "source": [
    "- Pasting Ensemble es una extensión de Bagging que implica ajustar miembros del conjunto basándose en muestras aleatorias del conjunto de datos de entrenamiento en lugar de muestras de arranque. \n",
    "- El enfoque está diseñado para utilizar tamaños de muestra más pequeños que el conjunto de datos de entrenamiento en los casos en que el conjunto de datos de entrenamiento no cabe en la memoria.\n",
    "- El siguiente ejemplo demuestra el ensemble pasting estableciendo el argumento `bootstrap = False` y\n",
    "- Estableciendo el número de muestras utilizadas en el conjunto de datos de entrenamiento a través de `max_samples` en un valor modesto, en este caso, el 50% del tamaño del conjunto de datos de entrenamiento."
   ]
  },
  {
   "cell_type": "code",
   "execution_count": 27,
   "metadata": {},
   "outputs": [
    {
     "name": "stdout",
     "output_type": "stream",
     "text": [
      "Accuracy avg: 0.854 (0.036)\n"
     ]
    }
   ],
   "source": [
    "from numpy import mean\n",
    "from numpy import std\n",
    "from sklearn.model_selection import cross_val_score\n",
    "from sklearn.model_selection import RepeatedStratifiedKFold\n",
    "from sklearn.ensemble import BaggingClassifier\n",
    "\n",
    "X, y = get_dataset()\n",
    "# definir el modelo\n",
    "model = BaggingClassifier(bootstrap=False, max_samples=0.5, n_jobs=-1)\n",
    "# definir el procedimiento de evaluación\n",
    "cv = RepeatedStratifiedKFold(n_splits=10, n_repeats=3, random_state=1)\n",
    "# evaluar el modelo\n",
    "n_scores = cross_val_score(model, X, y, scoring='accuracy', cv=cv, n_jobs=-1)\n",
    "print('Accuracy avg: %.3f (%.3f)' % (mean(n_scores), std(n_scores)))"
   ]
  },
  {
   "cell_type": "markdown",
   "metadata": {},
   "source": [
    "<div class=\"alert alert-block alert-info\">\n",
    "    \n",
    "<i class=\"fa fa-info-circle\" aria-hidden=\"true\"></i> __Nota__: Sus resultados pueden variar dada la naturaleza estocástica del algoritmo o procedimiento de evaluación, o diferencias en la precisión numérica. Considere ejecutar el ejemplo varias veces y comparar el resultado promedio.\n",
    "</div>"
   ]
  },
  {
   "cell_type": "markdown",
   "metadata": {},
   "source": [
    "<a id=\"section42\"></a> \n",
    "## <font color=\"#004D7F\"> 4.2. Conjunto Random Patches</font>"
   ]
  },
  {
   "cell_type": "markdown",
   "metadata": {},
   "source": [
    "E- s una extensión de Bagging que implica ajustar miembros del conjunto en función de conjuntos de datos construidos a partir de subconjuntos aleatorios de filas (muestras) y columnas (características) del conjunto de datos de entrenamiento. \n",
    "- No utiliza muestras de arranque y podría considerarse un conjunto que combina tanto el muestreo aleatorio del conjunto de datos como el muestreo aleatorio de características del conjunto del subespacio aleatorio.\n",
    "- El siguiente ejemplo muestra este modelo con árboles de decisión creados a partir de una muestra aleatoria del conjunto de datos de entrenamiento limitado al 50% del tamaño del conjunto de datos de entrenamiento y con un subconjunto aleatorio de 10 características."
   ]
  },
  {
   "cell_type": "code",
   "execution_count": 28,
   "metadata": {},
   "outputs": [
    {
     "name": "stdout",
     "output_type": "stream",
     "text": [
      "Accuracy medio: 0.849 (0.041)\n"
     ]
    }
   ],
   "source": [
    "from numpy import mean\n",
    "from numpy import std\n",
    "from sklearn.datasets import make_classification\n",
    "from sklearn.model_selection import cross_val_score\n",
    "from sklearn.model_selection import RepeatedStratifiedKFold\n",
    "from sklearn.ensemble import BaggingClassifier\n",
    "\n",
    "# definir el dataset\n",
    "X, y = get_dataset()\n",
    "# definir el modelo\n",
    "model = BaggingClassifier(bootstrap=False, max_samples=0.5, n_jobs=-1, max_features=0.5)\n",
    "# definir el procedimiento de evaluación\n",
    "cv = RepeatedStratifiedKFold(n_splits=10, n_repeats=3, random_state=1)\n",
    "# evaluar el modelo\n",
    "n_scores = cross_val_score(model, X, y, scoring='accuracy', cv=cv, n_jobs=-1)\n",
    "print('Accuracy medio: %.3f (%.3f)' % (mean(n_scores), std(n_scores)))"
   ]
  },
  {
   "cell_type": "markdown",
   "metadata": {},
   "source": [
    "<div class=\"alert alert-block alert-info\">\n",
    "    \n",
    "<i class=\"fa fa-info-circle\" aria-hidden=\"true\"></i> __Nota__: Sus resultados pueden variar dada la naturaleza estocástica del algoritmo o procedimiento de evaluación, o diferencias en la precisión numérica. Considere ejecutar el ejemplo varias veces y comparar el resultado promedio.\n",
    "</div>"
   ]
  },
  {
   "cell_type": "markdown",
   "metadata": {},
   "source": [
    "---\n",
    "<div style=\"text-align: right\">\n",
    "<a href=\"#indice\"><font size=5><i class=\"fa fa-arrow-circle-up\" aria-hidden=\"true\" style=\"color:#004D7F\"></i></font></a>\n",
    "</div>\n",
    "\n",
    "---"
   ]
  },
  {
   "cell_type": "markdown",
   "metadata": {},
   "source": [
    "<a id=\"sectionEj\"></a>\n",
    "<h3><font color=\"#004D7F\" size=6> <i class=\"fa fa-pencil-square-o\" aria-hidden=\"true\" style=\"color:#113D68\"></i> Ejercicios</font></h3>"
   ]
  },
  {
   "cell_type": "markdown",
   "metadata": {},
   "source": [
    "Se proponen las siguientes actividades para consolidar el aprendizaje."
   ]
  },
  {
   "cell_type": "markdown",
   "metadata": {},
   "source": [
    "# <font color=\"#004D7F\" size=5>Ejercicio 1</font>\n",
    "__Hiperparámtros__. Explore diferentes configuraciones para la cantidad de árboles e incluso configuraciones de árbol individuales para ver si puede mejorar aún más los resultados. "
   ]
  },
  {
   "cell_type": "code",
   "execution_count": null,
   "metadata": {},
   "outputs": [],
   "source": []
  },
  {
   "cell_type": "markdown",
   "metadata": {},
   "source": [
    "# <font color=\"#004D7F\" size=5>Ejercicio 2</font>\n",
    "__Bag de otro algoritmo__. Se pueden utilizar otros algoritmos con bagging. Por ejemplo, un algoritmo diferente de _k_-nearest neighbor. Busque alguno que sea adecuado paa este tipo de problemas."
   ]
  },
  {
   "cell_type": "code",
   "execution_count": null,
   "metadata": {},
   "outputs": [],
   "source": []
  },
  {
   "cell_type": "markdown",
   "metadata": {},
   "source": [
    "# <font color=\"#004D7F\" size=5>Ejercicio 3</font>\n",
    "__Problema de Regresión__. Bagging se puede utilizar con árboles de regresión. En lugar de predecir el valor de clase más común del conjunto de predicciones, puede devolver el promedio de las predicciones de los árboles bagging. Experimente con problemas de regresión."
   ]
  },
  {
   "cell_type": "code",
   "execution_count": null,
   "metadata": {},
   "outputs": [],
   "source": []
  },
  {
   "cell_type": "markdown",
   "metadata": {},
   "source": [
    "# <font color=\"#004D7F\" size=5>Ejercicio 4</font>\n",
    "__Datasets reales__. Busque un dataset original y verdadero (que no sea sintético) y evalúe el uso de los conceptos vistos en esta unidad. Los conjuntos de datos en pueden ser obtenidos del [repositorio de aprendizaje automático de UCI](https://archive.ics.uci.edu/)."
   ]
  },
  {
   "cell_type": "code",
   "execution_count": null,
   "metadata": {},
   "outputs": [],
   "source": []
  },
  {
   "cell_type": "markdown",
   "metadata": {},
   "source": [
    "# <font color=\"#004D7F\" size=5>Ejercicio 5</font>\n",
    "__Búsqueda de la mejor configuración__. Como se ha visto existen diferentes hiperparámetros que pueden ajustar nuestro modelo. Haga una búsqueda para un dataset real de cuales, entre un rango amplio de hiperparétros, maximizan la métrica. Puede utilizar una búsqueda aleatoria."
   ]
  },
  {
   "cell_type": "code",
   "execution_count": null,
   "metadata": {},
   "outputs": [],
   "source": []
  },
  {
   "cell_type": "markdown",
   "metadata": {},
   "source": [
    "---\n",
    "\n",
    "<div style=\"text-align: right\">\n",
    "<a href=\"#indice\"><font size=5><i class=\"fa fa-arrow-circle-up\" aria-hidden=\"true\" style=\"color:#004D7F\"></i></font></a>\n",
    "</div>\n",
    "\n",
    "---\n",
    "\n",
    "<div style=\"text-align: right\"> <font size=6><i class=\"fa fa-coffee\" aria-hidden=\"true\" style=\"color:#004D7F\"></i> </font></div>"
   ]
  }
 ],
 "metadata": {
  "kernelspec": {
   "display_name": "Python 3",
   "language": "python",
   "name": "python3"
  },
  "language_info": {
   "codemirror_mode": {
    "name": "ipython",
    "version": 3
   },
   "file_extension": ".py",
   "mimetype": "text/x-python",
   "name": "python",
   "nbconvert_exporter": "python",
   "pygments_lexer": "ipython3",
   "version": "3.7.4"
  }
 },
 "nbformat": 4,
 "nbformat_minor": 4
}
